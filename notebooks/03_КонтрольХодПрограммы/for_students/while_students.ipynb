{
 "cells": [
  {
   "cell_type": "markdown",
   "id": "55d5e219",
   "metadata": {},
   "source": [
    "<div class=\"alert alert-success\">\n",
    "\n",
    "    \n",
    "## Цикл while\n",
    "\n",
    "\n",
    "Очень часто одно и то же действие надо выполнить для набора однотипных данных. Например, преобразовать все строки в списке в верхний регистр. Для выполнения таких действий в Python используется цикл for.\n",
    "\n",
    "Цикл **while** используется в случаях, когда количество итераций цикла неопределено (при неправильном подходе может оказаться и бесконечным)\n",
    "    \n",
    "Синтаксис:\n",
    "\n",
    "    while <условие>:\n",
    "        тело цикла\n",
    "    \n",
    "    \n",
    "</div>"
   ]
  },
  {
   "cell_type": "markdown",
   "id": "43b0cd5e",
   "metadata": {},
   "source": [
    "*Печатать значения, пока их значения меньше 100*"
   ]
  },
  {
   "cell_type": "code",
   "execution_count": 2,
   "id": "c2e0a05a",
   "metadata": {},
   "outputs": [
    {
     "name": "stdout",
     "output_type": "stream",
     "text": [
      "1 2 3 4 5 6 7 8 9 "
     ]
    }
   ],
   "source": [
    "i = 1\n",
    "while i < 10:\n",
    "    print(i, end=' ')\n",
    "    i += 1"
   ]
  },
  {
   "cell_type": "markdown",
   "id": "e94ec8d5",
   "metadata": {},
   "source": [
    "*Заполнять с клавиатуры список строками, пока не будет введена пустая строка*"
   ]
  },
  {
   "cell_type": "code",
   "execution_count": 3,
   "id": "f0959737",
   "metadata": {},
   "outputs": [
    {
     "name": "stdout",
     "output_type": "stream",
     "text": [
      "asd\n",
      "dfg\n",
      "wer\n",
      "wer\n",
      "\n",
      "['asd', 'dfg', 'wer', 'wer']\n"
     ]
    }
   ],
   "source": [
    "my_list = []\n",
    "while True:\n",
    "    my_str = input()\n",
    "    if not(my_str):\n",
    "        break\n",
    "    my_list.append(my_str)\n",
    "print(my_list)\n"
   ]
  },
  {
   "cell_type": "markdown",
   "id": "033f2c12",
   "metadata": {},
   "source": [
    "Сумма чисел из строки\n",
    "\n",
    "С клаватуры вводится последовательность чисел. Окончание ввода - ввод пустого значения. Найти сумму этих чисел."
   ]
  },
  {
   "cell_type": "markdown",
   "id": "74456a97",
   "metadata": {},
   "source": [
    "Операции **continue**, **break**, **else** применяются аналогично for"
   ]
  },
  {
   "cell_type": "code",
   "execution_count": 5,
   "id": "45e9417c",
   "metadata": {},
   "outputs": [
    {
     "name": "stdout",
     "output_type": "stream",
     "text": [
      "12\n",
      "23\n",
      "5.7\n",
      "\n",
      "40.7\n"
     ]
    }
   ],
   "source": [
    "my_list = []\n",
    "s = 0\n",
    "while True:\n",
    "    my_str = input()\n",
    "    if not(my_str):\n",
    "        break\n",
    "    s += float(my_str)\n",
    "print(s)"
   ]
  },
  {
   "cell_type": "code",
   "execution_count": null,
   "id": "5433ca94",
   "metadata": {},
   "outputs": [],
   "source": []
  },
  {
   "cell_type": "markdown",
   "id": "f6f33f5f",
   "metadata": {},
   "source": [
    "### Примеры решения задач"
   ]
  },
  {
   "cell_type": "markdown",
   "id": "c9c51aca",
   "metadata": {},
   "source": [
    "#### Число-перевертыш"
   ]
  },
  {
   "cell_type": "markdown",
   "id": "838b3a06",
   "metadata": {},
   "source": [
    "Дано целое число n, записать его в обратном порядке"
   ]
  },
  {
   "cell_type": "code",
   "execution_count": 8,
   "id": "0330791e",
   "metadata": {},
   "outputs": [
    {
     "name": "stdout",
     "output_type": "stream",
     "text": [
      "[5, 7, 9, 8, 4, 6, 5, 7, 5, 4, 3, 2, 1]\n"
     ]
    }
   ],
   "source": [
    "n = 1234575648975\n",
    "num = []\n",
    "while n > 0:\n",
    "    ost = n % 10\n",
    "    num.append(ost)\n",
    "    n = n // 10\n",
    "print(num)"
   ]
  },
  {
   "cell_type": "code",
   "execution_count": 10,
   "id": "95328da0",
   "metadata": {},
   "outputs": [
    {
     "name": "stdout",
     "output_type": "stream",
     "text": [
      "5798465754321\n"
     ]
    }
   ],
   "source": [
    "n = 1234575648975\n",
    "res = 0\n",
    "while n > 0:\n",
    "    ost = n % 10\n",
    "    res = res * 10 + ost\n",
    "    n = n // 10\n",
    "print(res)"
   ]
  },
  {
   "cell_type": "code",
   "execution_count": 12,
   "id": "7edacd54",
   "metadata": {},
   "outputs": [
    {
     "name": "stdout",
     "output_type": "stream",
     "text": [
      "123456789\n"
     ]
    },
    {
     "data": {
      "text/plain": [
       "987654321"
      ]
     },
     "execution_count": 12,
     "metadata": {},
     "output_type": "execute_result"
    }
   ],
   "source": [
    "int(input()[::-1])"
   ]
  },
  {
   "cell_type": "markdown",
   "id": "2f6f3ae6",
   "metadata": {},
   "source": [
    "#### Тайный агент"
   ]
  },
  {
   "cell_type": "markdown",
   "id": "f4cc1ece",
   "metadata": {},
   "source": [
    "Начальник отдела Яков, с детства читавший книжки про шпионов,  решил пускать на свою страничку в Интернете только тех сотрудников, чьи никнеймы есть в его секретном списке. Каждому он придумал секретное имя.\n",
    "\n",
    "Список такой: Ладор, Фенйог, Древосан, Боронос, Симпано, Змезнай.\n",
    "\n",
    "По мере увеличения штата сотрудников список дополняется.\n",
    "\n",
    "Задача сотрудника Змезная, (а это Вы) такова: написать код, который будет спрашивать у сотрудника его ник и \n",
    "либо пускать на страницу \"Пробонд\" (Просто Бонд) с выводом сообщение «Заходи, {НИК_ПОСЕТИТЕЛЯ}, хвоcта нет?!», \n",
    "либо нет (в этом случае будет такой текст: «Ушел на базу»). \n",
    "Ну что же, у каждого свои странности.\n",
    "\n",
    "Для проверки тайных имен сотрудников использовать встроенную функцию input()."
   ]
  },
  {
   "cell_type": "code",
   "execution_count": null,
   "id": "202201ff",
   "metadata": {},
   "outputs": [],
   "source": []
  },
  {
   "cell_type": "code",
   "execution_count": null,
   "id": "f58e1514",
   "metadata": {},
   "outputs": [],
   "source": []
  }
 ],
 "metadata": {
  "kernelspec": {
   "display_name": "Python 3 (ipykernel)",
   "language": "python",
   "name": "python3"
  },
  "language_info": {
   "codemirror_mode": {
    "name": "ipython",
    "version": 3
   },
   "file_extension": ".py",
   "mimetype": "text/x-python",
   "name": "python",
   "nbconvert_exporter": "python",
   "pygments_lexer": "ipython3",
   "version": "3.9.13"
  },
  "toc": {
   "base_numbering": 1,
   "nav_menu": {},
   "number_sections": true,
   "sideBar": true,
   "skip_h1_title": false,
   "title_cell": "Table of Contents",
   "title_sidebar": "Contents",
   "toc_cell": false,
   "toc_position": {},
   "toc_section_display": true,
   "toc_window_display": false
  }
 },
 "nbformat": 4,
 "nbformat_minor": 5
}
