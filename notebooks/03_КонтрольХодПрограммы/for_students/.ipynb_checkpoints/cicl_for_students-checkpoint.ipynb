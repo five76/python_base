{
 "cells": [
  {
   "cell_type": "markdown",
   "id": "55d5e219",
   "metadata": {},
   "source": [
    "<div class=\"alert alert-success\">\n",
    "\n",
    "    \n",
    "## Цикл for\n",
    "\n",
    "\n",
    "Очень часто одно и то же действие надо выполнить для набора однотипных данных. Например, преобразовать все строки в списке в верхний регистр. Для выполнения таких действий в Python используется цикл for.\n",
    "\n",
    "Цикл for перебирает по одному элементы указанной последовательности и выполняет действия, которые указаны в блоке for, для каждого элемента.\n",
    "\n",
    "Примеры последовательностей элементов, по которым может проходиться цикл for:\n",
    "\n",
    "- строка\n",
    "- список\n",
    "- словарь\n",
    "- Функция range\n",
    "- любой итерируемый объект\n",
    "\n",
    "   <div class=\"alert alert-danger\"> \n",
    "    Для понимания может помочь проект <a href='https://pythontutor.com'> pythontutor </a>. Там имеется визуализация кода, позволяющая увидеть, что происходит на каждом этапе выполнения кода. На сайте pythontutor можно загружать свой код.\n",
    "</div>\n",
    "       \n",
    "Цикл for может работать с любой последовательностью элементов. Например, выше использовался список и цикл перебирал элементы списка. Аналогичным образом for работает с кортежами.\n",
    "    \n",
    "</div>"
   ]
  },
  {
   "cell_type": "markdown",
   "id": "43b0cd5e",
   "metadata": {},
   "source": [
    "*Напечатать элементы списка*"
   ]
  },
  {
   "cell_type": "markdown",
   "id": "a0030a64",
   "metadata": {},
   "source": [
    "Без цикла:"
   ]
  },
  {
   "cell_type": "code",
   "execution_count": 2,
   "id": "c2e0a05a",
   "metadata": {},
   "outputs": [
    {
     "name": "stdout",
     "output_type": "stream",
     "text": [
      "apple\n",
      "banana\n",
      "cherry1\n"
     ]
    }
   ],
   "source": [
    "fruits = [\"apple\", \"banana\", \"cherry1\"]\n",
    "print(fruits[0])\n",
    "print(fruits[1])\n",
    "print(fruits[2])"
   ]
  },
  {
   "cell_type": "markdown",
   "id": "56549bfc",
   "metadata": {},
   "source": [
    "Можно копировать и вставлять, но если строк будет 1000, 10000, 1000000 ..."
   ]
  },
  {
   "cell_type": "markdown",
   "id": "1ee93d80",
   "metadata": {},
   "source": [
    "С использованием цикла:"
   ]
  },
  {
   "cell_type": "code",
   "execution_count": 3,
   "id": "9c522ac5",
   "metadata": {
    "scrolled": true
   },
   "outputs": [
    {
     "name": "stdout",
     "output_type": "stream",
     "text": [
      "apple\n",
      "banana\n",
      "cherry\n"
     ]
    }
   ],
   "source": [
    "fruits = [\"apple\", \"banana\", \"cherry\"]\n",
    "for x in fruits:\n",
    "  print(x)"
   ]
  },
  {
   "cell_type": "markdown",
   "id": "1e14afc5",
   "metadata": {},
   "source": [
    "Можно прочитать это следующим образом: \"Для каждого элемента **x** списка **fruits** применить операцию **print(x)**\".\n",
    "\n",
    "Сначала x принимает значение apple, потом banana и так далее."
   ]
  },
  {
   "cell_type": "markdown",
   "id": "bc847bdc",
   "metadata": {},
   "source": [
    "*Напечатать каждый символ строки отдельно*"
   ]
  },
  {
   "cell_type": "code",
   "execution_count": 4,
   "id": "d3047910",
   "metadata": {},
   "outputs": [
    {
     "name": "stdout",
     "output_type": "stream",
     "text": [
      "b\n",
      "a\n",
      "n\n",
      "a\n",
      "n\n",
      "a\n"
     ]
    }
   ],
   "source": [
    "for x in \"banana\":\n",
    "  print(x, end='\\n')"
   ]
  },
  {
   "cell_type": "code",
   "execution_count": 6,
   "id": "66a5651e",
   "metadata": {},
   "outputs": [
    {
     "name": "stdout",
     "output_type": "stream",
     "text": [
      "b/a/n/a/n/a/"
     ]
    }
   ],
   "source": [
    "for x in \"banana\":\n",
    "  # вывод каждого символа строки с разделителем +\n",
    "  print(x, end='/')"
   ]
  },
  {
   "cell_type": "markdown",
   "id": "8e684213",
   "metadata": {},
   "source": [
    "*Преобразовать первый символ каждой строки в верхний регистр. Преобразованный список сохранить отдельно*"
   ]
  },
  {
   "cell_type": "code",
   "execution_count": 1,
   "id": "167bb148",
   "metadata": {},
   "outputs": [],
   "source": [
    "# исходный список\n",
    "words = ['иванов','петров','сидоров','новиков']\n",
    "# новый список\n",
    "new_words = []\n",
    "\n",
    "\n",
    "\n"
   ]
  },
  {
   "cell_type": "markdown",
   "id": "538751f5",
   "metadata": {},
   "source": [
    "*Вывести список каждого отдела организации*"
   ]
  },
  {
   "cell_type": "code",
   "execution_count": 2,
   "id": "f227fcb2",
   "metadata": {},
   "outputs": [],
   "source": [
    "# Словарь с фамилиями сотрудников отделов\n",
    "dict_staff = {'Отдел сбыта': ['Ильина', \n",
    "                              'Куликов',\n",
    "                              'Сергиенко',\n",
    "                              'Корепин', \n",
    "                              'Климов', \n",
    "                              'Попкова'],\n",
    "             'Вице-президенты':['Гладких'],\n",
    "             'Начальники отделов':['Новиков'],\n",
    "             'Координаторы':['Ожогина']\n",
    "             }\n"
   ]
  },
  {
   "cell_type": "markdown",
   "id": "3bccbd5f",
   "metadata": {},
   "source": [
    "Метод items позволяет проходиться в цикле сразу по паре ключ-значение:"
   ]
  },
  {
   "cell_type": "code",
   "execution_count": 3,
   "id": "a775edae",
   "metadata": {},
   "outputs": [],
   "source": [
    "# Словарь с фамилиями сотрудников отделов\n",
    "dict_staff = {'Отдел сбыта': ['Ильина', \n",
    "                              'Куликов',\n",
    "                              'Сергиенко',\n",
    "                              'Корепин', \n",
    "                              'Климов', \n",
    "                              'Попкова'],\n",
    "             'Вице-президенты':['Гладких'],\n",
    "             'Начальники отделов':['Новиков'],\n",
    "             'Координаторы':['Ожогина']}\n"
   ]
  },
  {
   "cell_type": "markdown",
   "id": "acf430be",
   "metadata": {},
   "source": [
    "## Функция range"
   ]
  },
  {
   "cell_type": "markdown",
   "id": "ae5606c3",
   "metadata": {},
   "source": [
    "Возвращает числовой диапазон\n",
    "     \n",
    "Синтаксис:\n",
    "\n",
    "**range(start,end,step)**\n",
    "\n",
    "**start** - начальное значение диапазона\n",
    "\n",
    "**end** - конечное значение диапазона. **В диапазон не включается**\n",
    "\n",
    "**step** - шаг изменнения (по-умолчанию 1)\n",
    "\n",
    "Формируется диапазон от значения **start** до значения **end-1**.\n",
    "\n",
    "\n",
    "Используется, когда необходимо цикл for применить к числовому промежутку. \n",
    "\n"
   ]
  },
  {
   "cell_type": "code",
   "execution_count": 31,
   "id": "4f2b091f",
   "metadata": {},
   "outputs": [
    {
     "data": {
      "text/plain": [
       "range(0, 9)"
      ]
     },
     "execution_count": 31,
     "metadata": {},
     "output_type": "execute_result"
    }
   ],
   "source": [
    "range(9)"
   ]
  },
  {
   "cell_type": "code",
   "execution_count": 32,
   "id": "6ac5c4d5",
   "metadata": {},
   "outputs": [
    {
     "name": "stdout",
     "output_type": "stream",
     "text": [
      "0\n",
      "1\n",
      "2\n"
     ]
    }
   ],
   "source": [
    "# За начальное значение диапазона берется 0\n",
    "for i in range(3):\n",
    "    print(i)\n"
   ]
  },
  {
   "cell_type": "code",
   "execution_count": 33,
   "id": "e9823ca4",
   "metadata": {},
   "outputs": [
    {
     "name": "stdout",
     "output_type": "stream",
     "text": [
      "23\n",
      "24\n",
      "25\n"
     ]
    }
   ],
   "source": [
    "for i in range(23, 26):\n",
    "    print(i)"
   ]
  },
  {
   "cell_type": "code",
   "execution_count": 37,
   "id": "b221ad52",
   "metadata": {},
   "outputs": [
    {
     "name": "stdout",
     "output_type": "stream",
     "text": [
      "1 3 5 7 9 "
     ]
    }
   ],
   "source": [
    "# Печать диапазона с шагом 2\n",
    "for i in range(1, 10, 2):\n",
    "    print(i, end=' ')"
   ]
  },
  {
   "cell_type": "markdown",
   "id": "a21d4738",
   "metadata": {},
   "source": [
    "### Примеры использования range"
   ]
  },
  {
   "cell_type": "markdown",
   "id": "4bd4363d",
   "metadata": {},
   "source": [
    "При использовании оператора **in**  в цикле мы можем работать только с тем экземпляром итерируемого объекта, на который он указывает. А если необходимо использовать индексы, то нужно брать range."
   ]
  },
  {
   "cell_type": "markdown",
   "id": "f405babd",
   "metadata": {},
   "source": [
    "*Напечатать индексы четных элементов*"
   ]
  },
  {
   "cell_type": "code",
   "execution_count": 4,
   "id": "89235db1",
   "metadata": {},
   "outputs": [],
   "source": [
    "# Исходный список\n",
    "df = [1, 4, 5, 7, 9, 8, 2, 4]\n",
    "# Пустой список для четных индексов\n",
    "even_indexes = []\n",
    "\n",
    "\n"
   ]
  },
  {
   "cell_type": "markdown",
   "id": "be682f9b",
   "metadata": {},
   "source": [
    "*Из заданной строки сформировать новую, где каждый символ есть максимальный символ среди соседей символа в исходной строке.*\n",
    "\n",
    "Вход: ромашка\n",
    "Выход: ррошшшк"
   ]
  },
  {
   "cell_type": "code",
   "execution_count": 59,
   "id": "1b773c93",
   "metadata": {
    "scrolled": false
   },
   "outputs": [
    {
     "name": "stdout",
     "output_type": "stream",
     "text": [
      "Введите строку: ромашка\n",
      "ррошшшк\n"
     ]
    }
   ],
   "source": [
    "input_string = input('Введите строку: ')\n",
    "# Длина строки\n",
    "count_chars = len(input_string)\n",
    "output_string = ''\n",
    "# Цикл для диапазона индексов от 0 до длина строки-1\n",
    "for index in range(0,count_chars):\n",
    "    # Если индекс от 1 до предпоследнего\n",
    "    if index > 0 and index < count_chars-1:\n",
    "        # Вычислить максимальный среди окружающих\n",
    "        s = max(input_string[index],input_string[index-1],input_string[index+1])\n",
    "        output_string += s\n",
    "    # Если индекс равен 0, то сравниваем с соседом справа\n",
    "    elif index == 0:\n",
    "        s = max(input_string[index],input_string[index+1])\n",
    "        output_string += s\n",
    "    else:\n",
    "        # Иначе сравниваем с соседом слева\n",
    "        s = max(input_string[index],input_string[index-1])\n",
    "        output_string += s\n",
    "print(output_string)"
   ]
  },
  {
   "cell_type": "markdown",
   "id": "66357614",
   "metadata": {},
   "source": [
    "## Вложенные циклы"
   ]
  },
  {
   "cell_type": "markdown",
   "id": "7c27d348",
   "metadata": {},
   "source": [
    "Вложенный цикл - это цикл внутри цикла.\n",
    "\n",
    "\"Внутренний цикл\" будет выполняться один раз для каждой итерации \"внешнего цикла\".:"
   ]
  },
  {
   "cell_type": "code",
   "execution_count": 62,
   "id": "fcc19b38",
   "metadata": {},
   "outputs": [
    {
     "name": "stdout",
     "output_type": "stream",
     "text": [
      "красный   яблоко\n",
      "красный   банан\n",
      "красный   вишня\n",
      "красный   киви\n",
      "большой   яблоко\n",
      "большой   банан\n",
      "большой   вишня\n",
      "большой   киви\n",
      "вкусный   яблоко\n",
      "вкусный   банан\n",
      "вкусный   вишня\n",
      "вкусный   киви\n",
      "зрелый   яблоко\n",
      "зрелый   банан\n",
      "зрелый   вишня\n",
      "зрелый   киви\n"
     ]
    }
   ],
   "source": [
    "adj = [\"красный\", \"большой\", \"вкусный\", \"зрелый\"]\n",
    "fruits = [\"яблоко\", \"банан\", \"вишня\", \"киви\"]\n",
    "\n",
    "for a in adj:\n",
    "    for f in fruits:\n",
    "        print(a,' ', f)\n"
   ]
  },
  {
   "cell_type": "markdown",
   "id": "cfd89d69",
   "metadata": {},
   "source": [
    "*Напечатать таблицу умножения для чисел от 2 до 5*"
   ]
  },
  {
   "cell_type": "code",
   "execution_count": 5,
   "id": "7cf2d1ba",
   "metadata": {},
   "outputs": [],
   "source": [
    "                    # относится к циклу по x"
   ]
  },
  {
   "cell_type": "markdown",
   "id": "fbfd1336",
   "metadata": {},
   "source": [
    "### Прерывание цикла: break"
   ]
  },
  {
   "cell_type": "markdown",
   "id": "9fe61827",
   "metadata": {},
   "source": [
    "Используется в случае принудительного выхода из цикла"
   ]
  },
  {
   "cell_type": "code",
   "execution_count": 64,
   "id": "0a6d05a5",
   "metadata": {},
   "outputs": [
    {
     "name": "stdout",
     "output_type": "stream",
     "text": [
      "apple\n",
      "Game over\n"
     ]
    }
   ],
   "source": [
    "fruits = [\"apple\", \"banana\", \"cherry\"]\n",
    "for x in fruits:\n",
    "    #Если элемент равен 'banana', то прервать цикл\n",
    "    if x == \"banana\":\n",
    "        break\n",
    "    print(x)  \n",
    "print('Game over')"
   ]
  },
  {
   "cell_type": "markdown",
   "id": "c776c449",
   "metadata": {},
   "source": [
    "### Пропуск части цикла: continue"
   ]
  },
  {
   "cell_type": "markdown",
   "id": "d03c6e85",
   "metadata": {},
   "source": [
    "Используется в случае необходимости принудительно начать следующий шаг цикла, пропустив часть строк в его теле. "
   ]
  },
  {
   "cell_type": "code",
   "execution_count": 65,
   "id": "de578455",
   "metadata": {},
   "outputs": [
    {
     "name": "stdout",
     "output_type": "stream",
     "text": [
      "apple\n",
      "cherry\n"
     ]
    }
   ],
   "source": [
    "fruits = [\"apple\", \"banana\", \"cherry\"]\n",
    "for x in fruits:\n",
    "    # Если элемент равен 'banana', то не выполнять дальнейшие инструкции цикла, \n",
    "    # а перейти к обработке следующего элемента\n",
    "    if x == \"banana\":\n",
    "        continue\n",
    "    print(x)"
   ]
  },
  {
   "cell_type": "markdown",
   "id": "c13b9fc1",
   "metadata": {},
   "source": [
    "*Из диапазона от 1 до 10 включительно вывести только те числа, которые не делятся ни на 2, ни на 3.*\n",
    "\n",
    "Пояснение: В данном примере надо пропускать числа, которые делятся на 2 и 3"
   ]
  },
  {
   "cell_type": "code",
   "execution_count": 72,
   "id": "866938bd",
   "metadata": {},
   "outputs": [
    {
     "name": "stdout",
     "output_type": "stream",
     "text": [
      "1\n",
      "5\n",
      "7\n"
     ]
    }
   ],
   "source": [
    "for i in range(1, 11):\n",
    "    if i % 2 == 0 or i % 3 == 0:\n",
    "        continue\n",
    "    print(i)"
   ]
  },
  {
   "cell_type": "markdown",
   "id": "f74e6f25",
   "metadata": {},
   "source": [
    "## else в цикле"
   ]
  },
  {
   "cell_type": "markdown",
   "id": "d8a9a905",
   "metadata": {},
   "source": [
    "else-код выполнится после того, как пройдут все витки цикла"
   ]
  },
  {
   "cell_type": "code",
   "execution_count": 55,
   "id": "388bbef3",
   "metadata": {},
   "outputs": [
    {
     "name": "stdout",
     "output_type": "stream",
     "text": [
      "apple\n",
      "cherry\n",
      "orange\n",
      "Успешное окончание цикла. Все итерации выполнены\n",
      "Программа окончена\n"
     ]
    }
   ],
   "source": [
    "fruits = [\"apple\", \"cherry\",\"orange\"]\n",
    "for x in fruits:\n",
    "    # Если элемент равен 'banana', то прервать цикл\n",
    "    if x == \"banana\":\n",
    "        break\n",
    "    print(x)\n",
    "else:\n",
    "    print('Успешное окончание цикла. Все итерации выполнены')\n",
    "print('Программа окончена')"
   ]
  },
  {
   "cell_type": "markdown",
   "id": "d1af33c0",
   "metadata": {},
   "source": [
    "В данном примере **break** не выполнился, поэтому ветка **else** выполнилась. В случае срабатывания **break**, else не выполняется.\n"
   ]
  },
  {
   "cell_type": "code",
   "execution_count": 57,
   "id": "b3497df2",
   "metadata": {},
   "outputs": [
    {
     "name": "stdout",
     "output_type": "stream",
     "text": [
      "apple\n",
      "cherry\n",
      "Программа окончена\n"
     ]
    }
   ],
   "source": [
    "fruits = [\"apple\", \"cherry\", \"banana\", \"orange\"]\n",
    "for x in fruits:\n",
    "    # Если элемент равен 'banana', то прервать цикл\n",
    "    if x == \"banana\":\n",
    "        break\n",
    "    print(x)\n",
    "else:\n",
    "    print('Успешное окончание цикла. Все итерации выполнены')\n",
    "print('Программа окончена')"
   ]
  },
  {
   "cell_type": "markdown",
   "id": "c9f0723e",
   "metadata": {},
   "source": [
    "## Примеры решения задач"
   ]
  },
  {
   "cell_type": "markdown",
   "id": "b2f407ec",
   "metadata": {},
   "source": [
    "### Cписок целых чисел"
   ]
  },
  {
   "cell_type": "markdown",
   "id": "8f04adc0",
   "metadata": {},
   "source": [
    "Имеется список из целых чисел. \n",
    "Необходимо создать новый список, в котором содержатся только те числа, которые больше 5 по модулю."
   ]
  },
  {
   "cell_type": "code",
   "execution_count": 6,
   "id": "41b48ca8",
   "metadata": {},
   "outputs": [],
   "source": [
    "my_list = [23, 4, -9, 7, -12, -3]\n"
   ]
  },
  {
   "cell_type": "markdown",
   "id": "85311fb9",
   "metadata": {},
   "source": [
    "### Верхний регистр"
   ]
  },
  {
   "cell_type": "markdown",
   "id": "930bbebd",
   "metadata": {},
   "source": [
    "В заданной строке все символы английского алфвита перевести в верхний регистр\n",
    "\n",
    " "
   ]
  },
  {
   "cell_type": "markdown",
   "id": "02771290",
   "metadata": {},
   "source": [
    "Ввод: Сетевая карта устройства имеет mac-адрес aa12:456d:fe43"
   ]
  },
  {
   "cell_type": "markdown",
   "id": "9287f4f3",
   "metadata": {},
   "source": [
    "Вывод: Сетевая карта устройства имеет MAC-адрес AA12:456D:FE43"
   ]
  },
  {
   "cell_type": "markdown",
   "id": "5a60e930",
   "metadata": {},
   "source": [
    "### Список сотрудников"
   ]
  },
  {
   "cell_type": "markdown",
   "id": "4bf90e2f",
   "metadata": {},
   "source": [
    "Вывести Фамилию, инициалы и год рождения сотрудников, которые родились в 20 веке"
   ]
  },
  {
   "cell_type": "markdown",
   "id": "66820e69",
   "metadata": {},
   "source": [
    "Ввод: Глуховская Виталия Брониславовна, 21.01.1983 Вывод: Глуховская В. Б. - 1983"
   ]
  },
  {
   "cell_type": "code",
   "execution_count": 77,
   "id": "6134a4ec",
   "metadata": {},
   "outputs": [],
   "source": [
    "dict_empl = {'gvb': 'Глуховская Виталия Брониславовна, 21.01.1983',\n",
    "             'nvf': 'Наумов Валентин Филатович, 12.05.2000', \n",
    "             'sga': 'Солопов Григорий Анатольевич, 11.11.1972',\n",
    "             'mla':'Моисеева Лера Абрамовна, 05.06.2001'\n",
    "            }"
   ]
  },
  {
   "cell_type": "markdown",
   "id": "e50a0a1b",
   "metadata": {},
   "source": [
    "### Операция \"Ы\""
   ]
  },
  {
   "cell_type": "markdown",
   "id": "449bf160",
   "metadata": {},
   "source": [
    "Случайным образом распределить арестованных на 15 суток граждан по требуемым видам работ. Нераспределенные граждане отправляются на уборку территории."
   ]
  },
  {
   "cell_type": "code",
   "execution_count": 4,
   "id": "32b05103",
   "metadata": {},
   "outputs": [],
   "source": [
    "prisoners = ['Алкоголик_1', 'Тунеядец_1','Хулиган_1',\n",
    "             'Алкоголик_2', 'Тунеядец_2','Хулиган_2',\n",
    "            'Алкоголик_3', 'Тунеядец_3','Хулиган_3',\n",
    "            'Алкоголик_4', 'Тунеядец_4','Хулиган_4'\n",
    "            ]"
   ]
  },
  {
   "cell_type": "code",
   "execution_count": 5,
   "id": "72d37913",
   "metadata": {},
   "outputs": [],
   "source": [
    "work_orders = {'Песчаный карьер': 2, \n",
    "               'Цементный завод': 3,\n",
    "               'Погрузка угля':2,\n",
    "               'Уборка конюшен':1,\n",
    "               'Мясокомбинат': 0\n",
    "              }"
   ]
  },
  {
   "cell_type": "markdown",
   "id": "b55b04a0",
   "metadata": {},
   "source": [
    "### \"Переводчик\""
   ]
  },
  {
   "cell_type": "markdown",
   "id": "90c31c1a",
   "metadata": {},
   "source": [
    "Сотрудники часто забывают переключать клавиатуру с ангийской раскладки на русскую. А так как не все владеют \"слепым\" методом печати, то обнаруживается это, когда набрана половина страницы текста. Поэтому они попросили сотрудника **<ваше_имя>**, разбирающегося в программировании, создать скрипт, восстанавливающий русский текст. Очень накладно все время перепечатывать."
   ]
  },
  {
   "cell_type": "markdown",
   "id": "6cc38eee",
   "metadata": {},
   "source": [
    "### Делители *"
   ]
  },
  {
   "cell_type": "markdown",
   "id": "4c576d65",
   "metadata": {},
   "source": [
    "Работники аналитического отдела в свободное время не курят, а решают на спор разные математические задачи.\n",
    "Сегодня на спор искали все делители случайных чисел. Для простых примеров решения находились быстро (для числа 6 это: 1, 2, 3, 6; а для числа 16 это: 1, 2, 4, 8, 16). Но когда начались примеры посерьезнее, то опять без сотудника, разбирающегося в программировании <ваше имя> не обошлось.\n",
    "\n",
    "Варианты посложнее были, например такие: 23456, 150194200, 25604557902344\n",
    "\n",
    "Вручную решить сложновато. Составьте скрипт для решения. Результат представьте в виде списка, отсортированного по возрастанию."
   ]
  }
 ],
 "metadata": {
  "kernelspec": {
   "display_name": "Python 3 (ipykernel)",
   "language": "python",
   "name": "python3"
  },
  "language_info": {
   "codemirror_mode": {
    "name": "ipython",
    "version": 3
   },
   "file_extension": ".py",
   "mimetype": "text/x-python",
   "name": "python",
   "nbconvert_exporter": "python",
   "pygments_lexer": "ipython3",
   "version": "3.9.13"
  },
  "toc": {
   "base_numbering": 1,
   "nav_menu": {},
   "number_sections": true,
   "sideBar": true,
   "skip_h1_title": false,
   "title_cell": "Table of Contents",
   "title_sidebar": "Contents",
   "toc_cell": false,
   "toc_position": {},
   "toc_section_display": true,
   "toc_window_display": false
  }
 },
 "nbformat": 4,
 "nbformat_minor": 5
}
