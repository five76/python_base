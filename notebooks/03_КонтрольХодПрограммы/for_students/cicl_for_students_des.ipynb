{
 "cells": [
  {
   "cell_type": "markdown",
   "id": "55d5e219",
   "metadata": {},
   "source": [
    "<div class=\"alert alert-success\">\n",
    "\n",
    "    \n",
    "## Цикл for\n",
    "\n",
    "\n",
    "Очень часто одно и то же действие надо выполнить для набора однотипных данных. Например, преобразовать все строки в списке в верхний регистр. Для выполнения таких действий в Python используется цикл for.\n",
    "\n",
    "Цикл for перебирает по одному элементы указанной последовательности и выполняет действия, которые указаны в блоке for, для каждого элемента.\n",
    "\n",
    "Примеры последовательностей элементов, по которым может проходиться цикл for:\n",
    "\n",
    "- строка\n",
    "- список\n",
    "- словарь\n",
    "- Функция range\n",
    "- любой итерируемый объект\n",
    "\n",
    "   <div class=\"alert alert-danger\"> \n",
    "    Для понимания может помочь проект <a href='https://pythontutor.com'> pythontutor </a>. Там имеется визуализация кода, позволяющая увидеть, что происходит на каждом этапе выполнения кода. На сайте pythontutor можно загружать свой код.\n",
    "</div>\n",
    "       \n",
    "Цикл for может работать с любой последовательностью элементов. Например, выше использовался список и цикл перебирал элементы списка. Аналогичным образом for работает с кортежами.\n",
    "    \n",
    "</div>"
   ]
  },
  {
   "cell_type": "markdown",
   "id": "3a0c7ba5",
   "metadata": {},
   "source": [
    "for x in <послед>:\n",
    "\n",
    "    тело_цикла"
   ]
  },
  {
   "cell_type": "markdown",
   "id": "43b0cd5e",
   "metadata": {},
   "source": [
    "*Напечатать элементы списка*"
   ]
  },
  {
   "cell_type": "markdown",
   "id": "a0030a64",
   "metadata": {},
   "source": [
    "Без цикла:"
   ]
  },
  {
   "cell_type": "code",
   "execution_count": 9,
   "id": "c2e0a05a",
   "metadata": {},
   "outputs": [
    {
     "name": "stdout",
     "output_type": "stream",
     "text": [
      "apple\n",
      "banana\n",
      "cherry\n"
     ]
    }
   ],
   "source": [
    "fruits = [\"apple\", \"banana\", \"cherry\"]\n",
    "print(fruits[0])\n",
    "print(fruits[1])\n",
    "print(fruits[2])"
   ]
  },
  {
   "cell_type": "markdown",
   "id": "56549bfc",
   "metadata": {},
   "source": [
    "Можно копировать и вставлять, но если строк будет 1000, 10000, 1000000 ..."
   ]
  },
  {
   "cell_type": "markdown",
   "id": "1ee93d80",
   "metadata": {},
   "source": [
    "С использованием цикла:"
   ]
  },
  {
   "cell_type": "code",
   "execution_count": 10,
   "id": "9c522ac5",
   "metadata": {
    "scrolled": true
   },
   "outputs": [
    {
     "name": "stdout",
     "output_type": "stream",
     "text": [
      "apple\n",
      "banana\n",
      "cherry\n"
     ]
    }
   ],
   "source": [
    "fruits = [\"apple\", \"banana\", \"cherry\"]\n",
    "for x in fruits:\n",
    "    print(x)"
   ]
  },
  {
   "cell_type": "markdown",
   "id": "1e14afc5",
   "metadata": {},
   "source": [
    "Можно прочитать это следующим образом: \"Для каждого элемента **x** списка **fruits** применить операцию **print(x)**\".\n",
    "\n",
    "Сначала x принимает значение apple, потом banana и так далее."
   ]
  },
  {
   "cell_type": "code",
   "execution_count": 12,
   "id": "dbb2feda",
   "metadata": {},
   "outputs": [
    {
     "name": "stdout",
     "output_type": "stream",
     "text": [
      "Введите строку: Jupe\n",
      "Введите строку: Note\n",
      "Введите строку: Python\n",
      "['Jupe', 'Note', 'Python']\n",
      "JUPE\n",
      "NOTE\n",
      "PYTHON\n"
     ]
    }
   ],
   "source": [
    "my_list = []\n",
    "\n",
    "for line in range(3):\n",
    "    my_list.append(input('Введите строку: '))\n",
    "\n",
    "print(my_list)\n",
    "\n",
    "for el in my_list:\n",
    "    print(el.upper())"
   ]
  },
  {
   "cell_type": "code",
   "execution_count": null,
   "id": "dbcbca03",
   "metadata": {},
   "outputs": [],
   "source": []
  },
  {
   "cell_type": "code",
   "execution_count": null,
   "id": "b805ef83",
   "metadata": {},
   "outputs": [],
   "source": []
  },
  {
   "cell_type": "markdown",
   "id": "bc847bdc",
   "metadata": {},
   "source": [
    "*Напечатать каждый символ строки отдельно*"
   ]
  },
  {
   "cell_type": "code",
   "execution_count": 15,
   "id": "d3047910",
   "metadata": {},
   "outputs": [
    {
     "name": "stdout",
     "output_type": "stream",
     "text": [
      "b\n",
      "a\n",
      "n\n",
      "a\n",
      "n\n",
      "a\n"
     ]
    }
   ],
   "source": [
    "for x in \"banana\":\n",
    "    print(x, end='\\n')"
   ]
  },
  {
   "cell_type": "code",
   "execution_count": 20,
   "id": "66a5651e",
   "metadata": {},
   "outputs": [
    {
     "name": "stdout",
     "output_type": "stream",
     "text": [
      "b*a*n*a*n*a*"
     ]
    }
   ],
   "source": [
    "simv = '*'\n",
    "for x in \"banana\":\n",
    "  # вывод каждого символа строки с разделителем +\n",
    "  print(x, end=simv)"
   ]
  },
  {
   "cell_type": "markdown",
   "id": "8e684213",
   "metadata": {},
   "source": [
    "*Преобразовать первый символ каждой строки в верхний регистр. Преобразованный список сохранить отдельно*"
   ]
  },
  {
   "cell_type": "code",
   "execution_count": 23,
   "id": "167bb148",
   "metadata": {},
   "outputs": [
    {
     "name": "stdout",
     "output_type": "stream",
     "text": [
      "['Иванов', 'Петров', 'Сидоров', 'Новиков']\n"
     ]
    }
   ],
   "source": [
    "# исходный список\n",
    "words = ['иванов','петров','сидоров','новиков']\n",
    "# новый список\n",
    "new_words = []\n",
    "for fam in words:\n",
    "    new_words.append(fam.capitalize())\n",
    "print(new_words)"
   ]
  },
  {
   "cell_type": "markdown",
   "id": "538751f5",
   "metadata": {},
   "source": [
    "*Вывести список каждого отдела организации*"
   ]
  },
  {
   "cell_type": "code",
   "execution_count": 26,
   "id": "f227fcb2",
   "metadata": {},
   "outputs": [
    {
     "name": "stdout",
     "output_type": "stream",
     "text": [
      "Отдел сбыта\n",
      "-----------\n",
      "['Ильина', 'Куликов', 'Сергиенко', 'Корепин', 'Климов', 'Попкова']\n",
      "\n",
      "Вице-президенты\n",
      "---------------\n",
      "['Гладких']\n",
      "\n",
      "Начальники отделов\n",
      "------------------\n",
      "['Новиков']\n",
      "\n",
      "Координаторы\n",
      "------------\n",
      "['Ожогина']\n",
      "\n"
     ]
    }
   ],
   "source": [
    "# Словарь с фамилиями сотрудников отделов\n",
    "dict_staff = {'Отдел сбыта': ['Ильина', \n",
    "                              'Куликов',\n",
    "                              'Сергиенко',\n",
    "                              'Корепин', \n",
    "                              'Климов', \n",
    "                              'Попкова'],\n",
    "             'Вице-президенты':['Гладких'],\n",
    "             'Начальники отделов':['Новиков'],\n",
    "             'Координаторы':['Ожогина']\n",
    "             }\n",
    "\n",
    "for otdel in dict_staff.keys():\n",
    "    print(otdel)\n",
    "    print('-' * len(otdel))\n",
    "    print(dict_staff[otdel])\n",
    "    print()\n"
   ]
  },
  {
   "cell_type": "code",
   "execution_count": 27,
   "id": "43dc7c46",
   "metadata": {},
   "outputs": [],
   "source": [
    "dict_staff['Координаторы'].append('Иванов')"
   ]
  },
  {
   "cell_type": "code",
   "execution_count": 28,
   "id": "e1312952",
   "metadata": {},
   "outputs": [
    {
     "name": "stdout",
     "output_type": "stream",
     "text": [
      "Отдел сбыта\n",
      "-----------\n",
      "['Ильина', 'Куликов', 'Сергиенко', 'Корепин', 'Климов', 'Попкова']\n",
      "\n",
      "Вице-президенты\n",
      "---------------\n",
      "['Гладких']\n",
      "\n",
      "Начальники отделов\n",
      "------------------\n",
      "['Новиков']\n",
      "\n",
      "Координаторы\n",
      "------------\n",
      "['Ожогина', 'Иванов']\n",
      "\n"
     ]
    }
   ],
   "source": [
    "for otdel in dict_staff.keys():\n",
    "    print(otdel)\n",
    "    print('-' * len(otdel))\n",
    "    print(dict_staff[otdel])\n",
    "    print()"
   ]
  },
  {
   "cell_type": "code",
   "execution_count": null,
   "id": "d39d18ac",
   "metadata": {},
   "outputs": [],
   "source": []
  },
  {
   "cell_type": "code",
   "execution_count": null,
   "id": "8d5c595d",
   "metadata": {},
   "outputs": [],
   "source": []
  },
  {
   "cell_type": "code",
   "execution_count": null,
   "id": "df49576b",
   "metadata": {},
   "outputs": [],
   "source": []
  },
  {
   "cell_type": "code",
   "execution_count": 30,
   "id": "c300c4ab",
   "metadata": {},
   "outputs": [
    {
     "name": "stdout",
     "output_type": "stream",
     "text": [
      "Отдел сбыта\n",
      "-----------\n",
      "Ильина\n",
      "Куликов\n",
      "Сергиенко\n",
      "Корепин\n",
      "Климов\n",
      "Попкова\n",
      "\n",
      "Вице-президенты\n",
      "---------------\n",
      "Гладких\n",
      "\n",
      "Начальники отделов\n",
      "------------------\n",
      "Новиков\n",
      "\n",
      "Координаторы\n",
      "------------\n",
      "Ожогина\n",
      "Иванов\n",
      "\n"
     ]
    }
   ],
   "source": [
    "for otdel in dict_staff.keys():\n",
    "    # Печатать ключ (наименование отдела)\n",
    "    print(otdel) \n",
    "    print('-' * len(otdel))\n",
    "    # Печатать значение из словаря (список отдела)\n",
    "    for empl in dict_staff[otdel]:\n",
    "        print(empl)\n",
    "    print()"
   ]
  },
  {
   "cell_type": "markdown",
   "id": "3bccbd5f",
   "metadata": {},
   "source": [
    "Метод items позволяет проходиться в цикле сразу по паре ключ-значение:"
   ]
  },
  {
   "cell_type": "code",
   "execution_count": 32,
   "id": "a775edae",
   "metadata": {},
   "outputs": [
    {
     "name": "stdout",
     "output_type": "stream",
     "text": [
      "Отдел сбыта\n",
      "-----------\n",
      "Ильина\n",
      "Куликов\n",
      "Сергиенко\n",
      "Корепин\n",
      "Климов\n",
      "Попкова\n",
      "\n",
      "Вице-президенты\n",
      "---------------\n",
      "Гладких\n",
      "\n",
      "Начальники отделов\n",
      "------------------\n",
      "Новиков\n",
      "\n",
      "Координаторы\n",
      "------------\n",
      "Ожогина\n",
      "\n"
     ]
    }
   ],
   "source": [
    "# Словарь с фамилиями сотрудников отделов\n",
    "dict_staff = {'Отдел сбыта': ['Ильина', \n",
    "                              'Куликов',\n",
    "                              'Сергиенко',\n",
    "                              'Корепин', \n",
    "                              'Климов', \n",
    "                              'Попкова'],\n",
    "             'Вице-президенты':['Гладких'],\n",
    "             'Начальники отделов':['Новиков'],\n",
    "             'Координаторы':['Ожогина']}\n",
    "\n",
    "for title, list_empl in dict_staff.items():\n",
    "    # Печатать ключ (наименование отдела)\n",
    "    print(title) \n",
    "    print('-' * len(title))\n",
    "    # Печатать значение из словаря (список отдела)\n",
    "    for empl in list_empl:\n",
    "        print(empl)\n",
    "    print()"
   ]
  },
  {
   "cell_type": "code",
   "execution_count": 35,
   "id": "676ae077",
   "metadata": {},
   "outputs": [
    {
     "name": "stdout",
     "output_type": "stream",
     "text": [
      "63\n"
     ]
    }
   ],
   "source": [
    "my_list = [10,20,33]\n",
    "print(sum(my_list))"
   ]
  },
  {
   "cell_type": "code",
   "execution_count": 36,
   "id": "a1af84ea",
   "metadata": {},
   "outputs": [
    {
     "name": "stdout",
     "output_type": "stream",
     "text": [
      "63\n",
      "21.0\n"
     ]
    }
   ],
   "source": [
    "my_sum = 0\n",
    "for x in my_list:\n",
    "    my_sum += x # my_sum = my_sum + x\n",
    "print(my_sum)\n",
    "print(my_sum / len(my_list))"
   ]
  },
  {
   "cell_type": "markdown",
   "id": "acf430be",
   "metadata": {},
   "source": [
    "## Функция range"
   ]
  },
  {
   "cell_type": "markdown",
   "id": "ae5606c3",
   "metadata": {},
   "source": [
    "Возвращает числовой диапазон\n",
    "     \n",
    "Синтаксис:\n",
    "\n",
    "**range(start,end,step)**\n",
    "\n",
    "**start** - начальное значение диапазона\n",
    "\n",
    "**end** - конечное значение диапазона. **В диапазон не включается**\n",
    "\n",
    "**step** - шаг изменнения (по-умолчанию 1)\n",
    "\n",
    "Формируется диапазон от значения **start** до значения **end-1**.\n",
    "\n",
    "\n",
    "Используется, когда необходимо цикл for применить к числовому промежутку. \n",
    "\n"
   ]
  },
  {
   "cell_type": "code",
   "execution_count": 37,
   "id": "4f2b091f",
   "metadata": {},
   "outputs": [
    {
     "data": {
      "text/plain": [
       "range(0, 9)"
      ]
     },
     "execution_count": 37,
     "metadata": {},
     "output_type": "execute_result"
    }
   ],
   "source": [
    "range(9)"
   ]
  },
  {
   "cell_type": "code",
   "execution_count": 40,
   "id": "1f2315a1",
   "metadata": {},
   "outputs": [
    {
     "data": {
      "text/plain": [
       "[1, 2, 3, 4, 5, 6, 7, 8, 9, 10]"
      ]
     },
     "execution_count": 40,
     "metadata": {},
     "output_type": "execute_result"
    }
   ],
   "source": [
    "list(range(1,11))"
   ]
  },
  {
   "cell_type": "code",
   "execution_count": 45,
   "id": "6ac5c4d5",
   "metadata": {},
   "outputs": [
    {
     "name": "stdout",
     "output_type": "stream",
     "text": [
      "0,1,2,3,4,5,6,7,8,9,10,11,12,13,14,15,16,17,18,19,20,21,22,23,24,25,26,27,28,29,30,31,32,33,34,35,36,37,38,39,40,41,42,43,44,45,46,47,48,49,50,51,52,53,54,55,56,57,58,59,60,61,62,63,64,65,66,67,68,69,70,71,72,73,74,75,76,77,78,79,80,81,82,83,84,85,86,87,88,89,90,91,92,93,94,95,96,97,98,99,100,"
     ]
    }
   ],
   "source": [
    "# За начальное значение диапазона берется 0\n",
    "for i in range(101):\n",
    "    print(i, end=',')\n"
   ]
  },
  {
   "cell_type": "code",
   "execution_count": 33,
   "id": "e9823ca4",
   "metadata": {},
   "outputs": [
    {
     "name": "stdout",
     "output_type": "stream",
     "text": [
      "23\n",
      "24\n",
      "25\n"
     ]
    }
   ],
   "source": [
    "for i in range(23, 26):\n",
    "    print(i)"
   ]
  },
  {
   "cell_type": "code",
   "execution_count": 37,
   "id": "b221ad52",
   "metadata": {},
   "outputs": [
    {
     "name": "stdout",
     "output_type": "stream",
     "text": [
      "1 3 5 7 9 "
     ]
    }
   ],
   "source": [
    "# Печать диапазона с шагом 2\n",
    "for i in range(1, 10, 2):\n",
    "    print(i, end=' ')"
   ]
  },
  {
   "cell_type": "markdown",
   "id": "a21d4738",
   "metadata": {},
   "source": [
    "### Примеры использования range"
   ]
  },
  {
   "cell_type": "markdown",
   "id": "4bd4363d",
   "metadata": {},
   "source": [
    "При использовании оператора **in**  в цикле мы можем работать только с тем экземпляром итерируемого объекта, на который он указывает. А если необходимо использовать индексы, то нужно брать range."
   ]
  },
  {
   "cell_type": "markdown",
   "id": "f405babd",
   "metadata": {},
   "source": [
    "*Напечатать индексы четных элементов*"
   ]
  },
  {
   "cell_type": "code",
   "execution_count": 46,
   "id": "89235db1",
   "metadata": {},
   "outputs": [
    {
     "name": "stdout",
     "output_type": "stream",
     "text": [
      "[1, 5, 6, 7]\n"
     ]
    }
   ],
   "source": [
    "# Исходный список\n",
    "df = [1, 4, 5, 7, 9, 8, 2, 4]\n",
    "# Пустой список для четных индексов\n",
    "even_indexes = []\n",
    "\n",
    "for index in range(0,len(df)):\n",
    "    if not(df[index] % 2):\n",
    "        even_indexes.append(index)\n",
    "print(even_indexes)"
   ]
  },
  {
   "cell_type": "code",
   "execution_count": 47,
   "id": "94138f3c",
   "metadata": {},
   "outputs": [
    {
     "name": "stdout",
     "output_type": "stream",
     "text": [
      "4\n",
      "8\n",
      "2\n",
      "4\n"
     ]
    }
   ],
   "source": [
    "for ind in even_indexes:\n",
    "    print(df[ind])"
   ]
  },
  {
   "cell_type": "markdown",
   "id": "be682f9b",
   "metadata": {},
   "source": [
    "*Из заданной строки сформировать новую, где каждый символ есть максимальный символ среди соседей символа в исходной строке.*\n",
    "\n",
    "Вход: ромашка\n",
    "\n",
    "Выход: ррошшшк"
   ]
  },
  {
   "cell_type": "code",
   "execution_count": 49,
   "id": "1b773c93",
   "metadata": {
    "scrolled": false
   },
   "outputs": [
    {
     "name": "stdout",
     "output_type": "stream",
     "text": [
      "Введите строку: алгоритм\n",
      "ллоррттт\n"
     ]
    }
   ],
   "source": [
    "input_string = input('Введите строку: ')\n",
    "# Длина строки\n",
    "count_chars = len(input_string)\n",
    "output_string = ''\n",
    "\n",
    "# Цикл для диапазона индексов от 0 до длина строки-1\n",
    "for index in range(0,count_chars):\n",
    "    # Если индекс от 1 до предпоследнего\n",
    "    if index > 0 and index < count_chars-1:\n",
    "        # Вычислить максимальный среди окружающих\n",
    "        s = max(input_string[index],input_string[index-1],input_string[index+1])\n",
    "        output_string += s\n",
    "    # Если индекс равен 0, то сравниваем с соседом справа\n",
    "    elif index == 0:\n",
    "        s = max(input_string[index],input_string[index+1])\n",
    "        output_string += s\n",
    "    else:\n",
    "        # Иначе сравниваем с соседом слева\n",
    "        s = max(input_string[index],input_string[index-1])\n",
    "        output_string += s\n",
    "        \n",
    "print(output_string)"
   ]
  },
  {
   "cell_type": "markdown",
   "id": "66357614",
   "metadata": {},
   "source": [
    "## Вложенные циклы"
   ]
  },
  {
   "cell_type": "markdown",
   "id": "7c27d348",
   "metadata": {},
   "source": [
    "Вложенный цикл - это цикл внутри цикла.\n",
    "\n",
    "\"Внутренний цикл\" будет выполняться один раз для каждой итерации \"внешнего цикла\".:"
   ]
  },
  {
   "cell_type": "code",
   "execution_count": 12,
   "id": "fcc19b38",
   "metadata": {},
   "outputs": [
    {
     "name": "stdout",
     "output_type": "stream",
     "text": [
      "красный   яблоко\n",
      "красный   банан\n",
      "красный   вишня\n",
      "красный   киви\n",
      "большой   яблоко\n",
      "большой   банан\n",
      "большой   вишня\n",
      "большой   киви\n",
      "вкусный   яблоко\n",
      "вкусный   банан\n",
      "вкусный   вишня\n",
      "вкусный   киви\n",
      "зрелый   яблоко\n",
      "зрелый   банан\n",
      "зрелый   вишня\n",
      "зрелый   киви\n"
     ]
    }
   ],
   "source": [
    "adj = [\"красный\", \"большой\", \"вкусный\", \"зрелый\"]\n",
    "fruits = [\"яблоко\", \"банан\", \"вишня\", \"киви\"]\n",
    "\n",
    "for a in adj:\n",
    "    for f in fruits:\n",
    "        print(a,' ', f)\n"
   ]
  },
  {
   "cell_type": "markdown",
   "id": "cfd89d69",
   "metadata": {},
   "source": [
    "*Напечатать таблицу умножения для чисел от 2 до 5*"
   ]
  },
  {
   "cell_type": "code",
   "execution_count": 52,
   "id": "d17af7fa",
   "metadata": {},
   "outputs": [
    {
     "name": "stdout",
     "output_type": "stream",
     "text": [
      "2*1 = 2\n",
      "2*2 = 4\n",
      "2*3 = 6\n",
      "2*4 = 8\n",
      "2*5 = 10\n",
      "2*6 = 12\n",
      "2*7 = 14\n",
      "2*8 = 16\n",
      "2*9 = 18\n",
      "----------\n",
      "3*1 = 3\n",
      "3*2 = 6\n",
      "3*3 = 9\n",
      "3*4 = 12\n",
      "3*5 = 15\n",
      "3*6 = 18\n",
      "3*7 = 21\n",
      "3*8 = 24\n",
      "3*9 = 27\n",
      "----------\n",
      "4*1 = 4\n",
      "4*2 = 8\n",
      "4*3 = 12\n",
      "4*4 = 16\n",
      "4*5 = 20\n",
      "4*6 = 24\n",
      "4*7 = 28\n",
      "4*8 = 32\n",
      "4*9 = 36\n",
      "----------\n",
      "5*1 = 5\n",
      "5*2 = 10\n",
      "5*3 = 15\n",
      "5*4 = 20\n",
      "5*5 = 25\n",
      "5*6 = 30\n",
      "5*7 = 35\n",
      "5*8 = 40\n",
      "5*9 = 45\n",
      "----------\n",
      "6*1 = 6\n",
      "6*2 = 12\n",
      "6*3 = 18\n",
      "6*4 = 24\n",
      "6*5 = 30\n",
      "6*6 = 36\n",
      "6*7 = 42\n",
      "6*8 = 48\n",
      "6*9 = 54\n",
      "----------\n",
      "7*1 = 7\n",
      "7*2 = 14\n",
      "7*3 = 21\n",
      "7*4 = 28\n",
      "7*5 = 35\n",
      "7*6 = 42\n",
      "7*7 = 49\n",
      "7*8 = 56\n",
      "7*9 = 63\n",
      "----------\n",
      "8*1 = 8\n",
      "8*2 = 16\n",
      "8*3 = 24\n",
      "8*4 = 32\n",
      "8*5 = 40\n",
      "8*6 = 48\n",
      "8*7 = 56\n",
      "8*8 = 64\n",
      "8*9 = 72\n",
      "----------\n",
      "9*1 = 9\n",
      "9*2 = 18\n",
      "9*3 = 27\n",
      "9*4 = 36\n",
      "9*5 = 45\n",
      "9*6 = 54\n",
      "9*7 = 63\n",
      "9*8 = 72\n",
      "9*9 = 81\n",
      "----------\n"
     ]
    }
   ],
   "source": [
    "for x in range(2,10):\n",
    "    for y in range(1,10):\n",
    "        print(f'{x}*{y} = {x*y}')\n",
    "    print('-' * 10)"
   ]
  },
  {
   "cell_type": "markdown",
   "id": "fbfd1336",
   "metadata": {},
   "source": [
    "### Прерывание цикла: break"
   ]
  },
  {
   "cell_type": "markdown",
   "id": "9fe61827",
   "metadata": {},
   "source": [
    "Используется в случае принудительного выхода из цикла"
   ]
  },
  {
   "cell_type": "code",
   "execution_count": 53,
   "id": "0a6d05a5",
   "metadata": {},
   "outputs": [
    {
     "name": "stdout",
     "output_type": "stream",
     "text": [
      "apple\n",
      "Game over\n"
     ]
    }
   ],
   "source": [
    "fruits = [\"apple\", \"banana\", \"cherry\"]\n",
    "for x in fruits:\n",
    "    #Если элемент равен 'banana', то прервать цикл\n",
    "    if x == \"banana\":\n",
    "        break\n",
    "    print(x)  \n",
    "print('Game over')"
   ]
  },
  {
   "cell_type": "markdown",
   "id": "c776c449",
   "metadata": {},
   "source": [
    "### Пропуск части цикла: continue"
   ]
  },
  {
   "cell_type": "markdown",
   "id": "d03c6e85",
   "metadata": {},
   "source": [
    "Используется в случае необходимости принудительно начать следующий шаг цикла, пропустив часть строк в его теле. "
   ]
  },
  {
   "cell_type": "code",
   "execution_count": 65,
   "id": "de578455",
   "metadata": {},
   "outputs": [
    {
     "name": "stdout",
     "output_type": "stream",
     "text": [
      "apple\n",
      "cherry\n"
     ]
    }
   ],
   "source": [
    "fruits = [\"apple\", \"banana\", \"cherry\"]\n",
    "for x in fruits:\n",
    "    # Если элемент равен 'banana', то не выполнять дальнейшие инструкции цикла, \n",
    "    # а перейти к обработке следующего элемента\n",
    "    if x == \"banana\":\n",
    "        continue\n",
    "    print(x)"
   ]
  },
  {
   "cell_type": "markdown",
   "id": "c13b9fc1",
   "metadata": {},
   "source": [
    "*Из диапазона от 1 до 10 включительно вывести только те числа, которые не делятся ни на 2, ни на 3.*\n",
    "\n",
    "Пояснение: В данном примере надо пропускать числа, которые делятся на 2 и 3"
   ]
  },
  {
   "cell_type": "code",
   "execution_count": 24,
   "id": "866938bd",
   "metadata": {},
   "outputs": [
    {
     "name": "stdout",
     "output_type": "stream",
     "text": [
      "1\n",
      "5\n",
      "7\n"
     ]
    }
   ],
   "source": [
    "for i in range(1, 11):\n",
    "    if i % 2 == 0 or i % 3 == 0:\n",
    "        continue\n",
    "    print(i)"
   ]
  },
  {
   "cell_type": "markdown",
   "id": "f74e6f25",
   "metadata": {},
   "source": [
    "## else в цикле"
   ]
  },
  {
   "cell_type": "markdown",
   "id": "d8a9a905",
   "metadata": {},
   "source": [
    "else-код выполнится после того, как пройдут все витки цикла"
   ]
  },
  {
   "cell_type": "code",
   "execution_count": 55,
   "id": "388bbef3",
   "metadata": {},
   "outputs": [
    {
     "name": "stdout",
     "output_type": "stream",
     "text": [
      "apple\n",
      "cherry\n",
      "Программа окончена\n"
     ]
    }
   ],
   "source": [
    "fruits = [\"apple\", \"cherry\",\"banana\",\"orange\"]\n",
    "for x in fruits:\n",
    "    # Если элемент равен 'banana', то прервать цикл\n",
    "    if x == \"banana\":\n",
    "        \n",
    "        break\n",
    "    print(x)\n",
    "else:\n",
    "    print('Успешное окончание цикла. Все итерации выполнены')\n",
    "print('Программа окончена')"
   ]
  },
  {
   "cell_type": "markdown",
   "id": "d1af33c0",
   "metadata": {},
   "source": [
    "В данном примере **break** не выполнился, поэтому ветка **else** выполнилась. В случае срабатывания **break**, else не выполняется.\n"
   ]
  },
  {
   "cell_type": "code",
   "execution_count": 57,
   "id": "b3497df2",
   "metadata": {},
   "outputs": [
    {
     "name": "stdout",
     "output_type": "stream",
     "text": [
      "apple\n",
      "cherry\n",
      "Программа окончена\n"
     ]
    }
   ],
   "source": [
    "fruits = [\"apple\", \"cherry\", \"banana\", \"orange\"]\n",
    "for x in fruits:\n",
    "    # Если элемент равен 'banana', то прервать цикл\n",
    "    if x == \"banana\":\n",
    "        break\n",
    "    print(x)\n",
    "else:\n",
    "    print('Успешное окончание цикла. Все итерации выполнены')\n",
    "print('Программа окончена')"
   ]
  },
  {
   "cell_type": "markdown",
   "id": "c9f0723e",
   "metadata": {},
   "source": [
    "## Примеры решения задач"
   ]
  },
  {
   "cell_type": "markdown",
   "id": "b2f407ec",
   "metadata": {},
   "source": [
    "### Cписок целых чисел"
   ]
  },
  {
   "cell_type": "markdown",
   "id": "8f04adc0",
   "metadata": {},
   "source": [
    "Имеется список из целых чисел. \n",
    "Необходимо создать новый список, в котором содержатся только те числа, которые больше 5 по модулю."
   ]
  },
  {
   "cell_type": "code",
   "execution_count": 56,
   "id": "41b48ca8",
   "metadata": {},
   "outputs": [],
   "source": [
    "my_list = [23, 4, -9, 7, -12, -3]\n"
   ]
  },
  {
   "cell_type": "code",
   "execution_count": 58,
   "id": "6d7766a9",
   "metadata": {},
   "outputs": [
    {
     "data": {
      "text/plain": [
       "7"
      ]
     },
     "execution_count": 58,
     "metadata": {},
     "output_type": "execute_result"
    }
   ],
   "source": [
    "abs(-7)"
   ]
  },
  {
   "cell_type": "code",
   "execution_count": 61,
   "id": "1028147f",
   "metadata": {},
   "outputs": [
    {
     "name": "stdout",
     "output_type": "stream",
     "text": [
      "[23, -9, 7, -12]\n"
     ]
    }
   ],
   "source": [
    "new_list = []\n",
    "for x in my_list:\n",
    "    if abs(x) > 5:\n",
    "        new_list.append(x)\n",
    "print(new_list)"
   ]
  },
  {
   "cell_type": "code",
   "execution_count": 62,
   "id": "5f13b79c",
   "metadata": {},
   "outputs": [
    {
     "name": "stdout",
     "output_type": "stream",
     "text": [
      "[23, -9, 7, -12]\n"
     ]
    }
   ],
   "source": [
    "my_list = [23, 4, -9, 7, -12, -3]\n",
    "new_list = []\n",
    "for num in my_list:\n",
    "    if abs(num)>5:\n",
    "        new_list.append(num)\n",
    "print(new_list)"
   ]
  },
  {
   "cell_type": "markdown",
   "id": "85311fb9",
   "metadata": {},
   "source": [
    "### Верхний регистр"
   ]
  },
  {
   "cell_type": "markdown",
   "id": "930bbebd",
   "metadata": {},
   "source": [
    "В заданной строке все символы английского алфвита перевести в верхний регистр\n",
    "\n",
    " "
   ]
  },
  {
   "cell_type": "markdown",
   "id": "02771290",
   "metadata": {},
   "source": [
    "Ввод: Сетевая карта устройства имеет mac-адрес aa12:456d:fe43"
   ]
  },
  {
   "cell_type": "markdown",
   "id": "9287f4f3",
   "metadata": {},
   "source": [
    "Вывод: Сетевая карта устройства имеет MAC-адрес AA12:456D:FE43"
   ]
  },
  {
   "cell_type": "code",
   "execution_count": 63,
   "id": "32272a7d",
   "metadata": {},
   "outputs": [
    {
     "data": {
      "text/plain": [
       "97"
      ]
     },
     "execution_count": 63,
     "metadata": {},
     "output_type": "execute_result"
    }
   ],
   "source": [
    "ord('a')"
   ]
  },
  {
   "cell_type": "code",
   "execution_count": 64,
   "id": "8e9afe96",
   "metadata": {},
   "outputs": [
    {
     "data": {
      "text/plain": [
       "122"
      ]
     },
     "execution_count": 64,
     "metadata": {},
     "output_type": "execute_result"
    }
   ],
   "source": [
    "ord('z')"
   ]
  },
  {
   "cell_type": "code",
   "execution_count": 67,
   "id": "d84eaaa1",
   "metadata": {},
   "outputs": [
    {
     "name": "stdout",
     "output_type": "stream",
     "text": [
      "Сетевая карта устройства имеет MAC-адрес AA12:456D:FE43\n"
     ]
    }
   ],
   "source": [
    "input_string = 'Сетевая карта устройства имеет mac-адрес aa12:456d:fe43'\n",
    "result = ''\n",
    "for ch in input_string:\n",
    "    if ord(ch) >= 97 and ord(ch) <= 122:\n",
    "        result += ch.upper()\n",
    "        continue\n",
    "    result += ch\n",
    "print(result)"
   ]
  },
  {
   "cell_type": "markdown",
   "id": "5a60e930",
   "metadata": {},
   "source": [
    "### Список сотрудников"
   ]
  },
  {
   "cell_type": "markdown",
   "id": "4bf90e2f",
   "metadata": {},
   "source": [
    "Вывести Фамилию, инициалы и год рождения сотрудников, которые родились в 20 веке"
   ]
  },
  {
   "cell_type": "markdown",
   "id": "66820e69",
   "metadata": {},
   "source": [
    "Ввод: Глуховская Виталия Брониславовна, 21.01.1983 \n",
    "\n",
    "Вывод: Глуховская В. Б. - 1983"
   ]
  },
  {
   "cell_type": "code",
   "execution_count": 2,
   "id": "6134a4ec",
   "metadata": {},
   "outputs": [],
   "source": [
    "dict_empl = {'gvb': 'Глуховская Виталия Брониславовна, 21.01.1983',\n",
    "             'nvf': 'Наумов Валентин Филатович, 12.05.2000', \n",
    "             'sga': 'Солопов Григорий Анатольевич, 11.11.1972',\n",
    "             'mla':'Моисеева Лера Абрамовна, 05.06.2001'\n",
    "            }\n"
   ]
  },
  {
   "cell_type": "code",
   "execution_count": 3,
   "id": "e9f1c2c0",
   "metadata": {},
   "outputs": [
    {
     "name": "stdout",
     "output_type": "stream",
     "text": [
      "Глуховская В. Б. - 1983\n",
      "Солопов Г. А. - 1972\n"
     ]
    }
   ],
   "source": [
    "for i in dict_empl.values():\n",
    "    year = i[-4:]\n",
    "    if int(year) < 2000:\n",
    "        fio = i.split()\n",
    "        print(f'{fio[0]} {fio[1][:1]}. {fio[2][:1]}. - {year}')"
   ]
  },
  {
   "cell_type": "markdown",
   "id": "e50a0a1b",
   "metadata": {},
   "source": [
    "### Операция \"Ы\""
   ]
  },
  {
   "cell_type": "markdown",
   "id": "449bf160",
   "metadata": {},
   "source": [
    "Случайным образом распределить арестованных на 15 суток граждан по требуемым видам работ. Нераспределенные граждане отправляются на уборку территории."
   ]
  },
  {
   "cell_type": "code",
   "execution_count": 30,
   "id": "631fd338",
   "metadata": {},
   "outputs": [
    {
     "name": "stdout",
     "output_type": "stream",
     "text": [
      "[2, 4, 1, 5, 3]\n"
     ]
    }
   ],
   "source": [
    "import random\n",
    "my_list = [1, 2, 3, 4, 5]\n",
    "random.shuffle(my_list)\n",
    "print(my_list)"
   ]
  },
  {
   "cell_type": "code",
   "execution_count": 31,
   "id": "32b05103",
   "metadata": {},
   "outputs": [],
   "source": [
    "prisoners = ['Алкоголик_1', 'Тунеядец_1','Хулиган_1',\n",
    "             'Алкоголик_2', 'Тунеядец_2','Хулиган_2',\n",
    "            'Алкоголик_3', 'Тунеядец_3','Хулиган_3',\n",
    "            'Алкоголик_4', 'Тунеядец_4','Хулиган_4'\n",
    "            ]"
   ]
  },
  {
   "cell_type": "code",
   "execution_count": 32,
   "id": "72d37913",
   "metadata": {},
   "outputs": [],
   "source": [
    "work_orders = {'Песчаный карьер': 2, \n",
    "               'Цементный завод': 3,\n",
    "               'Погрузка угля': 2,\n",
    "               'Уборка конюшен': 1,\n",
    "               'Мясокомбинат': 0\n",
    "              }"
   ]
  },
  {
   "cell_type": "code",
   "execution_count": 33,
   "id": "563e8fce",
   "metadata": {},
   "outputs": [
    {
     "name": "stdout",
     "output_type": "stream",
     "text": [
      "{'Алкоголик_1': 'Песчаный карьер',\n",
      " 'Алкоголик_2': 'Уборка территории',\n",
      " 'Алкоголик_3': 'Уборка территории',\n",
      " 'Алкоголик_4': 'Уборка территории',\n",
      " 'Тунеядец_1': 'Погрузка угля',\n",
      " 'Тунеядец_2': 'Цементный завод',\n",
      " 'Тунеядец_3': 'Цементный завод',\n",
      " 'Тунеядец_4': 'Цементный завод',\n",
      " 'Хулиган_1': 'Погрузка угля',\n",
      " 'Хулиган_2': 'Уборка территории',\n",
      " 'Хулиган_3': 'Песчаный карьер',\n",
      " 'Хулиган_4': 'Уборка конюшен'}\n"
     ]
    }
   ],
   "source": [
    "from pprint import pprint\n",
    "pr_work = dict.fromkeys(prisoners,'Уборка территории')\n",
    "random.shuffle(prisoners)\n",
    "for work in work_orders.items():   \n",
    "    for kolvo in range(0,work[1]):\n",
    "        pr_work[prisoners.pop()] = work[0]\n",
    "pprint(pr_work)"
   ]
  },
  {
   "cell_type": "code",
   "execution_count": 34,
   "id": "33377bd0",
   "metadata": {},
   "outputs": [],
   "source": [
    "pr_work = dict.fromkeys(prisoners,'Уборка территории')"
   ]
  },
  {
   "cell_type": "code",
   "execution_count": 35,
   "id": "e8392328",
   "metadata": {},
   "outputs": [
    {
     "data": {
      "text/plain": [
       "{'Алкоголик_2': 'Уборка территории',\n",
       " 'Алкоголик_3': 'Уборка территории',\n",
       " 'Хулиган_2': 'Уборка территории',\n",
       " 'Алкоголик_4': 'Уборка территории'}"
      ]
     },
     "execution_count": 35,
     "metadata": {},
     "output_type": "execute_result"
    }
   ],
   "source": [
    "pr_work"
   ]
  },
  {
   "cell_type": "code",
   "execution_count": 36,
   "id": "1510c1c8",
   "metadata": {},
   "outputs": [],
   "source": [
    "random.shuffle(prisoners)"
   ]
  },
  {
   "cell_type": "code",
   "execution_count": 37,
   "id": "87eb0a15",
   "metadata": {},
   "outputs": [
    {
     "data": {
      "text/plain": [
       "['Алкоголик_3', 'Хулиган_2', 'Алкоголик_2', 'Алкоголик_4']"
      ]
     },
     "execution_count": 37,
     "metadata": {},
     "output_type": "execute_result"
    }
   ],
   "source": [
    "prisoners"
   ]
  },
  {
   "cell_type": "code",
   "execution_count": 29,
   "id": "c427a024",
   "metadata": {},
   "outputs": [
    {
     "name": "stdout",
     "output_type": "stream",
     "text": [
      "Песчаный карьер 2\n",
      "Цементный завод 3\n",
      "Погрузка угля 2\n",
      "Уборка конюшен 1\n",
      "Мясокомбинат 0\n"
     ]
    }
   ],
   "source": []
  },
  {
   "cell_type": "code",
   "execution_count": null,
   "id": "4b6b83e2",
   "metadata": {},
   "outputs": [],
   "source": []
  },
  {
   "cell_type": "markdown",
   "id": "b55b04a0",
   "metadata": {},
   "source": [
    "### \"Переводчик\""
   ]
  },
  {
   "cell_type": "markdown",
   "id": "90c31c1a",
   "metadata": {},
   "source": [
    "Сотрудники часто забывают переключать клавиатуру с ангийской раскладки на русскую. А так как не все владеют \"слепым\" методом печати, то обнаруживается это, когда набрана половина страницы текста. Поэтому они попросили сотрудника **<ваше_имя>**, разбирающегося в программировании, создать скрипт, восстанавливающий русский текст. Очень накладно все время перепечатывать."
   ]
  },
  {
   "cell_type": "code",
   "execution_count": 46,
   "id": "2cbe419b",
   "metadata": {},
   "outputs": [
    {
     "name": "stdout",
     "output_type": "stream",
     "text": [
      "tywrqtweuio\n",
      "енцкйецугшщ\n"
     ]
    }
   ],
   "source": [
    "#en_ru = {'q':'й','Q':'Й',\n",
    "#         'w':'ц','W':'Ц',         \n",
    "#        } \n",
    "en = 'qwertyuiop'\n",
    "ru = 'йцукенгшщз'\n",
    "en_ru = dict(zip(en,ru))\n",
    "\n",
    "input_text = input()\n",
    "result = ''\n",
    "for s in input_text:\n",
    "    result += en_ru[s]\n",
    "print(result)"
   ]
  },
  {
   "cell_type": "code",
   "execution_count": 47,
   "id": "ef97f18f",
   "metadata": {},
   "outputs": [
    {
     "data": {
      "text/plain": [
       "{'q': 'й',\n",
       " 'w': 'ц',\n",
       " 'e': 'у',\n",
       " 'r': 'к',\n",
       " 't': 'е',\n",
       " 'y': 'н',\n",
       " 'u': 'г',\n",
       " 'i': 'ш',\n",
       " 'o': 'щ',\n",
       " 'p': 'з'}"
      ]
     },
     "execution_count": 47,
     "metadata": {},
     "output_type": "execute_result"
    }
   ],
   "source": [
    "en_ru"
   ]
  },
  {
   "cell_type": "code",
   "execution_count": null,
   "id": "d3537dda",
   "metadata": {},
   "outputs": [],
   "source": []
  },
  {
   "cell_type": "code",
   "execution_count": null,
   "id": "9e2e054c",
   "metadata": {},
   "outputs": [],
   "source": []
  },
  {
   "cell_type": "markdown",
   "id": "6cc38eee",
   "metadata": {},
   "source": [
    "### Делители *"
   ]
  },
  {
   "cell_type": "markdown",
   "id": "4c576d65",
   "metadata": {},
   "source": [
    "Работники аналитического отдела в свободное время не курят, а решают на спор разные математические задачи.\n",
    "Сегодня на спор искали все делители случайных чисел. Для простых примеров решения находились быстро (для числа 6 это: 1, 2, 3, 6; а для числа 16 это: 1, 2, 4, 8, 16). Но когда начались примеры посерьезнее, то опять без сотудника, разбирающегося в программировании <ваше имя> не обошлось.\n",
    "\n",
    "Варианты посложнее были, например такие: 23456, 150194200, 25604557902344\n",
    "\n",
    "Вручную решить сложновато. Составьте скрипт для решения. Результат представьте в виде списка, отсортированного по возрастанию."
   ]
  }
 ],
 "metadata": {
  "kernelspec": {
   "display_name": "Python 3 (ipykernel)",
   "language": "python",
   "name": "python3"
  },
  "language_info": {
   "codemirror_mode": {
    "name": "ipython",
    "version": 3
   },
   "file_extension": ".py",
   "mimetype": "text/x-python",
   "name": "python",
   "nbconvert_exporter": "python",
   "pygments_lexer": "ipython3",
   "version": "3.9.13"
  },
  "toc": {
   "base_numbering": 1,
   "nav_menu": {},
   "number_sections": true,
   "sideBar": true,
   "skip_h1_title": false,
   "title_cell": "Table of Contents",
   "title_sidebar": "Contents",
   "toc_cell": false,
   "toc_position": {},
   "toc_section_display": true,
   "toc_window_display": false
  }
 },
 "nbformat": 4,
 "nbformat_minor": 5
}
