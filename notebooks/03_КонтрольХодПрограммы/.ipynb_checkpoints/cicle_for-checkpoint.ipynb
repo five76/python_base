{
 "cells": [
  {
   "cell_type": "markdown",
   "id": "55d5e219",
   "metadata": {},
   "source": [
    "<div class=\"alert alert-success\">\n",
    "\n",
    "    \n",
    "## Цикл for\n",
    "\n",
    "\n",
    "Очень часто одно и то же действие надо выполнить для набора однотипных данных. Например, преобразовать все строки в списке в верхний регистр. Для выполнения таких действий в Python используется цикл for.\n",
    "\n",
    "Цикл for перебирает по одному элементы указанной последовательности и выполняет действия, которые указаны в блоке for, для каждого элемента.\n",
    "\n",
    "Примеры последовательностей элементов, по которым может проходиться цикл for:\n",
    "\n",
    "- строка\n",
    "- список\n",
    "- словарь\n",
    "- Функция range\n",
    "- любой итерируемый объект\n",
    "\n",
    "   <div class=\"alert alert-danger\"> \n",
    "    Для понимания может помочь проект <a href='https://pythontutor.com'> pythontutor </a>. Там имеется визуализация кода, позволяющая увидеть, что происходит на каждом этапе выполнения кода. На сайте pythontutor можно загружать свой код.\n",
    "</div>\n",
    "       \n",
    "Цикл for может работать с любой последовательностью элементов. Например, выше использовался список и цикл перебирал элементы списка. Аналогичным образом for работает с кортежами.\n",
    "\n",
    "</div>"
   ]
  },
  {
   "cell_type": "markdown",
   "id": "43b0cd5e",
   "metadata": {},
   "source": [
    "*Напечатать элементы списка*"
   ]
  },
  {
   "cell_type": "markdown",
   "id": "a0030a64",
   "metadata": {},
   "source": [
    "Без цикла:"
   ]
  },
  {
   "cell_type": "code",
   "execution_count": 5,
   "id": "c2e0a05a",
   "metadata": {},
   "outputs": [
    {
     "name": "stdout",
     "output_type": "stream",
     "text": [
      "apple\n",
      "banana\n",
      "cherry\n"
     ]
    }
   ],
   "source": [
    "fruits = [\"apple\", \"banana\", \"cherry\"]\n",
    "print(fruits[0])\n",
    "print(fruits[1])\n",
    "print(fruits[2])"
   ]
  },
  {
   "cell_type": "markdown",
   "id": "56549bfc",
   "metadata": {},
   "source": [
    "Можно копировать и вставлять, но если строк будет 1000, 10000, 1000000 ..."
   ]
  },
  {
   "cell_type": "markdown",
   "id": "1ee93d80",
   "metadata": {},
   "source": [
    "С использованием цикла:"
   ]
  },
  {
   "cell_type": "code",
   "execution_count": 7,
   "id": "9c522ac5",
   "metadata": {
    "scrolled": true
   },
   "outputs": [
    {
     "name": "stdout",
     "output_type": "stream",
     "text": [
      "apple\n",
      "banana\n",
      "cherry\n"
     ]
    }
   ],
   "source": [
    "fruits = [\"apple\", \"banana\", \"cherry\"]\n",
    "for x in fruits:\n",
    "  print(x)"
   ]
  },
  {
   "cell_type": "markdown",
   "id": "1e14afc5",
   "metadata": {},
   "source": [
    "Можно прочитать это следующим образом: \"Для каждого элемента **x** списка **fruits** применить операцию **print(x)**\".\n",
    "\n",
    "Сначала x принимает значение apple, потом banana и так далее."
   ]
  },
  {
   "cell_type": "markdown",
   "id": "bc847bdc",
   "metadata": {},
   "source": [
    "*Напечатать каждый символ строки отдельно*"
   ]
  },
  {
   "cell_type": "code",
   "execution_count": 15,
   "id": "d3047910",
   "metadata": {},
   "outputs": [
    {
     "name": "stdout",
     "output_type": "stream",
     "text": [
      "b\n",
      "a\n",
      "n\n",
      "a\n",
      "n\n",
      "a\n"
     ]
    }
   ],
   "source": [
    "for x in \"banana\":\n",
    "  print(x)"
   ]
  },
  {
   "cell_type": "code",
   "execution_count": 16,
   "id": "66a5651e",
   "metadata": {},
   "outputs": [
    {
     "name": "stdout",
     "output_type": "stream",
     "text": [
      "b+a+n+a+n+a+"
     ]
    }
   ],
   "source": [
    "for x in \"banana\":\n",
    "  # вывод каждого символа строки с разделителем +\n",
    "  print(x, end = '+')"
   ]
  },
  {
   "cell_type": "markdown",
   "id": "8e684213",
   "metadata": {},
   "source": [
    "*Преобразовать первый символ каждой строки в верхний регистр. Преобразованный список сохранить отдельно*"
   ]
  },
  {
   "cell_type": "code",
   "execution_count": 24,
   "id": "167bb148",
   "metadata": {},
   "outputs": [
    {
     "name": "stdout",
     "output_type": "stream",
     "text": [
      "['иванов', 'петров', 'сидоров']\n",
      "['Иванов', 'Петров', 'Сидоров']\n"
     ]
    }
   ],
   "source": [
    "# исходный список\n",
    "words = ['иванов','петров','сидоров']\n",
    "# новый список\n",
    "new_words = []\n",
    "\n",
    "# Для (for) каждого элемента (el) списка words \n",
    "for el in words:\n",
    "    # Выполнить операции:\n",
    "    # Преобразовать первую букву в верхний регистр \n",
    "    new_words.append(el.capitalize())\n",
    "\n",
    "print(words)\n",
    "print(new_words)\n",
    "\n"
   ]
  },
  {
   "cell_type": "markdown",
   "id": "538751f5",
   "metadata": {},
   "source": [
    "*Вывести список каждого отдела организации*"
   ]
  },
  {
   "cell_type": "code",
   "execution_count": 34,
   "id": "f227fcb2",
   "metadata": {},
   "outputs": [
    {
     "name": "stdout",
     "output_type": "stream",
     "text": [
      "Отдел сбыта\n",
      "----------\n",
      "['Ильина', 'Куликов', 'Сергиенко', 'Корепин', 'Климов', 'Попкова']\n",
      "\n",
      "Вице-президенты\n",
      "----------\n",
      "['Гладких']\n",
      "\n",
      "Начальники отделов\n",
      "----------\n",
      "['Новиков']\n",
      "\n",
      "Координаторы\n",
      "----------\n",
      "['Ожогина']\n",
      "\n"
     ]
    }
   ],
   "source": [
    "# Словарь с фамилиями сотрудников отделов\n",
    "dict_staff = {'Отдел сбыта': ['Ильина', \n",
    "                              'Куликов',\n",
    "                              'Сергиенко',\n",
    "                              'Корепин', \n",
    "                              'Климов', \n",
    "                              'Попкова'],\n",
    "             'Вице-президенты':['Гладких'],\n",
    "             'Начальники отделов':['Новиков'],\n",
    "             'Координаторы':['Ожогина']}\n",
    "# Проход по словарю (по ключам)\n",
    "for key in dict_staff:\n",
    "    # Печать ключа словаря (отдел)\n",
    "    print(key)\n",
    "    # Разделитель\n",
    "    print('-' * 10)\n",
    "    # Печать значения по ключу (список отдела)\n",
    "    print(dict_staff[key])\n",
    "    # Пустая строка\n",
    "    print()"
   ]
  },
  {
   "cell_type": "markdown",
   "id": "aa86af17",
   "metadata": {},
   "source": [
    "Метод items позволяет проходиться в цикле сразу по паре ключ-значение:"
   ]
  },
  {
   "cell_type": "code",
   "execution_count": 35,
   "id": "c1d8e723",
   "metadata": {},
   "outputs": [
    {
     "name": "stdout",
     "output_type": "stream",
     "text": [
      "Отдел сбыта\n",
      "----------\n",
      "['Ильина', 'Куликов', 'Сергиенко', 'Корепин', 'Климов', 'Попкова']\n",
      "\n",
      "Вице-президенты\n",
      "----------\n",
      "['Гладких']\n",
      "\n",
      "Начальники отделов\n",
      "----------\n",
      "['Новиков']\n",
      "\n",
      "Координаторы\n",
      "----------\n",
      "['Ожогина']\n",
      "\n"
     ]
    }
   ],
   "source": [
    "# Словарь с фамилиями сотрудников отделов\n",
    "dict_staff = {'Отдел сбыта': ['Ильина', \n",
    "                              'Куликов',\n",
    "                              'Сергиенко',\n",
    "                              'Корепин', \n",
    "                              'Климов', \n",
    "                              'Попкова'],\n",
    "             'Вице-президенты':['Гладких'],\n",
    "             'Начальники отделов':['Новиков'],\n",
    "             'Координаторы':['Ожогина']}\n",
    "# Проход по словарю (по ключам)\n",
    "for key,value in dict_staff.items():\n",
    "    # Печать ключа словаря (отдел)\n",
    "    print(key)\n",
    "    # Разделитель\n",
    "    print('-' * 10)\n",
    "    # Печать значения по ключу (список отдела)\n",
    "    print(value)\n",
    "    # Пустая строка\n",
    "    print()"
   ]
  },
  {
   "cell_type": "markdown",
   "id": "acf430be",
   "metadata": {},
   "source": [
    "## Функция range"
   ]
  },
  {
   "cell_type": "markdown",
   "id": "ae5606c3",
   "metadata": {},
   "source": [
    "Возвращает числовой диапазон\n",
    "     \n",
    "Синтаксис:\n",
    "\n",
    "**range(start,end,step)**\n",
    "\n",
    "**start** - начальное значение диапазона\n",
    "\n",
    "**end** - конечное значение диапазона. **В диапазон не включается**\n",
    "\n",
    "**step** - шаг изменнения (по-умолчанию 1)\n",
    "\n",
    "Формируется диапазон от значения **start** до значения **end-1**.\n",
    "\n",
    "\n",
    "Используется, когда необходимо цикл for применить к числовому промежутку. \n",
    "\n"
   ]
  },
  {
   "cell_type": "code",
   "execution_count": 4,
   "id": "4f2b091f",
   "metadata": {},
   "outputs": [
    {
     "data": {
      "text/plain": [
       "range(0, 9)"
      ]
     },
     "execution_count": 4,
     "metadata": {},
     "output_type": "execute_result"
    }
   ],
   "source": [
    "range(9)"
   ]
  },
  {
   "cell_type": "code",
   "execution_count": 5,
   "id": "6ac5c4d5",
   "metadata": {},
   "outputs": [
    {
     "name": "stdout",
     "output_type": "stream",
     "text": [
      "0\n",
      "1\n",
      "2\n"
     ]
    }
   ],
   "source": [
    "# За начальное значение диапазона берется 0\n",
    "for i in range(3):\n",
    "    print(i)\n"
   ]
  },
  {
   "cell_type": "code",
   "execution_count": 6,
   "id": "e9823ca4",
   "metadata": {},
   "outputs": [
    {
     "name": "stdout",
     "output_type": "stream",
     "text": [
      "23\n",
      "24\n",
      "25\n"
     ]
    }
   ],
   "source": [
    "for i in range(23, 26):\n",
    "    print(i)"
   ]
  },
  {
   "cell_type": "code",
   "execution_count": 8,
   "id": "b221ad52",
   "metadata": {},
   "outputs": [
    {
     "name": "stdout",
     "output_type": "stream",
     "text": [
      "1 3 5 7 9 "
     ]
    }
   ],
   "source": [
    "# Печать диапазона с шагом 2\n",
    "for i in range(1, 10, 2):\n",
    "    print(i, end=' ')"
   ]
  },
  {
   "cell_type": "markdown",
   "id": "a21d4738",
   "metadata": {},
   "source": [
    "### Примеры использования range"
   ]
  },
  {
   "cell_type": "markdown",
   "id": "4bd4363d",
   "metadata": {},
   "source": [
    "При использовании оператора **in**  в цикле мы можем работать только с тем экземпляром итерируемого объекта, на который он указывает. А если необходимо использовать индексы, то нужно брать range."
   ]
  },
  {
   "cell_type": "markdown",
   "id": "f405babd",
   "metadata": {},
   "source": [
    "*Напечатать индексы четных элементов*"
   ]
  },
  {
   "cell_type": "code",
   "execution_count": 36,
   "id": "89235db1",
   "metadata": {},
   "outputs": [
    {
     "name": "stdout",
     "output_type": "stream",
     "text": [
      "Исходный список: [1, 4, 5, 7, 9, 8, 2, 4]\n",
      "Индексы четных элементов: [0, 2, 4, 6]\n"
     ]
    }
   ],
   "source": [
    "# Исходный список\n",
    "df = [1, 4, 5, 7, 9, 8, 2, 4]\n",
    "# Пустой список для четных индексов\n",
    "even_indexes = []\n",
    "for index in range(len(df)):\n",
    "    # У четного числа остаток от деления на 0 равен 0 (% остаток от деления)\n",
    "    if index % 2 == 0:\n",
    "        even_indexes.append(index)\n",
    "print(f'Исходный список: {df}')\n",
    "print(f'Индексы четных элементов: {even_indexes}')\n"
   ]
  },
  {
   "cell_type": "markdown",
   "id": "be682f9b",
   "metadata": {},
   "source": [
    "*Из заданной строки сформировать новую, где каждый символ есть максимальный символ среди соседей символа в исходной строке.*\n",
    "\n",
    "Вход: ромашка\n",
    "Выход: ррошшшк"
   ]
  },
  {
   "cell_type": "code",
   "execution_count": 16,
   "id": "1b773c93",
   "metadata": {
    "scrolled": false
   },
   "outputs": [
    {
     "name": "stdout",
     "output_type": "stream",
     "text": [
      "Введите строку: ромашка\n",
      "ррошшшк\n"
     ]
    }
   ],
   "source": [
    "input_string = input('Введите строку: ')\n",
    "# Длина строки\n",
    "count_chars = len(input_string)\n",
    "output_string = ''\n",
    "# Цикл для диапазона индексов от 0 до длина строки-1\n",
    "for index in range(0,count_chars):\n",
    "    # Если индекс от 1 до предпоследнего\n",
    "    if index > 0 and index < count_chars-1:\n",
    "        # Вычислить максимальный среди окружающих\n",
    "        s = max(input_string[index],input_string[index-1],input_string[index+1])\n",
    "        output_string += s\n",
    "    # Если индекс равен 0, то сравниваем с соседом справа\n",
    "    elif index == 0:\n",
    "        s = max(input_string[index],input_string[index+1])\n",
    "        output_string += s\n",
    "    else:\n",
    "        # Иначе сравниваем с соседом слева\n",
    "        s = max(input_string[index],input_string[index-1])\n",
    "        output_string += s\n",
    "print(output_string)"
   ]
  },
  {
   "cell_type": "markdown",
   "id": "cd08358e",
   "metadata": {},
   "source": [
    "## Вложенные циклы"
   ]
  },
  {
   "cell_type": "markdown",
   "id": "80719f90",
   "metadata": {},
   "source": [
    "Вложенный цикл - это цикл внутри цикла.\n",
    "\n",
    "\"Внутренний цикл\" будет выполняться один раз для каждой итерации \"внешнего цикла\".:"
   ]
  },
  {
   "cell_type": "code",
   "execution_count": 37,
   "id": "9c7c4152",
   "metadata": {},
   "outputs": [
    {
     "name": "stdout",
     "output_type": "stream",
     "text": [
      "красный   яблоко\n",
      "красный   банан\n",
      "красный   вишня\n",
      "большой   яблоко\n",
      "большой   банан\n",
      "большой   вишня\n",
      "вкусный   яблоко\n",
      "вкусный   банан\n",
      "вкусный   вишня\n"
     ]
    }
   ],
   "source": [
    "adj = [\"красный\", \"большой\", \"вкусный\"]\n",
    "fruits = [\"яблоко\", \"банан\", \"вишня\"]\n",
    "\n",
    "for a in adj:\n",
    "    for f in fruits:\n",
    "        print(a,' ', f)\n"
   ]
  },
  {
   "cell_type": "markdown",
   "id": "90bb56e8",
   "metadata": {},
   "source": [
    "*Напечатать таблицу умножения для чисел от 2 до 5*"
   ]
  },
  {
   "cell_type": "code",
   "execution_count": 40,
   "id": "2b1f2a79",
   "metadata": {},
   "outputs": [
    {
     "name": "stdout",
     "output_type": "stream",
     "text": [
      "2 * 2 = 4\n",
      "2 * 3 = 6\n",
      "2 * 4 = 8\n",
      "2 * 5 = 10\n",
      "----------\n",
      "3 * 2 = 6\n",
      "3 * 3 = 9\n",
      "3 * 4 = 12\n",
      "3 * 5 = 15\n",
      "----------\n",
      "4 * 2 = 8\n",
      "4 * 3 = 12\n",
      "4 * 4 = 16\n",
      "4 * 5 = 20\n",
      "----------\n",
      "5 * 2 = 10\n",
      "5 * 3 = 15\n",
      "5 * 4 = 20\n",
      "5 * 5 = 25\n",
      "----------\n"
     ]
    }
   ],
   "source": [
    "for x in range (2,6):\n",
    "    for y in range(2,6): \n",
    "        print(f'{x} * {y} = {x*y}')   # относится к циклу по y\n",
    "    print('-'*10)                     # относится к циклу по x"
   ]
  },
  {
   "cell_type": "code",
   "execution_count": null,
   "id": "71e51607",
   "metadata": {},
   "outputs": [],
   "source": []
  }
 ],
 "metadata": {
  "kernelspec": {
   "display_name": "Python 3 (ipykernel)",
   "language": "python",
   "name": "python3"
  },
  "language_info": {
   "codemirror_mode": {
    "name": "ipython",
    "version": 3
   },
   "file_extension": ".py",
   "mimetype": "text/x-python",
   "name": "python",
   "nbconvert_exporter": "python",
   "pygments_lexer": "ipython3",
   "version": "3.11.5"
  },
  "toc": {
   "base_numbering": 1,
   "nav_menu": {},
   "number_sections": true,
   "sideBar": true,
   "skip_h1_title": false,
   "title_cell": "Table of Contents",
   "title_sidebar": "Contents",
   "toc_cell": false,
   "toc_position": {},
   "toc_section_display": true,
   "toc_window_display": false
  }
 },
 "nbformat": 4,
 "nbformat_minor": 5
}
