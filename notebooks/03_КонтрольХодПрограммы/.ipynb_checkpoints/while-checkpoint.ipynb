{
 "cells": [
  {
   "cell_type": "markdown",
   "id": "55d5e219",
   "metadata": {},
   "source": [
    "<div class=\"alert alert-success\">\n",
    "\n",
    "    \n",
    "## Цикл while\n",
    "\n",
    "\n",
    "Очень часто одно и то же действие надо выполнить для набора однотипных данных. Например, преобразовать все строки в списке в верхний регистр. Для выполнения таких действий в Python используется цикл for.\n",
    "\n",
    "Цикл **while** используется в случаях, когда количество итераций цикла неопределено (при неправильном подходе может оказаться и бесконечным)\n",
    "    \n",
    "Синтаксис:\n",
    "\n",
    "    while <условие>:\n",
    "        тело цикла\n",
    "    \n",
    "    \n",
    "</div>"
   ]
  },
  {
   "cell_type": "markdown",
   "id": "43b0cd5e",
   "metadata": {},
   "source": [
    "*Печатать значения, пока их значения меньше 6*"
   ]
  },
  {
   "cell_type": "code",
   "execution_count": 58,
   "id": "c2e0a05a",
   "metadata": {},
   "outputs": [
    {
     "name": "stdout",
     "output_type": "stream",
     "text": [
      "1\n",
      "2\n",
      "3\n",
      "4\n",
      "5\n"
     ]
    }
   ],
   "source": [
    "i = 1\n",
    "while i < 6:\n",
    "  print(i)\n",
    "  i += 1"
   ]
  },
  {
   "cell_type": "markdown",
   "id": "2c170d6a",
   "metadata": {},
   "source": [
    "*Заполнять с клавиатуры список строками, пока не будет введена пустая строка*"
   ]
  },
  {
   "cell_type": "code",
   "execution_count": 61,
   "id": "aba5c184",
   "metadata": {},
   "outputs": [
    {
     "name": "stdout",
     "output_type": "stream",
     "text": [
      "Введите строку:Visual Studio Code\n",
      "Введите строку:PyCharm\n",
      "Введите строку:Jupyter Notebook\n",
      "Введите строку:\n",
      "['Visual Studio Code', 'PyCharm', 'Jupyter Notebook']\n"
     ]
    }
   ],
   "source": [
    "my_list = []\n",
    "input_string = input('Введите строку:')\n",
    "while input_string:\n",
    "    my_list.append(input_string)\n",
    "    input_string = input('Введите строку:')\n",
    "print(my_list)"
   ]
  },
  {
   "cell_type": "markdown",
   "id": "33cb69c2",
   "metadata": {},
   "source": [
    "2 способ:"
   ]
  },
  {
   "cell_type": "code",
   "execution_count": 67,
   "id": "62594ff1",
   "metadata": {},
   "outputs": [
    {
     "name": "stdout",
     "output_type": "stream",
     "text": [
      "Введите строку:Роза\n",
      "Введите строку:Астра\n",
      "Введите строку:\n",
      "['Роза', 'Астра']\n"
     ]
    }
   ],
   "source": [
    "my_list = []\n",
    "while True:\n",
    "    # Запрос и чтение строки\n",
    "    input_string = input('Введите строку:')\n",
    "    # Если введена пустая строка, то input_string - это False \n",
    "    # => not input_string - это True\n",
    "    if not input_string:\n",
    "        break\n",
    "    my_list.append(input_string)\n",
    "    \n",
    "print(my_list)"
   ]
  },
  {
   "cell_type": "markdown",
   "id": "45343bdb",
   "metadata": {},
   "source": [
    "Операции **continue**, **break**, **else** применяются аналогично for"
   ]
  },
  {
   "cell_type": "code",
   "execution_count": null,
   "id": "e3023dcb",
   "metadata": {},
   "outputs": [],
   "source": []
  }
 ],
 "metadata": {
  "kernelspec": {
   "display_name": "Python 3 (ipykernel)",
   "language": "python",
   "name": "python3"
  },
  "language_info": {
   "codemirror_mode": {
    "name": "ipython",
    "version": 3
   },
   "file_extension": ".py",
   "mimetype": "text/x-python",
   "name": "python",
   "nbconvert_exporter": "python",
   "pygments_lexer": "ipython3",
   "version": "3.11.5"
  },
  "toc": {
   "base_numbering": 1,
   "nav_menu": {},
   "number_sections": true,
   "sideBar": true,
   "skip_h1_title": false,
   "title_cell": "Table of Contents",
   "title_sidebar": "Contents",
   "toc_cell": false,
   "toc_position": {},
   "toc_section_display": true,
   "toc_window_display": false
  }
 },
 "nbformat": 4,
 "nbformat_minor": 5
}
