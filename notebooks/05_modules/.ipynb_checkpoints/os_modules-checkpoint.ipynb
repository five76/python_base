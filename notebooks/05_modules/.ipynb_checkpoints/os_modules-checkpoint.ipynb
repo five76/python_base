{
 "cells": [
  {
   "cell_type": "code",
   "execution_count": 1,
   "id": "7334a46e",
   "metadata": {},
   "outputs": [],
   "source": [
    "import os"
   ]
  },
  {
   "cell_type": "markdown",
   "id": "1b3e17d3",
   "metadata": {},
   "source": [
    "### Получение информации об ОС"
   ]
  },
  {
   "cell_type": "markdown",
   "id": "bd15dd32",
   "metadata": {},
   "source": [
    "#### Название операционной системы"
   ]
  },
  {
   "cell_type": "code",
   "execution_count": 2,
   "id": "39b91a39",
   "metadata": {
    "scrolled": true
   },
   "outputs": [
    {
     "data": {
      "text/plain": [
       "'nt'"
      ]
     },
     "execution_count": 2,
     "metadata": {},
     "output_type": "execute_result"
    }
   ],
   "source": [
    "os.name"
   ]
  },
  {
   "cell_type": "markdown",
   "id": "40064dae",
   "metadata": {},
   "source": [
    "#### Переменная окружения"
   ]
  },
  {
   "cell_type": "markdown",
   "id": "d49b8667",
   "metadata": {},
   "source": [
    "Возвращается словарь с переменными окружения, который выводится в консоль или строковую переменную. позволяющий узнать название системного диска, адрес домашней директории, имя системы и массу другой информации."
   ]
  },
  {
   "cell_type": "code",
   "execution_count": 3,
   "id": "5b763058",
   "metadata": {},
   "outputs": [
    {
     "data": {
      "text/plain": [
       "environ{'ALLUSERSPROFILE': 'C:\\\\ProgramData',\n",
       "        'APPDATA': 'C:\\\\Users\\\\Admin\\\\AppData\\\\Roaming',\n",
       "        'COMMONPROGRAMFILES': 'C:\\\\Program Files\\\\Common Files',\n",
       "        'COMMONPROGRAMFILES(X86)': 'C:\\\\Program Files (x86)\\\\Common Files',\n",
       "        'COMMONPROGRAMW6432': 'C:\\\\Program Files\\\\Common Files',\n",
       "        'COMPUTERNAME': 'NOTEBOOK-3',\n",
       "        'COMSPEC': 'C:\\\\Windows\\\\system32\\\\cmd.exe',\n",
       "        'DRIVERDATA': 'C:\\\\Windows\\\\System32\\\\Drivers\\\\DriverData',\n",
       "        'FPS_BROWSER_APP_PROFILE_STRING': 'Internet Explorer',\n",
       "        'FPS_BROWSER_USER_PROFILE_STRING': 'Default',\n",
       "        'HOMEDRIVE': 'C:',\n",
       "        'HOMEPATH': '\\\\Users\\\\Admin',\n",
       "        'LOCALAPPDATA': 'C:\\\\Users\\\\Admin\\\\AppData\\\\Local',\n",
       "        'LOGONSERVER': '\\\\\\\\NOTEBOOK-3',\n",
       "        'NUMBER_OF_PROCESSORS': '12',\n",
       "        'OMP_NUM_THREADS': '12',\n",
       "        'ONEDRIVE': 'C:\\\\Users\\\\Admin\\\\OneDrive',\n",
       "        'OS': 'Windows_NT',\n",
       "        'PATH': 'C:\\\\ProgramData\\\\anaconda3;C:\\\\ProgramData\\\\anaconda3\\\\Library\\\\mingw-w64\\\\bin;C:\\\\ProgramData\\\\anaconda3\\\\Library\\\\usr\\\\bin;C:\\\\ProgramData\\\\anaconda3\\\\Library\\\\bin;C:\\\\ProgramData\\\\anaconda3\\\\Scripts;C:\\\\Program Files (x86)\\\\VMware\\\\VMware Workstation\\\\bin\\\\;C:\\\\Windows\\\\system32;C:\\\\Windows;C:\\\\Windows\\\\System32\\\\Wbem;C:\\\\Windows\\\\System32\\\\WindowsPowerShell\\\\v1.0\\\\;C:\\\\Windows\\\\System32\\\\OpenSSH\\\\;C:\\\\Program Files\\\\Microsoft SQL Server\\\\120\\\\Tools\\\\Binn\\\\;C:\\\\Program Files\\\\Git\\\\cmd;C:\\\\Program Files\\\\PuTTY\\\\;C:\\\\Users\\\\Admin\\\\AppData\\\\Local\\\\Microsoft\\\\WindowsApps;C:\\\\Users\\\\Admin\\\\AppData\\\\Local\\\\Programs\\\\Microsoft VS Code\\\\bin',\n",
       "        'PATHEXT': '.COM;.EXE;.BAT;.CMD;.VBS;.VBE;.JS;.JSE;.WSF;.WSH;.MSC',\n",
       "        'PROCESSOR_ARCHITECTURE': 'AMD64',\n",
       "        'PROCESSOR_IDENTIFIER': 'AMD64 Family 23 Model 104 Stepping 1, AuthenticAMD',\n",
       "        'PROCESSOR_LEVEL': '23',\n",
       "        'PROCESSOR_REVISION': '6801',\n",
       "        'PROGRAMDATA': 'C:\\\\ProgramData',\n",
       "        'PROGRAMFILES': 'C:\\\\Program Files',\n",
       "        'PROGRAMFILES(X86)': 'C:\\\\Program Files (x86)',\n",
       "        'PROGRAMW6432': 'C:\\\\Program Files',\n",
       "        'PSMODULEPATH': 'C:\\\\Program Files\\\\WindowsPowerShell\\\\Modules;C:\\\\Windows\\\\system32\\\\WindowsPowerShell\\\\v1.0\\\\Modules',\n",
       "        'PUBLIC': 'C:\\\\Users\\\\Public',\n",
       "        'SESSIONNAME': 'Console',\n",
       "        'SYSTEMDRIVE': 'C:',\n",
       "        'SYSTEMROOT': 'C:\\\\Windows',\n",
       "        'TEMP': 'C:\\\\Users\\\\Admin\\\\AppData\\\\Local\\\\Temp',\n",
       "        'TMP': 'C:\\\\Users\\\\Admin\\\\AppData\\\\Local\\\\Temp',\n",
       "        'USERDOMAIN': 'NOTEBOOK-3',\n",
       "        'USERDOMAIN_ROAMINGPROFILE': 'NOTEBOOK-3',\n",
       "        'USERNAME': 'Admin',\n",
       "        'USERPROFILE': 'C:\\\\Users\\\\Admin',\n",
       "        'WINDIR': 'C:\\\\Windows',\n",
       "        'CONDA_PREFIX': 'C:\\\\ProgramData\\\\anaconda3',\n",
       "        'PYDEVD_USE_FRAME_EVAL': 'NO',\n",
       "        'JPY_INTERRUPT_EVENT': '4148',\n",
       "        'IPY_INTERRUPT_EVENT': '4148',\n",
       "        'JPY_PARENT_PID': '4300',\n",
       "        'TERM': 'xterm-color',\n",
       "        'CLICOLOR': '1',\n",
       "        'FORCE_COLOR': '1',\n",
       "        'CLICOLOR_FORCE': '1',\n",
       "        'PAGER': 'cat',\n",
       "        'GIT_PAGER': 'cat',\n",
       "        'MPLBACKEND': 'module://matplotlib_inline.backend_inline'}"
      ]
     },
     "execution_count": 3,
     "metadata": {},
     "output_type": "execute_result"
    }
   ],
   "source": [
    "os.environ"
   ]
  },
  {
   "cell_type": "markdown",
   "id": "112939bb",
   "metadata": {},
   "source": [
    "#### Получение значения переменной окружения"
   ]
  },
  {
   "cell_type": "markdown",
   "id": "038884a3",
   "metadata": {},
   "source": [
    "Метод os.getenv() возвращает значение переменной окружения"
   ]
  },
  {
   "cell_type": "code",
   "execution_count": 4,
   "id": "e89e6d82",
   "metadata": {},
   "outputs": [
    {
     "data": {
      "text/plain": [
       "'C:\\\\ProgramData\\\\anaconda3;C:\\\\ProgramData\\\\anaconda3\\\\Library\\\\mingw-w64\\\\bin;C:\\\\ProgramData\\\\anaconda3\\\\Library\\\\usr\\\\bin;C:\\\\ProgramData\\\\anaconda3\\\\Library\\\\bin;C:\\\\ProgramData\\\\anaconda3\\\\Scripts;C:\\\\Program Files (x86)\\\\VMware\\\\VMware Workstation\\\\bin\\\\;C:\\\\Windows\\\\system32;C:\\\\Windows;C:\\\\Windows\\\\System32\\\\Wbem;C:\\\\Windows\\\\System32\\\\WindowsPowerShell\\\\v1.0\\\\;C:\\\\Windows\\\\System32\\\\OpenSSH\\\\;C:\\\\Program Files\\\\Microsoft SQL Server\\\\120\\\\Tools\\\\Binn\\\\;C:\\\\Program Files\\\\Git\\\\cmd;C:\\\\Program Files\\\\PuTTY\\\\;C:\\\\Users\\\\Admin\\\\AppData\\\\Local\\\\Microsoft\\\\WindowsApps;C:\\\\Users\\\\Admin\\\\AppData\\\\Local\\\\Programs\\\\Microsoft VS Code\\\\bin'"
      ]
     },
     "execution_count": 4,
     "metadata": {},
     "output_type": "execute_result"
    }
   ],
   "source": [
    "os.getenv('PATH')"
   ]
  },
  {
   "cell_type": "markdown",
   "id": "333c3ec1",
   "metadata": {},
   "source": [
    "### Работа с файловой структурой"
   ]
  },
  {
   "cell_type": "markdown",
   "id": "f9403097",
   "metadata": {},
   "source": [
    "#### Текущая директория"
   ]
  },
  {
   "cell_type": "code",
   "execution_count": 5,
   "id": "096c1538",
   "metadata": {},
   "outputs": [
    {
     "data": {
      "text/plain": [
       "'C:\\\\Users\\\\Admin\\\\python_base\\\\notebooks\\\\05_modules'"
      ]
     },
     "execution_count": 5,
     "metadata": {},
     "output_type": "execute_result"
    }
   ],
   "source": [
    "os.getcwd()"
   ]
  },
  {
   "cell_type": "markdown",
   "id": "2a377cea",
   "metadata": {},
   "source": [
    "Записать текущий каталог в переменную **current_directory**"
   ]
  },
  {
   "cell_type": "code",
   "execution_count": 6,
   "id": "ffc984ae",
   "metadata": {},
   "outputs": [],
   "source": [
    "current_directory = os.getcwd()"
   ]
  },
  {
   "cell_type": "code",
   "execution_count": 7,
   "id": "7a87d1f3",
   "metadata": {},
   "outputs": [
    {
     "data": {
      "text/plain": [
       "'C:\\\\Users\\\\Admin\\\\python_base\\\\notebooks\\\\05_modules'"
      ]
     },
     "execution_count": 7,
     "metadata": {},
     "output_type": "execute_result"
    }
   ],
   "source": [
    "current_directory "
   ]
  },
  {
   "cell_type": "markdown",
   "id": "c1780923",
   "metadata": {},
   "source": [
    "#### Смена текущей рабочей директории"
   ]
  },
  {
   "cell_type": "markdown",
   "id": "c1799f40",
   "metadata": {},
   "source": [
    "При желании, рабочую директорию можно настроить по своему усмотрению, применив метод chdir. Для этого необходимо передать ему в качестве параметра абсолютный адрес к новому каталогу. Если указанного пути на самом деле не существует, программа будет завершена в аварийном режиме из-за выброшенного исключения."
   ]
  },
  {
   "cell_type": "code",
   "execution_count": 8,
   "id": "dab782a3",
   "metadata": {},
   "outputs": [],
   "source": [
    "os.chdir('C:\\\\Windows\\\\System32')"
   ]
  },
  {
   "cell_type": "code",
   "execution_count": 9,
   "id": "b343123e",
   "metadata": {},
   "outputs": [
    {
     "data": {
      "text/plain": [
       "'C:\\\\Windows\\\\System32'"
      ]
     },
     "execution_count": 9,
     "metadata": {},
     "output_type": "execute_result"
    }
   ],
   "source": [
    "os.getcwd()"
   ]
  },
  {
   "cell_type": "markdown",
   "id": "afd73b03",
   "metadata": {},
   "source": [
    "### Модуль os.path\n",
    "Модуль **os.path** встроен в модуль os и позволяет работать с путями к файлам и папкам. Основные свойства и методы:"
   ]
  },
  {
   "cell_type": "markdown",
   "id": "8c664973",
   "metadata": {},
   "source": [
    "Основные свойства и методы:\n",
    "\n",
    "* os.path.sep — разделитель имен директорий в пути\n",
    "* os.path.abspath() — преобразует относительный путь в абсолютный\n",
    "* os.path.isabs() — возвращает True, если путь абсолютный\n",
    "* os.path.relpath(path, start) — возвращает относительный путь от start к path\n",
    "* os.path.basename() — возвращает имя файла (или директории)\n",
    "* os.path.dirname() — возвращает путь к файлу (или директории)\n",
    "* os.path.exists() — возвращает True, если файл (или директория) существует\n",
    "* os.path.isdir() — возвращает True, если это директория\n",
    "* os.path.isfile() — возвращает True, если это файл\n",
    "* os.path.getsize() — возвращает размер файла в байтах\n",
    "* os.path.join() — возвращает путь доступа, полученный конкатенацией аргументов\n",
    "* os.path.split() — возвращает кортеж (os.path.dirname(), os.path.basename())"
   ]
  },
  {
   "cell_type": "markdown",
   "id": "f4783e20",
   "metadata": {},
   "source": [
    "#### Проверка существования пути"
   ]
  },
  {
   "cell_type": "markdown",
   "id": "7fb24c83",
   "metadata": {},
   "source": [
    "Во избежание ошибок, которые могут возникнуть при попытке обработать несуществующий файл или директорию  следует предварительно проверять их наличие с помощью метода **exists**. \n",
    "\n",
    "**Синтаксис:**\n",
    "\n",
    "os.path.exists(\"путь_к_файлу\")\n",
    "\n",
    "Возвращает True/False в соответствии с наличием/отсутствием указанного объекта. В следующем примере идет проверка текстового файла test.txt из корневого каталога D, которая возвращает True."
   ]
  },
  {
   "cell_type": "code",
   "execution_count": 10,
   "id": "6188119c",
   "metadata": {},
   "outputs": [
    {
     "data": {
      "text/plain": [
       "False"
      ]
     },
     "execution_count": 10,
     "metadata": {},
     "output_type": "execute_result"
    }
   ],
   "source": [
    "# Проверка существования каталога os_modules в текущем каталоге\n",
    "os.path.exists('os_modules')"
   ]
  },
  {
   "cell_type": "markdown",
   "id": "2b8bd729",
   "metadata": {},
   "source": [
    "#### Создание директорий"
   ]
  },
  {
   "cell_type": "markdown",
   "id": "838cdf72",
   "metadata": {},
   "source": [
    "**os.mkdir()** - создание директории"
   ]
  },
  {
   "cell_type": "markdown",
   "id": "d3ddc677",
   "metadata": {},
   "source": [
    "**os.makedirs()** - создание директории с созданием промежуточных директорий"
   ]
  },
  {
   "cell_type": "code",
   "execution_count": 11,
   "id": "ce8aec5e",
   "metadata": {},
   "outputs": [],
   "source": [
    "# Установить в качестве текущецй диретории значение, записанное в current_directory \n",
    "os.chdir(current_directory )"
   ]
  },
  {
   "cell_type": "markdown",
   "id": "1bcc82c9",
   "metadata": {},
   "source": [
    "Создать новую диреторию в текущем каталоге"
   ]
  },
  {
   "cell_type": "code",
   "execution_count": 12,
   "id": "9fa5451d",
   "metadata": {},
   "outputs": [],
   "source": [
    "os.mkdir(r\"os_modules\")"
   ]
  },
  {
   "cell_type": "markdown",
   "id": "b7426e1d",
   "metadata": {},
   "source": [
    "Повторная попытка создания директории"
   ]
  },
  {
   "cell_type": "code",
   "execution_count": 13,
   "id": "d89a8109",
   "metadata": {},
   "outputs": [
    {
     "ename": "FileExistsError",
     "evalue": "[WinError 183] Невозможно создать файл, так как он уже существует: 'os_modules'",
     "output_type": "error",
     "traceback": [
      "\u001b[1;31m---------------------------------------------------------------------------\u001b[0m",
      "\u001b[1;31mFileExistsError\u001b[0m                           Traceback (most recent call last)",
      "Cell \u001b[1;32mIn[13], line 1\u001b[0m\n\u001b[1;32m----> 1\u001b[0m os\u001b[38;5;241m.\u001b[39mmkdir(\u001b[38;5;124mr\u001b[39m\u001b[38;5;124m\"\u001b[39m\u001b[38;5;124mos_modules\u001b[39m\u001b[38;5;124m\"\u001b[39m)\n",
      "\u001b[1;31mFileExistsError\u001b[0m: [WinError 183] Невозможно создать файл, так как он уже существует: 'os_modules'"
     ]
    }
   ],
   "source": [
    "os.mkdir(r\"os_modules\")"
   ]
  },
  {
   "cell_type": "markdown",
   "id": "fc98c4a8",
   "metadata": {},
   "source": [
    "Такой каталог уже есть"
   ]
  },
  {
   "cell_type": "markdown",
   "id": "3583d0f9",
   "metadata": {},
   "source": [
    "Создание каталога с предварительной проверкой:"
   ]
  },
  {
   "cell_type": "code",
   "execution_count": 14,
   "id": "1939d677",
   "metadata": {},
   "outputs": [
    {
     "name": "stdout",
     "output_type": "stream",
     "text": [
      "каталог существует\n"
     ]
    }
   ],
   "source": [
    "if not os.path.exists('os_modules'):\n",
    "    os.mkdir(r\"os_modules\")\n",
    "else:\n",
    "    print('каталог существует')"
   ]
  },
  {
   "cell_type": "markdown",
   "id": "55681262",
   "metadata": {},
   "source": [
    "#### Проверка объекта на соответстие типу объекта"
   ]
  },
  {
   "cell_type": "markdown",
   "id": "1ce5e8d7",
   "metadata": {},
   "source": [
    "os.path.isdir() — возвращает True, если это директория\n",
    "\n",
    "os.path.isfile() — возвращает True, если это файл"
   ]
  },
  {
   "cell_type": "code",
   "execution_count": 27,
   "id": "209189bb",
   "metadata": {
    "scrolled": true
   },
   "outputs": [
    {
     "data": {
      "text/plain": [
       "True"
      ]
     },
     "execution_count": 27,
     "metadata": {},
     "output_type": "execute_result"
    }
   ],
   "source": [
    "os.chdir(current_directory)\n",
    "os.path.isdir('os_modules') "
   ]
  },
  {
   "cell_type": "code",
   "execution_count": 29,
   "id": "62bf52be",
   "metadata": {},
   "outputs": [
    {
     "data": {
      "text/plain": [
       "False"
      ]
     },
     "execution_count": 29,
     "metadata": {},
     "output_type": "execute_result"
    }
   ],
   "source": [
    "os.chdir(current_directory)\n",
    "os.path.isfile('os_modules') "
   ]
  },
  {
   "cell_type": "markdown",
   "id": "47fd8a59",
   "metadata": {},
   "source": [
    "#### Просмотр содержимого директорий"
   ]
  },
  {
   "cell_type": "code",
   "execution_count": 15,
   "id": "03c5fb8a",
   "metadata": {},
   "outputs": [
    {
     "data": {
      "text/plain": [
       "['.ipynb_checkpoints',\n",
       " 'geometry',\n",
       " 'modules.ipynb',\n",
       " 'os_modules',\n",
       " 'os_modules.ipynb',\n",
       " 'packages.ipynb',\n",
       " 'Untitled.ipynb',\n",
       " 'url.txt']"
      ]
     },
     "execution_count": 15,
     "metadata": {},
     "output_type": "execute_result"
    }
   ],
   "source": [
    "os.listdir()"
   ]
  },
  {
   "cell_type": "markdown",
   "id": "74467a83",
   "metadata": {},
   "source": [
    "Из приведенного списка видно, что директория **os_modules** появилась"
   ]
  },
  {
   "cell_type": "markdown",
   "id": "3678f6a0",
   "metadata": {},
   "source": [
    "##### Пример: В текущем каталоге создать структуру:"
   ]
  },
  {
   "attachments": {
    "image-2.png": {
     "image/png": "[encoded data removed]"
    }
   },
   "cell_type": "markdown",
   "id": "9c792cdb",
   "metadata": {},
   "source": [
    "![image-2.png](attachment:image-2.png)"
   ]
  },
  {
   "cell_type": "markdown",
   "id": "8552258c",
   "metadata": {},
   "source": [
    "1. Так как в данном задании присутствуют вложенные каталоги, то будет использоваться метод **os.makedirs()**\n",
    "2. Наименования каталогов одинаковые, за исключение чсел в конце имени, поэтому используем цикл"
   ]
  },
  {
   "cell_type": "code",
   "execution_count": 16,
   "id": "838c755d",
   "metadata": {},
   "outputs": [],
   "source": [
    "for dn in range(1,13):\n",
    "    os.makedirs(f\"os_modules\\\\subdir{dn}\\\\subsubdir1\") "
   ]
  },
  {
   "attachments": {
    "image-3.png": {
     "image/png": "[encoded data removed]"
    }
   },
   "cell_type": "markdown",
   "id": "20170b3b",
   "metadata": {},
   "source": [
    "![image-3.png](attachment:image-3.png)"
   ]
  },
  {
   "cell_type": "markdown",
   "id": "166e317b",
   "metadata": {},
   "source": [
    "#### Просмотр содержимого каталога и всех вложенных каталогов os.walk()"
   ]
  },
  {
   "cell_type": "markdown",
   "id": "c69c771c",
   "metadata": {},
   "source": [
    "Метод os.listdir() позволяет просмотреть один каталог. "
   ]
  },
  {
   "cell_type": "markdown",
   "id": "f422cacb",
   "metadata": {},
   "source": [
    "Метод **os.walk()** возвращает объект-генератор. Из полученного объекта можно получить кортежи для каждого каталога в файловой иерархии. Каждый кортеж в коллекции содержит:\n",
    "\n",
    "- Абсолютный адрес очередного каталога (строка)\n",
    "- Имена подкаталогов текущего каталога (список)\n",
    "- Имена (без адреса) файлов данного каталога"
   ]
  },
  {
   "cell_type": "code",
   "execution_count": 17,
   "id": "adc7687c",
   "metadata": {},
   "outputs": [
    {
     "name": "stdout",
     "output_type": "stream",
     "text": [
      "('C:\\\\Users\\\\Admin\\\\python_base\\\\notebooks\\\\05_modules', ['.ipynb_checkpoints', 'geometry', 'os_modules'], ['modules.ipynb', 'os_modules.ipynb', 'packages.ipynb', 'Untitled.ipynb', 'url.txt'])\n",
      "('C:\\\\Users\\\\Admin\\\\python_base\\\\notebooks\\\\05_modules\\\\.ipynb_checkpoints', [], ['modules-checkpoint.ipynb', 'os_modules-checkpoint.ipynb', 'packages-checkpoint.ipynb', 'Untitled-checkpoint.ipynb', 'Untitled1-checkpoint.ipynb'])\n",
      "('C:\\\\Users\\\\Admin\\\\python_base\\\\notebooks\\\\05_modules\\\\geometry', ['__pycache__'], ['square.py', 'volume.py', '__init__.py'])\n",
      "('C:\\\\Users\\\\Admin\\\\python_base\\\\notebooks\\\\05_modules\\\\geometry\\\\__pycache__', [], ['square.cpython-311.pyc', 'volume.cpython-311.pyc', '__init__.cpython-311.pyc'])\n",
      "('C:\\\\Users\\\\Admin\\\\python_base\\\\notebooks\\\\05_modules\\\\os_modules', ['subdir1', 'subdir10', 'subdir11', 'subdir12', 'subdir2', 'subdir3', 'subdir4', 'subdir5', 'subdir6', 'subdir7', 'subdir8', 'subdir9'], [])\n",
      "('C:\\\\Users\\\\Admin\\\\python_base\\\\notebooks\\\\05_modules\\\\os_modules\\\\subdir1', ['subsubdir1'], [])\n",
      "('C:\\\\Users\\\\Admin\\\\python_base\\\\notebooks\\\\05_modules\\\\os_modules\\\\subdir1\\\\subsubdir1', [], [])\n",
      "('C:\\\\Users\\\\Admin\\\\python_base\\\\notebooks\\\\05_modules\\\\os_modules\\\\subdir10', ['subsubdir1'], [])\n",
      "('C:\\\\Users\\\\Admin\\\\python_base\\\\notebooks\\\\05_modules\\\\os_modules\\\\subdir10\\\\subsubdir1', [], [])\n",
      "('C:\\\\Users\\\\Admin\\\\python_base\\\\notebooks\\\\05_modules\\\\os_modules\\\\subdir11', ['subsubdir1'], [])\n",
      "('C:\\\\Users\\\\Admin\\\\python_base\\\\notebooks\\\\05_modules\\\\os_modules\\\\subdir11\\\\subsubdir1', [], [])\n",
      "('C:\\\\Users\\\\Admin\\\\python_base\\\\notebooks\\\\05_modules\\\\os_modules\\\\subdir12', ['subsubdir1'], [])\n",
      "('C:\\\\Users\\\\Admin\\\\python_base\\\\notebooks\\\\05_modules\\\\os_modules\\\\subdir12\\\\subsubdir1', [], [])\n",
      "('C:\\\\Users\\\\Admin\\\\python_base\\\\notebooks\\\\05_modules\\\\os_modules\\\\subdir2', ['subsubdir1'], [])\n",
      "('C:\\\\Users\\\\Admin\\\\python_base\\\\notebooks\\\\05_modules\\\\os_modules\\\\subdir2\\\\subsubdir1', [], [])\n",
      "('C:\\\\Users\\\\Admin\\\\python_base\\\\notebooks\\\\05_modules\\\\os_modules\\\\subdir3', ['subsubdir1'], [])\n",
      "('C:\\\\Users\\\\Admin\\\\python_base\\\\notebooks\\\\05_modules\\\\os_modules\\\\subdir3\\\\subsubdir1', [], [])\n",
      "('C:\\\\Users\\\\Admin\\\\python_base\\\\notebooks\\\\05_modules\\\\os_modules\\\\subdir4', ['subsubdir1'], [])\n",
      "('C:\\\\Users\\\\Admin\\\\python_base\\\\notebooks\\\\05_modules\\\\os_modules\\\\subdir4\\\\subsubdir1', [], [])\n",
      "('C:\\\\Users\\\\Admin\\\\python_base\\\\notebooks\\\\05_modules\\\\os_modules\\\\subdir5', ['subsubdir1'], [])\n",
      "('C:\\\\Users\\\\Admin\\\\python_base\\\\notebooks\\\\05_modules\\\\os_modules\\\\subdir5\\\\subsubdir1', [], [])\n",
      "('C:\\\\Users\\\\Admin\\\\python_base\\\\notebooks\\\\05_modules\\\\os_modules\\\\subdir6', ['subsubdir1'], [])\n",
      "('C:\\\\Users\\\\Admin\\\\python_base\\\\notebooks\\\\05_modules\\\\os_modules\\\\subdir6\\\\subsubdir1', [], [])\n",
      "('C:\\\\Users\\\\Admin\\\\python_base\\\\notebooks\\\\05_modules\\\\os_modules\\\\subdir7', ['subsubdir1'], [])\n",
      "('C:\\\\Users\\\\Admin\\\\python_base\\\\notebooks\\\\05_modules\\\\os_modules\\\\subdir7\\\\subsubdir1', [], [])\n",
      "('C:\\\\Users\\\\Admin\\\\python_base\\\\notebooks\\\\05_modules\\\\os_modules\\\\subdir8', ['subsubdir1'], [])\n",
      "('C:\\\\Users\\\\Admin\\\\python_base\\\\notebooks\\\\05_modules\\\\os_modules\\\\subdir8\\\\subsubdir1', [], [])\n",
      "('C:\\\\Users\\\\Admin\\\\python_base\\\\notebooks\\\\05_modules\\\\os_modules\\\\subdir9', ['subsubdir1'], [])\n",
      "('C:\\\\Users\\\\Admin\\\\python_base\\\\notebooks\\\\05_modules\\\\os_modules\\\\subdir9\\\\subsubdir1', [], [])\n"
     ]
    }
   ],
   "source": [
    "# получить генератор всей файловой структуры указанной директории\n",
    "tree = os.walk(current_directory)\n",
    "\n",
    "for item in tree:\n",
    "    print(item)"
   ]
  },
  {
   "cell_type": "markdown",
   "id": "04245cbd",
   "metadata": {},
   "source": [
    "В приведенных кортежах:\n",
    "\n",
    "- 0 элемент - текущий каталог\n",
    "- 1 элемент - список покаталогов\n",
    "- 2 элемент - список файлов этого каталога"
   ]
  },
  {
   "cell_type": "markdown",
   "id": "e36f1c78",
   "metadata": {},
   "source": [
    "#### Переименование файла и каталога rename()"
   ]
  },
  {
   "cell_type": "markdown",
   "id": "a43cf406",
   "metadata": {},
   "source": [
    "**Синтаксис:**\n",
    "\n",
    "os.rename(r\"old_name\", r\"new_name\")\n",
    "\n",
    "Данная функция принимает два разных аргумента. Первый отвечает за путь к старому наименованию документа, в то время как второй отвечает за его новое название. В примере показано переименование директории old_name в new_name. \n",
    "\n",
    "Если по указанному пути нет каталога(файла), то будет сгенерировано исключение.\n",
    "\n"
   ]
  },
  {
   "cell_type": "markdown",
   "id": "27cfc361",
   "metadata": {},
   "source": [
    "##### Пример: Переименовать \"subdir1\" в \"январь\""
   ]
  },
  {
   "cell_type": "code",
   "execution_count": 18,
   "id": "d0a103ec",
   "metadata": {},
   "outputs": [],
   "source": [
    "if os.path.exists('os_modules\\subdir1'):\n",
    "    os.rename(r\"os_modules\\subdir1\",r\"os_modules\\январь\" )\n",
    "else:\n",
    "    print('каталог существует')"
   ]
  },
  {
   "attachments": {
    "image.png": {
     "image/png": "[encoded data removed]"
    }
   },
   "cell_type": "markdown",
   "id": "f4db4f7d",
   "metadata": {},
   "source": [
    "![image.png](attachment:image.png)"
   ]
  },
  {
   "cell_type": "markdown",
   "id": "618f205e",
   "metadata": {},
   "source": [
    "##### Пример: Переименовать все каталоги \"subdirX\" в название соответствующего месяца"
   ]
  },
  {
   "cell_type": "markdown",
   "id": "ac00b998",
   "metadata": {},
   "source": [
    "Чтобы в Python быстро преобразовать число, представляющее номер месяца (от 1 до 12), в название этого месяца, используем модуль **calendar** и локализация при форматировании месяца:"
   ]
  },
  {
   "cell_type": "markdown",
   "id": "fc2eb8e6",
   "metadata": {},
   "source": [
    "Предварительная настройка языка"
   ]
  },
  {
   "cell_type": "code",
   "execution_count": 19,
   "id": "1742d219",
   "metadata": {},
   "outputs": [],
   "source": [
    "import calendar\n",
    "import locale"
   ]
  },
  {
   "cell_type": "code",
   "execution_count": 20,
   "id": "a64ef535",
   "metadata": {},
   "outputs": [
    {
     "data": {
      "text/plain": [
       "'ru_RU'"
      ]
     },
     "execution_count": 20,
     "metadata": {},
     "output_type": "execute_result"
    }
   ],
   "source": [
    "locale.setlocale(locale.LC_TIME, 'ru_RU') "
   ]
  },
  {
   "cell_type": "code",
   "execution_count": 21,
   "id": "1a6abc0d",
   "metadata": {},
   "outputs": [
    {
     "name": "stdout",
     "output_type": "stream",
     "text": [
      "Март\n"
     ]
    }
   ],
   "source": [
    "print(calendar.month_name[3])  # Результат: \"Март\""
   ]
  },
  {
   "cell_type": "code",
   "execution_count": 22,
   "id": "a3248a97",
   "metadata": {},
   "outputs": [],
   "source": [
    "os.chdir(current_directory)\n",
    "# Перейти в каталог os_modules\n",
    "new_dir = os.chdir('os_modules')"
   ]
  },
  {
   "cell_type": "code",
   "execution_count": 30,
   "id": "97e315ac",
   "metadata": {},
   "outputs": [],
   "source": [
    "for d in os.listdir():\n",
    "    # Если объект d НЕ ЯВЛЯЕТСЯ каталогом(директорией), \n",
    "    # то перейти к следующему объекту\n",
    "    if not os.path.isdir(d):\n",
    "        continue\n",
    "    # Получить базовое имя каталога\n",
    "    dir_name = os.path.basename(d)\n",
    "    # если в имени содержится subdir\n",
    "    if 'subdir' in os.path.basename(d):\n",
    "        # Получить номер месяца из имени каталога\n",
    "        month_digit = int(d[6:])\n",
    "        # Переиеновать каталог\n",
    "        os.rename(d,calendar.month_name[month_digit].lower())"
   ]
  },
  {
   "cell_type": "code",
   "execution_count": null,
   "id": "75048737",
   "metadata": {},
   "outputs": [],
   "source": []
  }
 ],
 "metadata": {
  "kernelspec": {
   "display_name": "Python 3 (ipykernel)",
   "language": "python",
   "name": "python3"
  },
  "language_info": {
   "codemirror_mode": {
    "name": "ipython",
    "version": 3
   },
   "file_extension": ".py",
   "mimetype": "text/x-python",
   "name": "python",
   "nbconvert_exporter": "python",
   "pygments_lexer": "ipython3",
   "version": "3.11.5"
  }
 },
 "nbformat": 4,
 "nbformat_minor": 5
}
