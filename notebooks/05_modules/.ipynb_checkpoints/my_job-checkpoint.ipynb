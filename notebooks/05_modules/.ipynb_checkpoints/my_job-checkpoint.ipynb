{
 "cells": [
  {
   "cell_type": "code",
   "execution_count": 24,
   "id": "5fbbac0c",
   "metadata": {},
   "outputs": [],
   "source": [
    "import csv\n",
    "import mybike"
   ]
  },
  {
   "cell_type": "code",
   "execution_count": 25,
   "id": "c366b5b7",
   "metadata": {},
   "outputs": [],
   "source": [
    "df = []\n",
    "with open('bike_sales.csv', encoding='utf-8') as f:\n",
    "    reader = csv.reader(f)\n",
    "    next(reader)\n",
    "    for row in reader:\n",
    "        df.append(row)"
   ]
  },
  {
   "cell_type": "code",
   "execution_count": 26,
   "id": "54c9c08f",
   "metadata": {},
   "outputs": [
    {
     "name": "stdout",
     "output_type": "stream",
     "text": [
      "['Houston', 'Philadelphia', 'San Antonio', 'New York', 'Phoenix', 'Chicago', 'Los Angeles']\n"
     ]
    }
   ],
   "source": [
    "my_city = mybike.define_city_sales(df[:])\n",
    "print(my_city)"
   ]
  },
  {
   "cell_type": "code",
   "execution_count": 27,
   "id": "1620bdce",
   "metadata": {},
   "outputs": [
    {
     "name": "stdout",
     "output_type": "stream",
     "text": [
      "110059479.44000015\n"
     ]
    }
   ],
   "source": [
    "print(mybike.calculate_sum_city('San Antonio',df[:]))"
   ]
  },
  {
   "cell_type": "code",
   "execution_count": 28,
   "id": "eef8d75f",
   "metadata": {},
   "outputs": [
    {
     "name": "stdout",
     "output_type": "stream",
     "text": [
      "110427042.38999961\n",
      "111765829.45000073\n",
      "110059479.44000015\n",
      "113592473.94000022\n",
      "111860419.61000007\n",
      "110388139.03999996\n",
      "110340851.07999961\n"
     ]
    }
   ],
   "source": [
    "for c in my_city:\n",
    "    print(mybike.calculate_sum_city(c,df[:]))"
   ]
  },
  {
   "cell_type": "code",
   "execution_count": 29,
   "id": "97e95dcb",
   "metadata": {},
   "outputs": [
    {
     "ename": "SyntaxError",
     "evalue": "unexpected EOF while parsing (3456604344.py, line 1)",
     "output_type": "error",
     "traceback": [
      "\u001b[1;36m  Cell \u001b[1;32mIn[29], line 1\u001b[1;36m\u001b[0m\n\u001b[1;33m    print(mybike.\u001b[0m\n\u001b[1;37m                 ^\u001b[0m\n\u001b[1;31mSyntaxError\u001b[0m\u001b[1;31m:\u001b[0m unexpected EOF while parsing\n"
     ]
    }
   ],
   "source": []
  },
  {
   "cell_type": "code",
   "execution_count": 17,
   "id": "da38faad",
   "metadata": {},
   "outputs": [],
   "source": []
  },
  {
   "cell_type": "code",
   "execution_count": null,
   "id": "551ad1be",
   "metadata": {},
   "outputs": [],
   "source": []
  }
 ],
 "metadata": {
  "kernelspec": {
   "display_name": "Python 3 (ipykernel)",
   "language": "python",
   "name": "python3"
  },
  "language_info": {
   "codemirror_mode": {
    "name": "ipython",
    "version": 3
   },
   "file_extension": ".py",
   "mimetype": "text/x-python",
   "name": "python",
   "nbconvert_exporter": "python",
   "pygments_lexer": "ipython3",
   "version": "3.9.13"
  },
  "toc": {
   "base_numbering": 1,
   "nav_menu": {},
   "number_sections": true,
   "sideBar": true,
   "skip_h1_title": false,
   "title_cell": "Table of Contents",
   "title_sidebar": "Contents",
   "toc_cell": false,
   "toc_position": {},
   "toc_section_display": true,
   "toc_window_display": false
  }
 },
 "nbformat": 4,
 "nbformat_minor": 5
}
