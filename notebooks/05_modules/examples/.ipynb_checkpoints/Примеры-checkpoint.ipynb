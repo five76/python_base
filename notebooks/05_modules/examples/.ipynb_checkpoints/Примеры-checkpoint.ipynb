{
 "cells": [
  {
   "cell_type": "markdown",
   "id": "37cfb17e",
   "metadata": {},
   "source": [
    "## random"
   ]
  },
  {
   "cell_type": "markdown",
   "id": "798defc9",
   "metadata": {},
   "source": [
    "Напиcать программу на Python для выбора случайного элемента из списка, множества, значения по словарю и файла из каталога. Использовать random.choice()"
   ]
  },
  {
   "cell_type": "code",
   "execution_count": 1,
   "id": "2b8643e5",
   "metadata": {},
   "outputs": [],
   "source": [
    "import random\n",
    "my_list = [3,5,6,8,3,5,6,7]"
   ]
  },
  {
   "cell_type": "code",
   "execution_count": 2,
   "id": "5d5267fe",
   "metadata": {},
   "outputs": [
    {
     "name": "stdout",
     "output_type": "stream",
     "text": [
      "8\n"
     ]
    }
   ],
   "source": [
    "print(random.choice(my_list))"
   ]
  },
  {
   "cell_type": "code",
   "execution_count": 3,
   "id": "7e08e8b8",
   "metadata": {},
   "outputs": [
    {
     "name": "stdout",
     "output_type": "stream",
     "text": [
      "[3, 3, 5]\n"
     ]
    }
   ],
   "source": [
    "print(random.choices(my_list,k=3))"
   ]
  },
  {
   "cell_type": "markdown",
   "id": "0e93fbe9",
   "metadata": {},
   "source": [
    "Напиcать программу на Python для создания списка случайных целых чисел и случайного выбора нескольких элементов из указанного списка. Использовать random.sample()"
   ]
  },
  {
   "cell_type": "code",
   "execution_count": 4,
   "id": "c47ca0c7",
   "metadata": {},
   "outputs": [],
   "source": [
    "my_list = [3,5,6,8,3,5,6,7]"
   ]
  },
  {
   "cell_type": "code",
   "execution_count": 5,
   "id": "ebbea241",
   "metadata": {},
   "outputs": [
    {
     "name": "stdout",
     "output_type": "stream",
     "text": [
      "[3, 5, 6]\n"
     ]
    }
   ],
   "source": [
    "print(random.sample(my_list,k=3))"
   ]
  },
  {
   "cell_type": "markdown",
   "id": "6e06b26d",
   "metadata": {},
   "source": [
    "Напиcать программу на Python для перетасовки элементов заданного списка. Использовать random.shuffle()"
   ]
  },
  {
   "cell_type": "code",
   "execution_count": 16,
   "id": "346f525c",
   "metadata": {},
   "outputs": [],
   "source": [
    "random.shuffle(my_list)"
   ]
  },
  {
   "cell_type": "code",
   "execution_count": 17,
   "id": "235e499f",
   "metadata": {},
   "outputs": [
    {
     "name": "stdout",
     "output_type": "stream",
     "text": [
      "[6, 8, 3, 5, 6, 7, 3, 5]\n"
     ]
    }
   ],
   "source": [
    "print(my_list)"
   ]
  },
  {
   "cell_type": "markdown",
   "id": "5c5c1308",
   "metadata": {},
   "source": [
    "## CSV"
   ]
  },
  {
   "cell_type": "markdown",
   "id": "0dab70e0",
   "metadata": {},
   "source": [
    "Напиcать программу на Python для чтения и отображения содержимого данного CSV-файла (‘bike_sales.csv’). Использовать csv.reader"
   ]
  },
  {
   "cell_type": "code",
   "execution_count": 1,
   "id": "47e51eb6",
   "metadata": {},
   "outputs": [],
   "source": [
    "import csv"
   ]
  },
  {
   "cell_type": "markdown",
   "id": "48921f33",
   "metadata": {},
   "source": [
    "Напиcать программу на Python, выводящую из CSV-файла списов городов (без дубликатов). Использовать csv.reader, next(obj)"
   ]
  },
  {
   "cell_type": "code",
   "execution_count": 2,
   "id": "0a556f7e",
   "metadata": {},
   "outputs": [],
   "source": [
    "#with open('examples/bike_sales.csv') as f:\n",
    "with open('bike_sales.csv') as f:\n",
    "    csv_reader = csv.reader(f, delimiter = ',')\n",
    "    next(csv_reader)\n",
    "    list_bike = list(csv_reader)\n",
    "\n",
    "# Список для наименований городов\n",
    "city_list = []\n",
    "\n",
    "def define_sales_cities(lst=[]):\n",
    "    for el in lst:\n",
    "        city_list.append(el[6])\n",
    "    \n",
    "    return list(set(city_list))"
   ]
  },
  {
   "cell_type": "code",
   "execution_count": 3,
   "id": "3115a472",
   "metadata": {},
   "outputs": [
    {
     "name": "stdout",
     "output_type": "stream",
     "text": [
      "[]\n"
     ]
    }
   ],
   "source": [
    "print(city_list)"
   ]
  },
  {
   "cell_type": "code",
   "execution_count": 4,
   "id": "3ed80415",
   "metadata": {},
   "outputs": [],
   "source": [
    "from mybike import define_sales_cities as dfs"
   ]
  },
  {
   "cell_type": "code",
   "execution_count": 5,
   "id": "a7ac2a14",
   "metadata": {},
   "outputs": [
    {
     "name": "stdout",
     "output_type": "stream",
     "text": [
      "['San Antonio', 'New York', 'Los Angeles', 'Philadelphia', 'Houston', 'Phoenix', 'Chicago']\n"
     ]
    }
   ],
   "source": [
    "print(dfs(lst=list_bike))"
   ]
  },
  {
   "cell_type": "code",
   "execution_count": null,
   "id": "10e7f5c3",
   "metadata": {},
   "outputs": [],
   "source": []
  }
 ],
 "metadata": {
  "kernelspec": {
   "display_name": "Python 3 (ipykernel)",
   "language": "python",
   "name": "python3"
  },
  "language_info": {
   "codemirror_mode": {
    "name": "ipython",
    "version": 3
   },
   "file_extension": ".py",
   "mimetype": "text/x-python",
   "name": "python",
   "nbconvert_exporter": "python",
   "pygments_lexer": "ipython3",
   "version": "3.9.13"
  },
  "toc": {
   "base_numbering": 1,
   "nav_menu": {},
   "number_sections": true,
   "sideBar": true,
   "skip_h1_title": false,
   "title_cell": "Table of Contents",
   "title_sidebar": "Contents",
   "toc_cell": false,
   "toc_position": {},
   "toc_section_display": true,
   "toc_window_display": false
  }
 },
 "nbformat": 4,
 "nbformat_minor": 5
}
