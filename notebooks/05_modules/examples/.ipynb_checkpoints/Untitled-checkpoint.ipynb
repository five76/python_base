{
 "cells": [
  {
   "cell_type": "code",
   "execution_count": 80,
   "id": "dfa85add",
   "metadata": {
    "scrolled": true
   },
   "outputs": [],
   "source": [
    "import mybike"
   ]
  },
  {
   "cell_type": "code",
   "execution_count": 81,
   "id": "64cc60ab",
   "metadata": {},
   "outputs": [],
   "source": [
    "df = mybike.load_dataset(file_name='bike_sales_100k.csv')"
   ]
  },
  {
   "cell_type": "code",
   "execution_count": 82,
   "id": "400baced",
   "metadata": {},
   "outputs": [
    {
     "data": {
      "text/plain": [
       "100000"
      ]
     },
     "execution_count": 82,
     "metadata": {},
     "output_type": "execute_result"
    }
   ],
   "source": [
    "len(df)"
   ]
  },
  {
   "cell_type": "code",
   "execution_count": 83,
   "id": "1fcd8faf",
   "metadata": {
    "scrolled": true
   },
   "outputs": [
    {
     "name": "stdout",
     "output_type": "stream",
     "text": [
      "{'Phoenix', 'Chicago', 'Los Angeles', 'Philadelphia', 'Houston', 'New York', 'San Antonio'}\n"
     ]
    }
   ],
   "source": [
    "print(mybike.define_sales_cities(lst=df))"
   ]
  },
  {
   "cell_type": "code",
   "execution_count": 84,
   "id": "33a3c82f",
   "metadata": {},
   "outputs": [
    {
     "ename": "AttributeError",
     "evalue": "module 'mybike' has no attribute 'calculate_sum'",
     "output_type": "error",
     "traceback": [
      "\u001b[1;31m---------------------------------------------------------------------------\u001b[0m",
      "\u001b[1;31mAttributeError\u001b[0m                            Traceback (most recent call last)",
      "Cell \u001b[1;32mIn[84], line 1\u001b[0m\n\u001b[1;32m----> 1\u001b[0m \u001b[38;5;28mprint\u001b[39m(mybike\u001b[38;5;241m.\u001b[39mcalculate_sum(city\u001b[38;5;241m=\u001b[39m\u001b[38;5;124m'\u001b[39m\u001b[38;5;124mPhoenix\u001b[39m\u001b[38;5;124m'\u001b[39m, lst\u001b[38;5;241m=\u001b[39mdf))\n",
      "\u001b[1;31mAttributeError\u001b[0m: module 'mybike' has no attribute 'calculate_sum'"
     ]
    }
   ],
   "source": [
    "print(mybike.calculate_sum(city='Phoenix', lst=df))"
   ]
  },
  {
   "cell_type": "code",
   "execution_count": null,
   "id": "29da9f50",
   "metadata": {},
   "outputs": [],
   "source": []
  },
  {
   "cell_type": "code",
   "execution_count": null,
   "id": "6389e020",
   "metadata": {},
   "outputs": [],
   "source": []
  },
  {
   "cell_type": "code",
   "execution_count": null,
   "id": "bc1ea9b0",
   "metadata": {},
   "outputs": [],
   "source": [
    "import csv\n",
    "\n",
    "def load_dataset(file_name='')\n",
    "    df = []\n",
    "    with open('bike_sales_100k.csv', newline='',encoding='utf-8') as fp:\n",
    "        reader = csv.reader(fp)\n",
    "        next(reader)\n",
    "        for row in reader:\n",
    "            df.append(row)\n",
    "    return df\n",
    "\n",
    "def define_sales_cities(city=None,bike=None,lst=[]):\n",
    "    city_lst = []\n",
    "    for el in lst:\n",
    "        city_lst.append(el[6])\n",
    "    return set(city_lst)"
   ]
  }
 ],
 "metadata": {
  "kernelspec": {
   "display_name": "Python 3 (ipykernel)",
   "language": "python",
   "name": "python3"
  },
  "language_info": {
   "codemirror_mode": {
    "name": "ipython",
    "version": 3
   },
   "file_extension": ".py",
   "mimetype": "text/x-python",
   "name": "python",
   "nbconvert_exporter": "python",
   "pygments_lexer": "ipython3",
   "version": "3.11.5"
  }
 },
 "nbformat": 4,
 "nbformat_minor": 5
}
