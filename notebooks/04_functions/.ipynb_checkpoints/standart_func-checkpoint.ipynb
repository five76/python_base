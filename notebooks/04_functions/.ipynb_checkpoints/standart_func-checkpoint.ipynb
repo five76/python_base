{
 "cells": [
  {
   "cell_type": "markdown",
   "id": "38f16672",
   "metadata": {},
   "source": [
    "# Функции стандартной библиотеки"
   ]
  },
  {
   "cell_type": "markdown",
   "id": "ea476843",
   "metadata": {},
   "source": [
    "Стандартная библиотека Python очень обширна и предлагает широкий спектр возможностей. Библиотека содержит встроенные модули (написанные на C), которые обеспечивают доступ к системным функциям, таким как файловый ввод-вывод, которые в противном случае были бы недоступны программистам на Python, а также модули, написанные на Python, которые предоставляют стандартизированные решения для многих проблем, возникающих в повседневном программировании. Некоторые из этих модулей специально разработаны для поощрения и повышения переносимости программ на Python путем абстрагирования от специфики платформы и создания независимых от платформы. \n",
    "\n",
    "Установщики Python для платформы Windows обычно включают в себя всю стандартную библиотеку и часто также включают множество дополнительных компонентов. Для Unix-подобных операционных систем Python обычно предоставляется в виде набора пакетов, поэтому для получения некоторых или всех дополнительных компонентов может потребоваться использование средств упаковки, поставляемых вместе с операционной системой.\n",
    "\n",
    "В дополнение к стандартной библиотеке существует активная коллекция из сотен тысяч компонентов (от отдельных программ и модулей до пакетов и целых платформ разработки приложений), доступная из Python Package Index."
   ]
  },
  {
   "cell_type": "markdown",
   "id": "84441afa",
   "metadata": {},
   "source": [
    "## Встроенные функции (Built-in Functions)"
   ]
  },
  {
   "cell_type": "markdown",
   "id": "a940f804",
   "metadata": {},
   "source": [
    "Список функций и документацию по ним можно посмотреть на официальном сайте:\n",
    "\n",
    "https://docs.python.org/3/library/functions.html"
   ]
  },
  {
   "cell_type": "markdown",
   "id": "954d9945",
   "metadata": {},
   "source": [
    "В стандартную библиотеку Python входит множество встроенных функций и классов. Все встроенные объекты можно посмотреть следующим образом:"
   ]
  },
  {
   "cell_type": "code",
   "execution_count": 2,
   "id": "d019532e",
   "metadata": {},
   "outputs": [
    {
     "name": "stdout",
     "output_type": "stream",
     "text": [
      "__name__\n",
      "__doc__\n",
      "__package__\n",
      "__loader__\n",
      "__spec__\n",
      "__build_class__\n",
      "__import__\n",
      "abs\n",
      "all\n",
      "any\n",
      "ascii\n",
      "bin\n",
      "breakpoint\n",
      "callable\n",
      "chr\n",
      "compile\n",
      "delattr\n",
      "dir\n",
      "divmod\n",
      "eval\n",
      "exec\n",
      "format\n",
      "getattr\n",
      "globals\n",
      "hasattr\n",
      "hash\n",
      "hex\n",
      "id\n",
      "input\n",
      "isinstance\n",
      "issubclass\n",
      "iter\n",
      "aiter\n",
      "len\n",
      "locals\n",
      "max\n",
      "min\n",
      "next\n",
      "anext\n",
      "oct\n",
      "ord\n",
      "pow\n",
      "print\n",
      "repr\n",
      "round\n",
      "setattr\n",
      "sorted\n",
      "sum\n",
      "vars\n",
      "None\n",
      "Ellipsis\n",
      "NotImplemented\n",
      "False\n",
      "True\n",
      "bool\n",
      "memoryview\n",
      "bytearray\n",
      "bytes\n",
      "classmethod\n",
      "complex\n",
      "dict\n",
      "enumerate\n",
      "filter\n",
      "float\n",
      "frozenset\n",
      "property\n",
      "int\n",
      "list\n",
      "map\n",
      "object\n",
      "range\n",
      "reversed\n",
      "set\n",
      "slice\n",
      "staticmethod\n",
      "str\n",
      "super\n",
      "tuple\n",
      "type\n",
      "zip\n",
      "__debug__\n",
      "BaseException\n",
      "BaseExceptionGroup\n",
      "Exception\n",
      "GeneratorExit\n",
      "KeyboardInterrupt\n",
      "SystemExit\n",
      "ArithmeticError\n",
      "AssertionError\n",
      "AttributeError\n",
      "BufferError\n",
      "EOFError\n",
      "ImportError\n",
      "LookupError\n",
      "MemoryError\n",
      "NameError\n",
      "OSError\n",
      "ReferenceError\n",
      "RuntimeError\n",
      "StopAsyncIteration\n",
      "StopIteration\n",
      "SyntaxError\n",
      "SystemError\n",
      "TypeError\n",
      "ValueError\n",
      "Warning\n",
      "FloatingPointError\n",
      "OverflowError\n",
      "ZeroDivisionError\n",
      "BytesWarning\n",
      "DeprecationWarning\n",
      "EncodingWarning\n",
      "FutureWarning\n",
      "ImportWarning\n",
      "PendingDeprecationWarning\n",
      "ResourceWarning\n",
      "RuntimeWarning\n",
      "SyntaxWarning\n",
      "UnicodeWarning\n",
      "UserWarning\n",
      "BlockingIOError\n",
      "ChildProcessError\n",
      "ConnectionError\n",
      "FileExistsError\n",
      "FileNotFoundError\n",
      "InterruptedError\n",
      "IsADirectoryError\n",
      "NotADirectoryError\n",
      "PermissionError\n",
      "ProcessLookupError\n",
      "TimeoutError\n",
      "IndentationError\n",
      "IndexError\n",
      "KeyError\n",
      "ModuleNotFoundError\n",
      "NotImplementedError\n",
      "RecursionError\n",
      "UnboundLocalError\n",
      "UnicodeError\n",
      "BrokenPipeError\n",
      "ConnectionAbortedError\n",
      "ConnectionRefusedError\n",
      "ConnectionResetError\n",
      "TabError\n",
      "UnicodeDecodeError\n",
      "UnicodeEncodeError\n",
      "UnicodeTranslateError\n",
      "ExceptionGroup\n",
      "EnvironmentError\n",
      "IOError\n",
      "WindowsError\n",
      "open\n",
      "copyright\n",
      "credits\n",
      "license\n",
      "help\n",
      "execfile\n",
      "runfile\n",
      "__IPYTHON__\n",
      "display\n",
      "get_ipython\n"
     ]
    }
   ],
   "source": [
    "for e in __builtins__.__dict__:\n",
    "    print(e)"
   ]
  },
  {
   "cell_type": "markdown",
   "id": "ad2933d9",
   "metadata": {},
   "source": [
    "Получить справку можно, введя имя функции и знак вопроса"
   ]
  },
  {
   "cell_type": "code",
   "execution_count": 1,
   "id": "98aeae76",
   "metadata": {},
   "outputs": [],
   "source": [
    "filter?"
   ]
  },
  {
   "cell_type": "code",
   "execution_count": null,
   "id": "92c90ef3",
   "metadata": {},
   "outputs": [],
   "source": []
  },
  {
   "cell_type": "markdown",
   "id": "cb0ca6f4",
   "metadata": {},
   "source": [
    "Ранее было рассмотрено несколько встроенных функций:"
   ]
  },
  {
   "cell_type": "markdown",
   "id": "6901bb3a",
   "metadata": {},
   "source": [
    "### Общие функции"
   ]
  },
  {
   "cell_type": "markdown",
   "id": "d8d3f2cb",
   "metadata": {},
   "source": [
    "- print — функция вывода (например в консоль);\n",
    "- range — возврат последовательность чисел, с 0 до N (с шагом на 1 по умолчанию);\n",
    "- input - возврат введенной пользователем строки;\n",
    "- open - открытие файла и возврат его объекта"
   ]
  },
  {
   "cell_type": "markdown",
   "id": "0f9f476f",
   "metadata": {},
   "source": [
    "### Преобразование типов"
   ]
  },
  {
   "cell_type": "markdown",
   "id": "b40ebd0c",
   "metadata": {},
   "source": [
    "- type — вернет тип объекта;\n",
    "- str — преобразование в строку;\n",
    "- int — преобразование в число;\n",
    "- float — преобразование в число с плавающей точкой;\n",
    "- bool — преобразование к булевому типу;\n",
    "- tuple — преобразование к кортежу;\n",
    "- dict — преобразование к словарю;\n",
    "- frozenset — приведение к неизменяемому множеству;\n",
    "- list — приведение к списку;\n",
    "- set — преобразование к множеству;"
   ]
  },
  {
   "cell_type": "markdown",
   "id": "0a3b157c",
   "metadata": {},
   "source": [
    "### Математические функции"
   ]
  },
  {
   "cell_type": "markdown",
   "id": "4ecad86e",
   "metadata": {},
   "source": [
    "- pow — возведение числа в степень;\n",
    "- abs — возврат модуля числа;\n",
    "- round — округление до указанного количества знаков после запятой."
   ]
  },
  {
   "cell_type": "code",
   "execution_count": 4,
   "id": "69cc8de2",
   "metadata": {},
   "outputs": [
    {
     "data": {
      "text/plain": [
       "2.57"
      ]
     },
     "execution_count": 4,
     "metadata": {},
     "output_type": "execute_result"
    }
   ],
   "source": [
    "round(2.567,2)"
   ]
  },
  {
   "cell_type": "code",
   "execution_count": 5,
   "id": "dc9914b9",
   "metadata": {},
   "outputs": [
    {
     "data": {
      "text/plain": [
       "-3.1"
      ]
     },
     "execution_count": 5,
     "metadata": {},
     "output_type": "execute_result"
    }
   ],
   "source": [
    "round(-3.13,1)"
   ]
  },
  {
   "cell_type": "markdown",
   "id": "4171d605",
   "metadata": {},
   "source": [
    "### Итерируемые объекты"
   ]
  },
  {
   "cell_type": "markdown",
   "id": "071ddbc9",
   "metadata": {},
   "source": [
    "- min — возврат минимального элемента последовательности;\n",
    "- max — возврат максимального элемента последовательности;"
   ]
  },
  {
   "cell_type": "code",
   "execution_count": 6,
   "id": "597b5ae0",
   "metadata": {},
   "outputs": [],
   "source": [
    "my_list = [1,4,6]"
   ]
  },
  {
   "cell_type": "code",
   "execution_count": 7,
   "id": "3d371769",
   "metadata": {},
   "outputs": [
    {
     "data": {
      "text/plain": [
       "1"
      ]
     },
     "execution_count": 7,
     "metadata": {},
     "output_type": "execute_result"
    }
   ],
   "source": [
    "min(my_list)"
   ]
  },
  {
   "cell_type": "code",
   "execution_count": 8,
   "id": "aa7fe5d5",
   "metadata": {},
   "outputs": [
    {
     "data": {
      "text/plain": [
       "6"
      ]
     },
     "execution_count": 8,
     "metadata": {},
     "output_type": "execute_result"
    }
   ],
   "source": [
    "max(my_list)"
   ]
  },
  {
   "cell_type": "markdown",
   "id": "a0b57dde",
   "metadata": {},
   "source": [
    "### Функция map"
   ]
  },
  {
   "cell_type": "markdown",
   "id": "7d168df2",
   "metadata": {},
   "source": [
    "Возвращает итератор, который применяет указанную функцию к каждому элементу итерируемого объекта, выдавая результаты."
   ]
  },
  {
   "cell_type": "markdown",
   "id": "f016b157",
   "metadata": {},
   "source": [
    "Возвращает объект типа **map**. Для последующей обработки необходимо привести к нужному типу (list, tuple) "
   ]
  },
  {
   "cell_type": "markdown",
   "id": "1c162523",
   "metadata": {},
   "source": [
    "#### Примеры:"
   ]
  },
  {
   "cell_type": "markdown",
   "id": "5195a36c",
   "metadata": {},
   "source": [
    "##### Округлить все числа представленного списка"
   ]
  },
  {
   "cell_type": "code",
   "execution_count": 9,
   "id": "b0b3ea18",
   "metadata": {},
   "outputs": [],
   "source": [
    "my_map = map(round,[3.14,45.67,])"
   ]
  },
  {
   "cell_type": "code",
   "execution_count": 10,
   "id": "3f9bc4b1",
   "metadata": {},
   "outputs": [
    {
     "data": {
      "text/plain": [
       "map"
      ]
     },
     "execution_count": 10,
     "metadata": {},
     "output_type": "execute_result"
    }
   ],
   "source": [
    "type(my_map)"
   ]
  },
  {
   "cell_type": "code",
   "execution_count": 11,
   "id": "807a70b5",
   "metadata": {},
   "outputs": [
    {
     "name": "stdout",
     "output_type": "stream",
     "text": [
      "<map object at 0x00000282FFA4A1A0>\n"
     ]
    }
   ],
   "source": [
    "print(my_map)"
   ]
  },
  {
   "cell_type": "code",
   "execution_count": 12,
   "id": "a4be5b95",
   "metadata": {},
   "outputs": [
    {
     "name": "stdout",
     "output_type": "stream",
     "text": [
      "[3, 46]\n"
     ]
    }
   ],
   "source": [
    "# приведение к типу list\n",
    "print(list(my_map))"
   ]
  },
  {
   "cell_type": "markdown",
   "id": "c480823c",
   "metadata": {},
   "source": [
    "Из примера видно, что округление происходит до целого числа. Использовать функцию round для округления до одного знака при такой записи не получится. Потребуется второй итерируемый объект, каждый элеемент которого будет являться для функции round вторым аргументом, то есть количеством знаков после запятой. "
   ]
  },
  {
   "cell_type": "code",
   "execution_count": 13,
   "id": "47513189",
   "metadata": {},
   "outputs": [],
   "source": [
    "my_map = map(round,[3.14,45.67,],[1,1])"
   ]
  },
  {
   "cell_type": "code",
   "execution_count": 14,
   "id": "17df1ad8",
   "metadata": {},
   "outputs": [
    {
     "name": "stdout",
     "output_type": "stream",
     "text": [
      "[3.1, 45.7]\n"
     ]
    }
   ],
   "source": [
    "print(list(my_map))"
   ]
  },
  {
   "cell_type": "markdown",
   "id": "e785b223",
   "metadata": {},
   "source": [
    "Эту же задачу можно решить с помощью <b>lambda-функции</b>, в которой указывается, что должно произойти с аргументом, который будет взят из итерируемого объекта"
   ]
  },
  {
   "cell_type": "code",
   "execution_count": 15,
   "id": "051c199c",
   "metadata": {},
   "outputs": [],
   "source": [
    "my_map1 = map(lambda x: round(x,1),[3.14,45.67,12.89])"
   ]
  },
  {
   "cell_type": "code",
   "execution_count": 16,
   "id": "5752353b",
   "metadata": {},
   "outputs": [
    {
     "name": "stdout",
     "output_type": "stream",
     "text": [
      "[3.1, 45.7, 12.9]\n"
     ]
    }
   ],
   "source": [
    "print(list(my_map1))"
   ]
  },
  {
   "cell_type": "markdown",
   "id": "e08d4ed9",
   "metadata": {},
   "source": [
    "##### Записать числа, введенные с клавиатуры через пробел в список"
   ]
  },
  {
   "cell_type": "markdown",
   "id": "074cf9d3",
   "metadata": {},
   "source": [
    "При вводе данных с клавиатуры (**input()**) они считываются в виде строки. Если необходимо работать с числами, то их необходимо привести к числовому типу с помощью функции **int**. В случае, если требуется ввести не одно, а последовательность чисел, то писать для каждого команду input будет долго. Выходом может стать цикл while, но можно поступить еще лаконичнее:"
   ]
  },
  {
   "cell_type": "code",
   "execution_count": 2,
   "id": "1294a265",
   "metadata": {},
   "outputs": [
    {
     "name": "stdout",
     "output_type": "stream",
     "text": [
      "Введите числа через пробел: 1 2\n",
      "(1, 2)\n"
     ]
    }
   ],
   "source": [
    "my_map2 = map(int,input('Введите числа через пробел: ').split())\n",
    "my_tuple = tuple(my_map2)\n",
    "print(my_tuple)"
   ]
  },
  {
   "cell_type": "markdown",
   "id": "c0c42b35",
   "metadata": {},
   "source": [
    "После этого можно выполнить что-нибудь полезное. Например, найти сумму этих чисел:"
   ]
  },
  {
   "cell_type": "code",
   "execution_count": 18,
   "id": "11901c34",
   "metadata": {},
   "outputs": [
    {
     "name": "stdout",
     "output_type": "stream",
     "text": [
      "0\n"
     ]
    }
   ],
   "source": [
    "print(sum(my_tuple))"
   ]
  },
  {
   "cell_type": "markdown",
   "id": "55e58cef",
   "metadata": {},
   "source": [
    "Можно все записать в одну строку:"
   ]
  },
  {
   "cell_type": "code",
   "execution_count": 3,
   "id": "a902d5b7",
   "metadata": {},
   "outputs": [
    {
     "name": "stdout",
     "output_type": "stream",
     "text": [
      "Введите числа через пробел: 1 2\n",
      "3\n"
     ]
    }
   ],
   "source": [
    "print(sum(tuple(map(int,input('Введите числа через пробел: ').split()))))"
   ]
  },
  {
   "cell_type": "code",
   "execution_count": null,
   "id": "ffb46456",
   "metadata": {},
   "outputs": [],
   "source": []
  },
  {
   "cell_type": "code",
   "execution_count": 20,
   "id": "570848ca",
   "metadata": {},
   "outputs": [
    {
     "name": "stdout",
     "output_type": "stream",
     "text": [
      "['Глуховская', 'Дубова', 'Зиновьева', 'Моисеева', 'Наумов', 'Сазонов', 'Скоробогатов', 'Солопов', 'Шатыренок', 'Шахмагонова']\n",
      "[[5, 4, 4, 3, 5, 5, 3, 5, 4, 3, 5, 4, 3, 3], [5, 3, 4, 4, 4, 3, 5, 3, 5, 3, 4, 5, 3, 3], [3, 3, 4, 3, 3, 5, 4, 5, 4, 3, 3, 4, 5, 3], [5, 4, 3, 3, 4, 4, 5, 3, 4, 5, 5, 3, 3, 5], [5, 3, 3, 3, 4, 3, 3, 3, 3, 5, 5, 5, 4, 5], [5, 5, 5, 5, 4, 4, 4, 5, 5, 4, 3, 4, 3, 3], [4, 4, 4, 3, 3, 4, 4, 3, 3, 5, 4, 4, 4, 5], [3, 5, 4, 3, 5, 3, 5, 5, 4, 5, 4, 3, 3, 5], [3, 5, 5, 3, 3, 3, 5, 5, 5, 3, 5, 4, 3, 4], [4, 3, 3, 5, 3, 3, 4, 5, 4, 3, 3, 3, 3, 4]]\n"
     ]
    }
   ],
   "source": [
    "person_lst=[]\n",
    "marks_lst = []\n",
    "with open ('marks.csv') as f:\n",
    "    for line in f:\n",
    "        s = line.split(';')\n",
    "        p, m = s[0],s[1:]\n",
    "        person_lst.append(p)\n",
    "        marks_lst.append(list(map(int,m)))\n",
    "print(person_lst)\n",
    "print(marks_lst)"
   ]
  },
  {
   "cell_type": "code",
   "execution_count": 21,
   "id": "0a6c235d",
   "metadata": {},
   "outputs": [],
   "source": [
    "average_scores = list(map(lambda x : round(sum(x) / len(x),2), marks_lst))"
   ]
  },
  {
   "cell_type": "code",
   "execution_count": 22,
   "id": "0cb3dfe7",
   "metadata": {},
   "outputs": [
    {
     "name": "stdout",
     "output_type": "stream",
     "text": [
      "[4.0, 3.86, 3.71, 4.0, 3.86, 4.21, 3.86, 4.07, 4.0, 3.57]\n"
     ]
    }
   ],
   "source": [
    "print(average_scores)"
   ]
  },
  {
   "cell_type": "code",
   "execution_count": 23,
   "id": "2a0c3a1e",
   "metadata": {},
   "outputs": [],
   "source": [
    "my_list = list(zip(person_lst,average_scores))"
   ]
  },
  {
   "cell_type": "code",
   "execution_count": 24,
   "id": "b5002416",
   "metadata": {},
   "outputs": [],
   "source": [
    "my_list = sorted(my_list,key=lambda x: x[1],reverse=True)"
   ]
  },
  {
   "cell_type": "code",
   "execution_count": 25,
   "id": "eb460221",
   "metadata": {
    "scrolled": true
   },
   "outputs": [
    {
     "name": "stdout",
     "output_type": "stream",
     "text": [
      "[('Сазонов', 4.21), ('Солопов', 4.07), ('Глуховская', 4.0), ('Моисеева', 4.0), ('Шатыренок', 4.0), ('Дубова', 3.86), ('Наумов', 3.86), ('Скоробогатов', 3.86), ('Зиновьева', 3.71), ('Шахмагонова', 3.57)]\n"
     ]
    }
   ],
   "source": [
    "print(my_list) "
   ]
  },
  {
   "cell_type": "markdown",
   "id": "a94e4e9e",
   "metadata": {},
   "source": [
    "### Функция zip"
   ]
  },
  {
   "cell_type": "markdown",
   "id": "7ede01cc",
   "metadata": {},
   "source": [
    "Выполняет параллельную итерацию по нескольким итерационным элементам, создавая кортежи с элементом из каждого из них.\n",
    "\n",
    "- на вход функции передаются последовательности (списки, кортежи)\n",
    "\n",
    "- zip возвращает итератор с кортежами, в котором n-ый кортеж состоит из n-ых элементов последовательностей, которые были переданы как аргументы\n",
    "\n",
    "например, десятый кортеж будет содержать десятый элемент каждой из переданных последовательностей\n",
    "\n",
    "- если на вход были переданы последовательности разной длины, то все они будут отрезаны по самой короткой последовательности\n",
    "\n",
    "- порядок элементов соблюдается"
   ]
  },
  {
   "cell_type": "markdown",
   "id": "c11f067e",
   "metadata": {},
   "source": [
    "#### Примеры"
   ]
  },
  {
   "cell_type": "markdown",
   "id": "c5c15af1",
   "metadata": {},
   "source": [
    "Списки одинаковой длины"
   ]
  },
  {
   "cell_type": "code",
   "execution_count": 26,
   "id": "7f32b00f",
   "metadata": {},
   "outputs": [
    {
     "data": {
      "text/plain": [
       "[(1, 100), (2, 200), (3, 300)]"
      ]
     },
     "execution_count": 26,
     "metadata": {},
     "output_type": "execute_result"
    }
   ],
   "source": [
    "# Последовательность кортежей из \"одноиндесных\" элементов двух последовательностей\n",
    "a = [1, 2, 3]\n",
    "b = [100, 200, 300]\n",
    "list(zip(a, b))\n"
   ]
  },
  {
   "cell_type": "code",
   "execution_count": 27,
   "id": "106b45a1",
   "metadata": {},
   "outputs": [
    {
     "data": {
      "text/plain": [
       "[101, 202, 303]"
      ]
     },
     "execution_count": 27,
     "metadata": {},
     "output_type": "execute_result"
    }
   ],
   "source": [
    "# Вычисление суммы элементов для каждого кортежа\n",
    "list(map(sum,list(zip(a, b))))"
   ]
  },
  {
   "cell_type": "code",
   "execution_count": null,
   "id": "54684649",
   "metadata": {},
   "outputs": [],
   "source": []
  },
  {
   "cell_type": "code",
   "execution_count": null,
   "id": "914e0805",
   "metadata": {},
   "outputs": [],
   "source": []
  },
  {
   "cell_type": "markdown",
   "id": "516b34e2",
   "metadata": {},
   "source": [
    "Списки разной длины"
   ]
  },
  {
   "cell_type": "code",
   "execution_count": 28,
   "id": "c6405e20",
   "metadata": {},
   "outputs": [
    {
     "data": {
      "text/plain": [
       "[(1, 'Петров'), (2, 'Васечкин'), (3, 'Сыроежкин')]"
      ]
     },
     "execution_count": 28,
     "metadata": {},
     "output_type": "execute_result"
    }
   ],
   "source": [
    "seq = [1, 2, 3]\n",
    "empl_lst = ['Петров', 'Васечкин', 'Сыроежкин', 'Гусев']\n",
    "\n",
    "list(zip(seq, empl_lst))"
   ]
  },
  {
   "cell_type": "markdown",
   "id": "333a2c7b",
   "metadata": {},
   "source": [
    "##### Создание словаря"
   ]
  },
  {
   "cell_type": "code",
   "execution_count": 29,
   "id": "f6f6a474",
   "metadata": {},
   "outputs": [],
   "source": [
    "d_keys = ['name', 'location', 'model']\n",
    "d_values = ['Brados', 'Russia', 'flash']"
   ]
  },
  {
   "cell_type": "code",
   "execution_count": 30,
   "id": "de185424",
   "metadata": {},
   "outputs": [],
   "source": [
    "my_dict = dict(zip(d_keys,d_values))"
   ]
  },
  {
   "cell_type": "code",
   "execution_count": 31,
   "id": "c1df82fa",
   "metadata": {},
   "outputs": [
    {
     "data": {
      "text/plain": [
       "{'name': 'Brados', 'location': 'Russia', 'model': 'flash'}"
      ]
     },
     "execution_count": 31,
     "metadata": {},
     "output_type": "execute_result"
    }
   ],
   "source": [
    "my_dict"
   ]
  },
  {
   "cell_type": "markdown",
   "id": "65a4114f",
   "metadata": {},
   "source": [
    "Можно создать более сложный словарь:"
   ]
  },
  {
   "cell_type": "code",
   "execution_count": 32,
   "id": "c445b85a",
   "metadata": {},
   "outputs": [],
   "source": [
    "d_keys = ['name', 'location', 'model']\n",
    "ski_dict = {'Brados':['Brados', 'Russia', 'flash'], \n",
    "            'Fisher':['Fisher', 'Austria', 'Speedmax 3d'],\n",
    "            'Atomic':['Atomic', 'Austria', 'Redster S9']}"
   ]
  },
  {
   "cell_type": "code",
   "execution_count": 33,
   "id": "1d84a58d",
   "metadata": {},
   "outputs": [],
   "source": [
    "my_ski = dict()\n",
    "for key, value in ski_dict.items():\n",
    "    my_ski[key] = (dict((zip(d_keys,value))))"
   ]
  },
  {
   "cell_type": "code",
   "execution_count": 34,
   "id": "36131398",
   "metadata": {},
   "outputs": [
    {
     "data": {
      "text/plain": [
       "{'Brados': {'name': 'Brados', 'location': 'Russia', 'model': 'flash'},\n",
       " 'Fisher': {'name': 'Fisher', 'location': 'Austria', 'model': 'Speedmax 3d'},\n",
       " 'Atomic': {'name': 'Atomic', 'location': 'Austria', 'model': 'Redster S9'}}"
      ]
     },
     "execution_count": 34,
     "metadata": {},
     "output_type": "execute_result"
    }
   ],
   "source": [
    "my_ski"
   ]
  },
  {
   "cell_type": "markdown",
   "id": "deb2e552",
   "metadata": {},
   "source": [
    "После этого словарь можно использовать в дальнейшей обработке"
   ]
  },
  {
   "cell_type": "markdown",
   "id": "b2241488",
   "metadata": {},
   "source": [
    "#### Средний балл"
   ]
  },
  {
   "cell_type": "markdown",
   "id": "0ba27e2f",
   "metadata": {},
   "source": [
    "В файле marks.csv находятся текущие оценки студентов. Создать скрипт для расчета рейтинга студентов. "
   ]
  },
  {
   "cell_type": "code",
   "execution_count": 35,
   "id": "423aaa83",
   "metadata": {
    "scrolled": true
   },
   "outputs": [
    {
     "name": "stdout",
     "output_type": "stream",
     "text": [
      "[4.0, 3.86, 3.71, 4.0, 3.86, 4.21, 3.86, 4.07, 4.0, 3.57]\n",
      "[('Сазонов', 4.21),\n",
      " ('Солопов', 4.07),\n",
      " ('Глуховская', 4.0),\n",
      " ('Моисеева', 4.0),\n",
      " ('Шатыренок', 4.0),\n",
      " ('Дубова', 3.86),\n",
      " ('Наумов', 3.86),\n",
      " ('Скоробогатов', 3.86),\n",
      " ('Зиновьева', 3.71),\n",
      " ('Шахмагонова', 3.57)]\n"
     ]
    }
   ],
   "source": [
    "from pprint import pprint\n",
    "# Создание пустых списков для:\n",
    "# фамилий\n",
    "person_lst=[]\n",
    "# оценок\n",
    "marks_lst = []\n",
    "# Открытие контекста для файла\n",
    "with open ('marks.csv') as f:\n",
    "    # Для каждой считанной из фала строки повторять\n",
    "    for line in f:\n",
    "        # Разбить строку по разделителю \";\"\n",
    "        s = line.split(';')\n",
    "        # p - фамилия из полученного списка\n",
    "        # m - все оценки\n",
    "        p, m = s[0],s[1:]\n",
    "        # Добавить фамилию в список person_lst\n",
    "        person_lst.append(p)\n",
    "        # Добавить оценки в список marks_lst, предварительно приведя к типу int\n",
    "        marks_lst.append(list(map(int,m)))\n",
    "\n",
    "# Расчет среднего балла для каждого студента\n",
    "average_scores = list(map(lambda x : round(sum(x) / len(x),2), marks_lst))\n",
    "\n",
    "print(average_scores)\n",
    "\n",
    "# Создать пары фамилия - средний балл\n",
    "my_list = list(zip(person_lst,average_scores))\n",
    "\n",
    "# Отсортировать по убыванию (reverse=True) полученный список \n",
    "# по значению среднего балла (key=lambda x: x[1])\n",
    "my_list = sorted(my_list,key=lambda x: x[1],reverse=True)\n",
    "# Напечатать список в презентабельном виде\n",
    "pprint(my_list) \n",
    "\n",
    "# и передать в файл для отправки в учебную часть в отформатированном виде\n",
    "# фамилия - средний балл\n",
    "\n",
    "my_raiting = list(map(list,my_list))\n",
    "\n",
    "\n",
    "with open ('raiting.txt','w',encoding='UTF-8') as f:\n",
    "    for person in my_raiting:\n",
    "        f.write(f'{person[0]} - {person[1]}\\n')"
   ]
  },
  {
   "attachments": {
    "image.png": {
     "image/png": "[encoded data removed]"
    }
   },
   "cell_type": "markdown",
   "id": "6ebfc7e4",
   "metadata": {},
   "source": [
    "![image.png](attachment:image.png)"
   ]
  },
  {
   "cell_type": "code",
   "execution_count": 36,
   "id": "d38ba53a",
   "metadata": {},
   "outputs": [],
   "source": [
    "with open ('raiting1.txt','w',encoding='UTF-8') as f:\n",
    "    for person in my_raiting:\n",
    "        # На колонку с фамилией отводится 20 символов, на средний балл - 4\n",
    "        f.write(\"{:20}{:4}\\n\".format(person[0], person[1]))"
   ]
  },
  {
   "attachments": {
    "image.png": {
     "image/png": "[encoded data removed]"
    }
   },
   "cell_type": "markdown",
   "id": "74c6df32",
   "metadata": {},
   "source": [
    "![image.png](attachment:image.png)"
   ]
  },
  {
   "cell_type": "markdown",
   "id": "865e18ff",
   "metadata": {},
   "source": [
    "### Функция filter"
   ]
  },
  {
   "cell_type": "markdown",
   "id": "b23b39e7",
   "metadata": {},
   "source": [
    "Функция filter применяет функцию ко всем элементам последовательности и возвращает итератор с теми объектами, для которых функция вернула True. \n",
    "\n",
    "Первым аргументом указывается функция, возвращающая результат типа bool (True или False)\n",
    "\n",
    "Например, вернуть только те строки, в которых находятся числа:"
   ]
  },
  {
   "cell_type": "code",
   "execution_count": 37,
   "id": "3f3bcb97",
   "metadata": {},
   "outputs": [
    {
     "name": "stdout",
     "output_type": "stream",
     "text": [
      "<filter object at 0x00000282FFA4DB10>\n",
      "<class 'filter'>\n"
     ]
    }
   ],
   "source": [
    "list_of_strings = ['one', 'two', 'list', '', 'dict', '100', '1', '50']\n",
    "print(filter(str.isdigit, list_of_strings))\n",
    "print(type(filter(str.isdigit, list_of_strings)))"
   ]
  },
  {
   "cell_type": "raw",
   "id": "9e03f4ca",
   "metadata": {},
   "source": [
    "Функция возвращает объект класса filter. Для вывода результата необходимо его привести к нужному типу:"
   ]
  },
  {
   "cell_type": "code",
   "execution_count": 38,
   "id": "3726e7f1",
   "metadata": {},
   "outputs": [
    {
     "name": "stdout",
     "output_type": "stream",
     "text": [
      "['100', '1', '50']\n"
     ]
    }
   ],
   "source": [
    "my_filter = list(filter(str.isdigit, list_of_strings))\n",
    "print(my_filter)"
   ]
  },
  {
   "cell_type": "markdown",
   "id": "f2f55385",
   "metadata": {},
   "source": [
    "#### Примеры"
   ]
  },
  {
   "cell_type": "markdown",
   "id": "52545121",
   "metadata": {},
   "source": [
    "##### `Фильтрация нечетных чисел"
   ]
  },
  {
   "cell_type": "markdown",
   "id": "797c017f",
   "metadata": {},
   "source": [
    "1. Напишите скрипт, который отфильтровывает нечетные числа из списка целых чисел, используя функцию filter"
   ]
  },
  {
   "cell_type": "code",
   "execution_count": 39,
   "id": "035bee57",
   "metadata": {},
   "outputs": [
    {
     "name": "stdout",
     "output_type": "stream",
     "text": [
      "[1, 5, 57, 89]\n"
     ]
    }
   ],
   "source": [
    "my_list = [1,4,6,5,16,42,57,89]\n",
    "\n",
    "# Применение lambda-функции\n",
    "my_filter = filter(lambda x: x % 2,my_list)\n",
    "print(list(my_filter))"
   ]
  },
  {
   "cell_type": "markdown",
   "id": "5d585780",
   "metadata": {},
   "source": [
    "<b>lambda x: x % 2</b> работает следующим образом: <br>для каждого аргумента возвращается остаток от деления на 2. Для нечетных чисел это будет целое число, не равное 0. А такое число Python принимает за True. Следовательно, данный аргумент попадает в filter."
   ]
  },
  {
   "cell_type": "markdown",
   "id": "88332112",
   "metadata": {},
   "source": [
    "Для четных чисел код будет выглядеть так:"
   ]
  },
  {
   "cell_type": "code",
   "execution_count": 40,
   "id": "c537b925",
   "metadata": {},
   "outputs": [
    {
     "name": "stdout",
     "output_type": "stream",
     "text": [
      "[4, 6, 16, 42]\n"
     ]
    }
   ],
   "source": [
    "# Применение lambda-функции\n",
    "my_filter = filter(lambda x: not(x % 2), my_list)\n",
    "print(list(my_filter))"
   ]
  },
  {
   "cell_type": "markdown",
   "id": "21489ec6",
   "metadata": {},
   "source": [
    "##### Список студентов с заданным рейтингом"
   ]
  },
  {
   "cell_type": "markdown",
   "id": "bae75182",
   "metadata": {},
   "source": [
    "Из файла raiting1.txt, сфорированного ранее, вывести студентов, чей рейтинг больше или равен 4 баллов"
   ]
  },
  {
   "cell_type": "code",
   "execution_count": 41,
   "id": "c0641346",
   "metadata": {},
   "outputs": [],
   "source": [
    "full_lst = []\n",
    "# Открыть файл для чтения\n",
    "with open ('raiting1.txt','r',encoding='UTF-8') as f:\n",
    "        # Считать все в список и разбить каждый элемент\n",
    "        full_lst = list(map(lambda x: x.split(),f.readlines()))"
   ]
  },
  {
   "cell_type": "code",
   "execution_count": 42,
   "id": "40127dab",
   "metadata": {},
   "outputs": [
    {
     "data": {
      "text/plain": [
       "[['Сазонов', '4.21'],\n",
       " ['Солопов', '4.07'],\n",
       " ['Глуховская', '4.0'],\n",
       " ['Моисеева', '4.0'],\n",
       " ['Шатыренок', '4.0'],\n",
       " ['Дубова', '3.86'],\n",
       " ['Наумов', '3.86'],\n",
       " ['Скоробогатов', '3.86'],\n",
       " ['Зиновьева', '3.71'],\n",
       " ['Шахмагонова', '3.57']]"
      ]
     },
     "execution_count": 42,
     "metadata": {},
     "output_type": "execute_result"
    }
   ],
   "source": [
    "full_lst"
   ]
  },
  {
   "cell_type": "code",
   "execution_count": 43,
   "id": "4911d90d",
   "metadata": {},
   "outputs": [],
   "source": [
    "my_filter = list(filter(lambda x: float(x[1])>=4.0, full_lst))"
   ]
  },
  {
   "cell_type": "code",
   "execution_count": 44,
   "id": "2c70e1c7",
   "metadata": {},
   "outputs": [
    {
     "data": {
      "text/plain": [
       "[['Сазонов', '4.21'],\n",
       " ['Солопов', '4.07'],\n",
       " ['Глуховская', '4.0'],\n",
       " ['Моисеева', '4.0'],\n",
       " ['Шатыренок', '4.0']]"
      ]
     },
     "execution_count": 44,
     "metadata": {},
     "output_type": "execute_result"
    }
   ],
   "source": [
    "my_filter"
   ]
  },
  {
   "cell_type": "markdown",
   "id": "21d8b706",
   "metadata": {},
   "source": [
    "**lambda x: float(x[1])>=4.0** - каждый аргумент списка full_lst является списком (вложенный). Средний балл - это элемент с индексом 1 (x[1]). Он преобразовывется в вещественное число (float) и сравнивается с 4.0. Если результат True, то и весь элемент попадает в итоговый набор."
   ]
  },
  {
   "cell_type": "markdown",
   "id": "9431a063",
   "metadata": {},
   "source": [
    "##### Список строк, содержащих заданную строку"
   ]
  },
  {
   "cell_type": "code",
   "execution_count": 45,
   "id": "c2eede21",
   "metadata": {},
   "outputs": [],
   "source": [
    "a = ['мама', 'мыла', 'раму']"
   ]
  },
  {
   "cell_type": "code",
   "execution_count": 46,
   "id": "f10b30bc",
   "metadata": {},
   "outputs": [],
   "source": [
    "def my_func(fw,*args):\n",
    "    return list(filter(lambda x: fw in x,args))"
   ]
  },
  {
   "cell_type": "code",
   "execution_count": 47,
   "id": "d5361a32",
   "metadata": {
    "scrolled": true
   },
   "outputs": [
    {
     "data": {
      "text/plain": [
       "['раму']"
      ]
     },
     "execution_count": 47,
     "metadata": {},
     "output_type": "execute_result"
    }
   ],
   "source": [
    "my_func('у',*a)"
   ]
  },
  {
   "cell_type": "markdown",
   "id": "705e6e1f",
   "metadata": {},
   "source": [
    "### Функция reduce()"
   ]
  },
  {
   "cell_type": "markdown",
   "id": "18d2f697",
   "metadata": {},
   "source": [
    "Функция **reduce()** модуля **functools** кумулятивно применяет функцию function к элементам итерируемой iterable последовательности, сводя её к единственному значению.\n",
    "\n",
    "Функция functools.reduce() может быть полезна в различных сценариях, когда необходимо агрегировать данные или преобразовывать их кумулятивным (накопительным) способом."
   ]
  },
  {
   "cell_type": "code",
   "execution_count": 48,
   "id": "9c8f4e7b",
   "metadata": {},
   "outputs": [],
   "source": [
    "from functools import reduce"
   ]
  },
  {
   "cell_type": "markdown",
   "id": "a659bbf1",
   "metadata": {},
   "source": [
    "Синтаксис:\n",
    "\n",
    "reduce(function, iterable[, initializer])\n",
    "\n",
    "Параметры:\n",
    "- function - пользовательская функция, принимающая 2 аргумента,\n",
    "- iterable - итерируемая последовательность,\n",
    "- initializer - начальное значение.\n",
    "\n",
    "\n",
    "Аргумент function это функция которую требуется применить к элементам последовательности. Должна принимать два аргумента, где первый аргумент - аккумулированное ранее значение, а второй аргумент следующий элемент последовательности.\n",
    "\n",
    "Аргумент iterable представляет собой последовательность, элементы которой требуется свести к единственному значению. Если последовательность пуста и не задан аргумент initializer, то возбуждается исключение TypeError.\n",
    "\n"
   ]
  },
  {
   "cell_type": "code",
   "execution_count": 49,
   "id": "9653dc5a",
   "metadata": {},
   "outputs": [
    {
     "data": {
      "text/plain": [
       "15"
      ]
     },
     "execution_count": 49,
     "metadata": {},
     "output_type": "execute_result"
    }
   ],
   "source": [
    "reduce(lambda x, y: x+y, [1, 2, 3, 4, 5])"
   ]
  },
  {
   "cell_type": "markdown",
   "id": "4da0374b",
   "metadata": {},
   "source": [
    "Вычисляет ((((1 + 2) +3) +4) +5). \n",
    "\n",
    "Левый аргумент x - это накопленное значение, а правый аргумент y - это следующий элемент iterable (в данном случае - списка)\n",
    "\n",
    "Если присутствует необязательный initializer, он помещается перед элементами iterable в вычислении. Другими словами это базовое значение, с которого требуется начать отсчёт. Аргумент initializer, так же служит значением по умолчанию, когда iterable является пустым."
   ]
  },
  {
   "cell_type": "markdown",
   "id": "481b9deb",
   "metadata": {},
   "source": [
    "#### Примеры:"
   ]
  },
  {
   "cell_type": "markdown",
   "id": "12656085",
   "metadata": {},
   "source": [
    "##### Вычисление суммы всех элементов списка при помощи reduce() и lambda-функции:"
   ]
  },
  {
   "cell_type": "code",
   "execution_count": 50,
   "id": "b053fdb9",
   "metadata": {},
   "outputs": [
    {
     "data": {
      "text/plain": [
       "150"
      ]
     },
     "execution_count": 50,
     "metadata": {},
     "output_type": "execute_result"
    }
   ],
   "source": [
    "from functools import reduce\n",
    "items = [10, 20, 30, 40, 50]\n",
    "reduce(lambda x,y: x + y, items)"
   ]
  },
  {
   "cell_type": "markdown",
   "id": "9f09b4b7",
   "metadata": {},
   "source": [
    "##### Нахождение наибольшего элемента в списке"
   ]
  },
  {
   "cell_type": "code",
   "execution_count": 51,
   "id": "82ce2d18",
   "metadata": {},
   "outputs": [
    {
     "data": {
      "text/plain": [
       "32"
      ]
     },
     "execution_count": 51,
     "metadata": {},
     "output_type": "execute_result"
    }
   ],
   "source": [
    "items = [1, 24, 17, 14, 9, 32, 2]\n",
    "reduce(lambda a,b: a if (a > b) else b, items)\n"
   ]
  },
  {
   "cell_type": "code",
   "execution_count": null,
   "id": "326d4cdc",
   "metadata": {},
   "outputs": [],
   "source": []
  },
  {
   "cell_type": "code",
   "execution_count": null,
   "id": "fe0223b5",
   "metadata": {},
   "outputs": [],
   "source": []
  },
  {
   "cell_type": "markdown",
   "id": "d789271d",
   "metadata": {},
   "source": [
    "## Задания для выполнения"
   ]
  },
  {
   "cell_type": "markdown",
   "id": "987a9594",
   "metadata": {},
   "source": [
    "### map"
   ]
  },
  {
   "cell_type": "markdown",
   "id": "92e31cb9",
   "metadata": {},
   "source": [
    "1. Напишите программу на Python, чтобы утроить все числа в заданном списке целых чисел. Используйте Python map"
   ]
  },
  {
   "cell_type": "markdown",
   "id": "f304f560",
   "metadata": {},
   "source": [
    "2. Напишите программу на Python для создания списка, состоящего из элементов, возведеных в степень своего индекса, используя Python map"
   ]
  },
  {
   "cell_type": "markdown",
   "id": "34da1233",
   "metadata": {},
   "source": [
    "3. Напишите программу на Python, которая преобразует все символы в верхний и нижний регистры и удалит повторяющиеся буквы из заданной последовательности. Используйте функцию map()."
   ]
  },
  {
   "cell_type": "markdown",
   "id": "5542294b",
   "metadata": {},
   "source": [
    "### filter"
   ]
  },
  {
   "cell_type": "markdown",
   "id": "31aa38c4",
   "metadata": {},
   "source": [
    "1. Напишите функцию Python, которая отфильтровывает все элементы, меньшие или равные указанному значению, из списка чисел, используя функцию filter"
   ]
  },
  {
   "cell_type": "markdown",
   "id": "b3d36cd2",
   "metadata": {},
   "source": [
    "2. Напишите программу на Python, которая создает список имен и использует функцию фильтра для извлечения имен, начинающихся с буквы Е."
   ]
  }
 ],
 "metadata": {
  "kernelspec": {
   "display_name": "Python 3 (ipykernel)",
   "language": "python",
   "name": "python3"
  },
  "language_info": {
   "codemirror_mode": {
    "name": "ipython",
    "version": 3
   },
   "file_extension": ".py",
   "mimetype": "text/x-python",
   "name": "python",
   "nbconvert_exporter": "python",
   "pygments_lexer": "ipython3",
   "version": "3.11.5"
  }
 },
 "nbformat": 4,
 "nbformat_minor": 5
}
