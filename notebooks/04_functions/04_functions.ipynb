{
 "cells": [
  {
   "cell_type": "markdown",
   "id": "38f16672",
   "metadata": {},
   "source": [
    "# Функции"
   ]
  },
  {
   "cell_type": "markdown",
   "id": "ea476843",
   "metadata": {},
   "source": [
    "Функция в программировании — это фрагмент кода, который можно неоднократно вызвать на исполнение из другого места программы по мере необходимости.\n",
    "\n",
    "Функции имеет имя и она принимает на вход один или несколько параметров. \n",
    "\n",
    "Также функции могут возвращать или не возвращать какие-либо значения.\n",
    "\n",
    "Функции бывают:\n",
    "\n",
    "- `встроенные <https://docs.python.org/3/library/functions.html>`__ — они доступны в Python по умолчанию;\n",
    "- вызываемые из импортируемых модулей;\n",
    "- пользовательские;\n",
    "\n",
    "**Параметры и аргументы**\n",
    "\n",
    "Запуск кода функции называется вызовом функции.\n",
    "\n",
    "**Параметры** — это переменные, которые определяются в момент создания функции и служат местом для данных, которые будут использованы в этой функции.\n",
    "\n",
    "**Аргументы** — это конкретные значения, которые передаются в функцию при её вызове.\n",
    "\n",
    "Если функция — это рецепт блюда, то параметры — это список ингредиентов, а аргументы — сами ингредиенты, которые добавляются по рецепту.\n",
    " \n",
    "Обычно при создании функции описываются параметры функции, которые определяют, какие аргументы функция может принимать. Код функции будет выполняться с учетом указанных аргументов\n",
    "\n",
    "**Для чего нужны функции?**\n",
    "\n",
    "Программисты пишут какой-нибудь кусок кода один раз, а потом используют его в других частях программы или новых программах.\n",
    "\n",
    "Например:\n",
    "\n",
    "Например, при работе в сетевом администрировании часто необходимо выполнять действия с конфигураационными файлами:\n",
    "\n",
    "- открытие файла;\n",
    "- удаление (или пропуск) пустых строк\n",
    "- удаление символов перевода строки в конце строк;\n",
    "- преобразование полученного результата в список;\n",
    "\n",
    "В анализе данных:\n",
    "\n",
    "- выполнять преобразование исходных данных;\n",
    "- выполнение расчетов над столбцами или строками;\n",
    "- представление данных в определенном формате;\n",
    "\n",
    "Конечно, можно копировать блоки в пределах скрипта или между ними. А если что-то поменяется алгоритм, а этот \"кусок кода\" размещен в 100 местах программы?\n",
    "\n",
    "При использовании функций изменения вносятся в одном месте и автоматически применяются везде. \n",
    "\n",
    "Но это очень неудобно, так как при внесении изменений в код нужно будет обновить его во всех файлах, в которые он скопирован."
   ]
  },
  {
   "cell_type": "code",
   "execution_count": null,
   "id": "d019532e",
   "metadata": {},
   "outputs": [],
   "source": []
  },
  {
   "cell_type": "markdown",
   "id": "d789271d",
   "metadata": {},
   "source": [
    "## Функции пользователя"
   ]
  },
  {
   "cell_type": "markdown",
   "id": "d2b5566f",
   "metadata": {},
   "source": [
    "### Создание функции"
   ]
  },
  {
   "attachments": {
    "image.png": {
     "image/png": "[encoded data removed]"
    }
   },
   "cell_type": "markdown",
   "id": "e671daf6",
   "metadata": {},
   "source": [
    "![image.png](attachment:image.png)\n",
    "   \n",
    "    "
   ]
  },
  {
   "cell_type": "markdown",
   "id": "baab4670",
   "metadata": {},
   "source": [
    "Фунцкция создается с помощью ключевого слова **def**.\n",
    "\n",
    "Сразу после def идет **имя функции**, а после него в круглых скобках должны находиться **параметры** для работы этой функции. Функция может не иметь параметров."
   ]
  },
  {
   "cell_type": "code",
   "execution_count": 10,
   "id": "daf9b462",
   "metadata": {},
   "outputs": [],
   "source": [
    "# Определение функции\n",
    "def say_hello():\n",
    "    print(\"Hello, World!\")"
   ]
  },
  {
   "cell_type": "code",
   "execution_count": 9,
   "id": "2e885046",
   "metadata": {},
   "outputs": [
    {
     "name": "stdout",
     "output_type": "stream",
     "text": [
      "Hello, World!\n"
     ]
    }
   ],
   "source": [
    "# Вызов функции\n",
    "say_hello()"
   ]
  },
  {
   "cell_type": "markdown",
   "id": "62a42d5b",
   "metadata": {},
   "source": [
    "### Инструкция return "
   ]
  },
  {
   "cell_type": "markdown",
   "id": "4eb2930a",
   "metadata": {},
   "source": [
    "**return** используется в теле функции, если нужно вернуть какое-то значение. Если инструкции **return** нет, тогда по умолчанию функция будет возвращать объект **None**. Как в этом примере:"
   ]
  },
  {
   "cell_type": "code",
   "execution_count": 12,
   "id": "1a8db2f7",
   "metadata": {},
   "outputs": [],
   "source": [
    "# Определение функции\n",
    "def sum_numbers(a,b):\n",
    "    sum = a + b"
   ]
  },
  {
   "cell_type": "code",
   "execution_count": 14,
   "id": "369dd551",
   "metadata": {},
   "outputs": [
    {
     "name": "stdout",
     "output_type": "stream",
     "text": [
      "None\n"
     ]
    }
   ],
   "source": [
    "print(sum_numbers(1,2))"
   ]
  },
  {
   "cell_type": "raw",
   "id": "efb597a4",
   "metadata": {},
   "source": [
    "Добавление return"
   ]
  },
  {
   "cell_type": "code",
   "execution_count": 15,
   "id": "fa2a51e2",
   "metadata": {},
   "outputs": [],
   "source": [
    "# Определение функции\n",
    "def sum_numbers(a,b):\n",
    "    sum = a + b\n",
    "    return sum"
   ]
  },
  {
   "cell_type": "code",
   "execution_count": 17,
   "id": "9452b7ad",
   "metadata": {},
   "outputs": [
    {
     "name": "stdout",
     "output_type": "stream",
     "text": [
      "Сумма чисел равна 3\n"
     ]
    }
   ],
   "source": [
    "print(f'Сумма чисел равна {sum_numbers(1,2)}')"
   ]
  },
  {
   "cell_type": "markdown",
   "id": "ce1a710e",
   "metadata": {},
   "source": [
    "<div class=\"alert alert-danger\">\n",
    "    \n",
    "ВАЖНО: Функция выполняется до первого **return**. \n",
    "\n",
    "Инструкции, описанные после **return**, не выполняются.\n",
    "</div>"
   ]
  },
  {
   "cell_type": "code",
   "execution_count": 23,
   "id": "2093fcfd",
   "metadata": {},
   "outputs": [],
   "source": [
    "# Определение функции\n",
    "def sum_numbers(a,b):\n",
    "    sum = a + b\n",
    "    return sum\n",
    "    print('Функция выполнена!!!\\n')"
   ]
  },
  {
   "cell_type": "code",
   "execution_count": 24,
   "id": "0c77d06e",
   "metadata": {},
   "outputs": [
    {
     "name": "stdout",
     "output_type": "stream",
     "text": [
      "Сумма чисел равна 3\n"
     ]
    }
   ],
   "source": [
    "print(f'Сумма чисел равна {sum_numbers(1,2)}')"
   ]
  },
  {
   "cell_type": "code",
   "execution_count": 25,
   "id": "32bfd4c7",
   "metadata": {},
   "outputs": [],
   "source": [
    "# Определение функции\n",
    "def sum_numbers(a,b):\n",
    "    sum = a + b\n",
    "    print('Функция выполнена!!!\\n')\n",
    "    return sum"
   ]
  },
  {
   "cell_type": "code",
   "execution_count": 26,
   "id": "48f08690",
   "metadata": {},
   "outputs": [
    {
     "name": "stdout",
     "output_type": "stream",
     "text": [
      "Функция выполнена!!!\n",
      "\n",
      "Сумма чисел равна 3\n"
     ]
    }
   ],
   "source": [
    "print(f'Сумма чисел равна {sum_numbers(1,2)}')"
   ]
  },
  {
   "cell_type": "markdown",
   "id": "ece9455f",
   "metadata": {},
   "source": [
    "#### Возврат нескольких значений"
   ]
  },
  {
   "cell_type": "markdown",
   "id": "548af68c",
   "metadata": {},
   "source": [
    "Если после оператора **return** указать несколько значений, то они будут возвращены в точку вызова функции в виде кортежа:"
   ]
  },
  {
   "cell_type": "code",
   "execution_count": 30,
   "id": "b72a8ab7",
   "metadata": {},
   "outputs": [],
   "source": [
    "# Определение функции\n",
    "def sum_numbers(a,b):\n",
    "    sum = a + b\n",
    "    return a, b, sum"
   ]
  },
  {
   "cell_type": "code",
   "execution_count": 33,
   "id": "342210b7",
   "metadata": {},
   "outputs": [],
   "source": [
    "result = sum_numbers(5,7)"
   ]
  },
  {
   "cell_type": "code",
   "execution_count": 34,
   "id": "be54446b",
   "metadata": {},
   "outputs": [
    {
     "name": "stdout",
     "output_type": "stream",
     "text": [
      "(5, 7, 12)\n"
     ]
    }
   ],
   "source": [
    "print(result)"
   ]
  },
  {
   "cell_type": "markdown",
   "id": "1d147191",
   "metadata": {},
   "source": [
    "#### Високосный год"
   ]
  },
  {
   "cell_type": "markdown",
   "id": "de2ae231",
   "metadata": {},
   "source": [
    "Написать скрипт для определения \"високосности\" года. Год является високосным, если его значение кратно 4 и не кратно 100 или кратно 400"
   ]
  },
  {
   "cell_type": "code",
   "execution_count": 46,
   "id": "e1831812",
   "metadata": {},
   "outputs": [],
   "source": [
    "def is_leap_year(year):\n",
    "    if (year % 4 == 0 and year % 100 != 0) or year % 400 == 0:\n",
    "      return True\n",
    "    else:\n",
    "      return False"
   ]
  },
  {
   "cell_type": "code",
   "execution_count": 50,
   "id": "94eb698d",
   "metadata": {},
   "outputs": [
    {
     "name": "stdout",
     "output_type": "stream",
     "text": [
      "Введите год: 2023\n",
      "2023 - не високосный год\n"
     ]
    }
   ],
   "source": [
    "# Ввод данных\n",
    "my_year = int(input('Введите год: '))\n",
    "\n",
    "# Функция вызывается и её результат проверяется if\n",
    "if is_leap_year(my_year):\n",
    "    print(f'{my_year} - високосный год')\n",
    "else:\n",
    "    print(f'{my_year} - не високосный год')\n"
   ]
  },
  {
   "cell_type": "markdown",
   "id": "ebc63316",
   "metadata": {},
   "source": [
    "После ввода номер года, он записывается в переменную **my_year**. Далее, эта переменная в качестве аргумента передается функции **is_leap_year** и там записывается в параметр **year**. Это значение проверяется в функции в операторе **if**. В зависимости от истинности этого условия в точку вызова программы возвращается результат. И на основании этого результата уже в основной функции печатается в консоль результат проверки."
   ]
  },
  {
   "cell_type": "markdown",
   "id": "d97d69fc",
   "metadata": {},
   "source": [
    "Более лаконичный вариант функции:"
   ]
  },
  {
   "cell_type": "code",
   "execution_count": 51,
   "id": "a04bd350",
   "metadata": {},
   "outputs": [],
   "source": [
    "def is_leap_year(year):\n",
    "    return (year % 4 == 0 and year % 100 != 0) or year % 400 == 0"
   ]
  },
  {
   "cell_type": "markdown",
   "id": "0d777501",
   "metadata": {},
   "source": [
    "### Документация (docstring)\n",
    "Первая строка в определении функции - это docstring, строка документации. Это комментарий, который используется как описание функции:"
   ]
  },
  {
   "cell_type": "code",
   "execution_count": 56,
   "id": "2034f229",
   "metadata": {},
   "outputs": [],
   "source": [
    "def is_leap_year(year):\n",
    "    \"\"\"\n",
    "    Функция определения високосности года\n",
    "    \"\"\"\n",
    "    return (year % 4 == 0 and year % 100 != 0) or year % 400 == 0"
   ]
  },
  {
   "cell_type": "code",
   "execution_count": 59,
   "id": "b11c6a22",
   "metadata": {},
   "outputs": [],
   "source": [
    "is_leap_year?"
   ]
  },
  {
   "attachments": {
    "image.png": {
     "image/png": "[encoded data removed]"
    }
   },
   "cell_type": "markdown",
   "id": "5bf5d604",
   "metadata": {},
   "source": [
    "![image.png](attachment:image.png)"
   ]
  },
  {
   "cell_type": "code",
   "execution_count": 60,
   "id": "21552cbb",
   "metadata": {},
   "outputs": [
    {
     "data": {
      "text/plain": [
       "'\\n    Функция определения високосности года\\n    '"
      ]
     },
     "execution_count": 60,
     "metadata": {},
     "output_type": "execute_result"
    }
   ],
   "source": [
    "is_leap_year.__doc__"
   ]
  },
  {
   "cell_type": "markdown",
   "id": "0dada935",
   "metadata": {},
   "source": [
    "Документация позволяет понять, как работает функция, если ее используют другие специалисты."
   ]
  },
  {
   "cell_type": "markdown",
   "id": "6341fb43",
   "metadata": {},
   "source": [
    "## Параметры функции"
   ]
  },
  {
   "cell_type": "markdown",
   "id": "f7dc9df2",
   "metadata": {},
   "source": [
    "Параметры функции бывают:\n",
    "- **Обязательные**;\n",
    "- **Необязательные** (опциональные, со значением по умолчанию)."
   ]
  },
  {
   "cell_type": "markdown",
   "id": "3a2c2c02",
   "metadata": {},
   "source": [
    "### Обязательные параметры\n",
    "\n",
    "Обязательные параметры определяют, какие аргументы нужно передать функции обязательно. При этом, количество аргументов при вызове функции должно быть **ровно** таким, сколько указано параметров функции."
   ]
  },
  {
   "cell_type": "code",
   "execution_count": 61,
   "id": "859dbca6",
   "metadata": {},
   "outputs": [],
   "source": [
    "def print_names(name1, name2):\n",
    "    print(name1)\n",
    "    print(name2)"
   ]
  },
  {
   "cell_type": "code",
   "execution_count": 62,
   "id": "3641495c",
   "metadata": {},
   "outputs": [
    {
     "name": "stdout",
     "output_type": "stream",
     "text": [
      "Михаил\n",
      "Валентина\n"
     ]
    }
   ],
   "source": [
    "print_names('Михаил','Валентина')"
   ]
  },
  {
   "cell_type": "code",
   "execution_count": 63,
   "id": "5ea12065",
   "metadata": {},
   "outputs": [
    {
     "ename": "TypeError",
     "evalue": "print_names() missing 1 required positional argument: 'name2'",
     "output_type": "error",
     "traceback": [
      "\u001b[1;31m---------------------------------------------------------------------------\u001b[0m",
      "\u001b[1;31mTypeError\u001b[0m                                 Traceback (most recent call last)",
      "Cell \u001b[1;32mIn[63], line 1\u001b[0m\n\u001b[1;32m----> 1\u001b[0m print_names(\u001b[38;5;124m'\u001b[39m\u001b[38;5;124mЗоя\u001b[39m\u001b[38;5;124m'\u001b[39m)\n",
      "\u001b[1;31mTypeError\u001b[0m: print_names() missing 1 required positional argument: 'name2'"
     ]
    }
   ],
   "source": [
    "print_names('Зоя')"
   ]
  },
  {
   "cell_type": "markdown",
   "id": "07f86d71",
   "metadata": {},
   "source": [
    "В данном случае фунция ожидает 2 аргумента, а ей передан один."
   ]
  },
  {
   "cell_type": "markdown",
   "id": "e3906b35",
   "metadata": {},
   "source": [
    "### Необязательные параметры (параметры со значением по умолчанию)\n",
    "\n",
    "Значение необязательного параметра указывается при определении функции и подставляется автоматически при ее вызове.\n",
    "\n",
    "Для необязательного параметра нет необходимости указывать значение аргумента при вызове функции."
   ]
  },
  {
   "cell_type": "code",
   "execution_count": 68,
   "id": "9ce0e338",
   "metadata": {},
   "outputs": [],
   "source": [
    "def check_passwd(username, password, min_length=8):\n",
    "    \"\"\"\n",
    "    Функция проверки ппароля на соответствие требованиям, устанавливаемым к паролям\n",
    "    \"\"\"\n",
    "    if len(password) < min_length:\n",
    "        print('Пароль слишком короткий')\n",
    "        return False\n",
    "    elif username in password:\n",
    "        print('Пароль содержит имя пользователя')\n",
    "        return False\n",
    "    else:\n",
    "        print(f'Пароль для пользователя {username} прошел все проверки')\n",
    "        return True"
   ]
  },
  {
   "cell_type": "code",
   "execution_count": 70,
   "id": "d35cf19d",
   "metadata": {},
   "outputs": [
    {
     "name": "stdout",
     "output_type": "stream",
     "text": [
      "Пароль слишком короткий\n"
     ]
    },
    {
     "data": {
      "text/plain": [
       "False"
      ]
     },
     "execution_count": 70,
     "metadata": {},
     "output_type": "execute_result"
    }
   ],
   "source": [
    "# Вызов функции без указания min_lendth\n",
    "check_passwd('mike', '2345')"
   ]
  },
  {
   "cell_type": "markdown",
   "id": "41cf9bfc",
   "metadata": {},
   "source": [
    "При работе функции было подставлен значение **min_length**, равное 8, как в определении функции "
   ]
  },
  {
   "cell_type": "code",
   "execution_count": 71,
   "id": "1550aed4",
   "metadata": {},
   "outputs": [
    {
     "name": "stdout",
     "output_type": "stream",
     "text": [
      "Пароль для пользователя mike прошел все проверки\n"
     ]
    },
    {
     "data": {
      "text/plain": [
       "True"
      ]
     },
     "execution_count": 71,
     "metadata": {},
     "output_type": "execute_result"
    }
   ],
   "source": [
    "# Вызов функции с указанием min_lendth\n",
    "check_passwd('mike', '2345', 3)"
   ]
  },
  {
   "cell_type": "markdown",
   "id": "389ae127",
   "metadata": {},
   "source": [
    "При работе функции c таким набором параметров было подставлено значение min_length, равное 3."
   ]
  },
  {
   "cell_type": "code",
   "execution_count": null,
   "id": "591f7e0a",
   "metadata": {},
   "outputs": [],
   "source": []
  },
  {
   "cell_type": "code",
   "execution_count": null,
   "id": "9f1bbd18",
   "metadata": {},
   "outputs": [],
   "source": []
  },
  {
   "cell_type": "markdown",
   "id": "506e463a",
   "metadata": {},
   "source": [
    "## Аргументы функции"
   ]
  },
  {
   "cell_type": "markdown",
   "id": "5c8ffdea",
   "metadata": {},
   "source": [
    "Аргументы функции бывают:\n",
    "- **Позиционные**  передаются в том же порядке, в котором они определены при создании функции. То есть, порядок передачи аргументов определяет, какое значение получит каждый аргумент;\n",
    "- **Ключевые** - передаются с указанием имени аргумента и его значения. Так как их имя указывается явно, то таком случае, аргументы могут быть указаны в любом порядке."
   ]
  },
  {
   "attachments": {
    "image-3.png": {
     "image/png": "[encoded data removed]"
    }
   },
   "cell_type": "markdown",
   "id": "8b3fcc2d",
   "metadata": {},
   "source": [
    "![image-3.png](attachment:image-3.png)"
   ]
  },
  {
   "cell_type": "markdown",
   "id": "ce3be6de",
   "metadata": {},
   "source": [
    "При вызове функции с испльзованием и позиционных и ключевых агрументов первыми передаются позиционные"
   ]
  },
  {
   "cell_type": "code",
   "execution_count": 72,
   "id": "e555b942",
   "metadata": {},
   "outputs": [
    {
     "name": "stdout",
     "output_type": "stream",
     "text": [
      "Пароль для пользователя mike прошел все проверки\n"
     ]
    },
    {
     "data": {
      "text/plain": [
       "True"
      ]
     },
     "execution_count": 72,
     "metadata": {},
     "output_type": "execute_result"
    }
   ],
   "source": [
    "# Вызов функции с указанием ключевого аргумента после позиционных\n",
    "check_passwd('mike', '2345', min_length=3)"
   ]
  },
  {
   "cell_type": "code",
   "execution_count": 74,
   "id": "fb7678ef",
   "metadata": {},
   "outputs": [
    {
     "ename": "SyntaxError",
     "evalue": "positional argument follows keyword argument (276712302.py, line 2)",
     "output_type": "error",
     "traceback": [
      "\u001b[1;36m  Cell \u001b[1;32mIn[74], line 2\u001b[1;36m\u001b[0m\n\u001b[1;33m    check_passwd(min_length=3, 'mike', '2345')\u001b[0m\n\u001b[1;37m                                             ^\u001b[0m\n\u001b[1;31mSyntaxError\u001b[0m\u001b[1;31m:\u001b[0m positional argument follows keyword argument\n"
     ]
    }
   ],
   "source": [
    "# Вызов функции с указанием ключевого аргумента перед позиционными\n",
    "check_passwd(min_length=3, 'mike', '2345')"
   ]
  },
  {
   "cell_type": "code",
   "execution_count": null,
   "id": "5802275d",
   "metadata": {},
   "outputs": [],
   "source": []
  },
  {
   "cell_type": "code",
   "execution_count": null,
   "id": "bff5713c",
   "metadata": {},
   "outputs": [],
   "source": []
  },
  {
   "cell_type": "markdown",
   "id": "263c70d9",
   "metadata": {},
   "source": [
    "### Позиционные аргументы"
   ]
  },
  {
   "cell_type": "markdown",
   "id": "ce3bbed5",
   "metadata": {},
   "source": [
    "Для данных параметров важна позиция, в которой они описаны в функции. Если параметр описан первым, то и при при вызове функции аргумент, переданный первым будет записан в него, второй - во второй и так далее. "
   ]
  },
  {
   "cell_type": "code",
   "execution_count": 52,
   "id": "f108427d",
   "metadata": {},
   "outputs": [],
   "source": [
    "def print_names(name1, name2):\n",
    "    print(name1)\n",
    "    print(name2)"
   ]
  },
  {
   "cell_type": "code",
   "execution_count": 53,
   "id": "9551dd11",
   "metadata": {},
   "outputs": [
    {
     "name": "stdout",
     "output_type": "stream",
     "text": [
      "Михаил\n",
      "Валентина\n"
     ]
    }
   ],
   "source": [
    "print_names('Михаил','Валентина')"
   ]
  },
  {
   "cell_type": "code",
   "execution_count": 54,
   "id": "62b0fddd",
   "metadata": {},
   "outputs": [
    {
     "name": "stdout",
     "output_type": "stream",
     "text": [
      "Валентина\n",
      "Михаил\n"
     ]
    }
   ],
   "source": [
    "print_names('Валентина','Михаил')"
   ]
  },
  {
   "cell_type": "markdown",
   "id": "dce33f53",
   "metadata": {},
   "source": [
    "<div class=\"alert alert-danger\"> \n",
    " \n",
    "**Количество аргументов должно совпадать с количеством параметров:**  \n",
    "    \n",
    "</dev>"
   ]
  },
  {
   "cell_type": "code",
   "execution_count": 55,
   "id": "665ebc75",
   "metadata": {
    "scrolled": true
   },
   "outputs": [
    {
     "ename": "TypeError",
     "evalue": "print_names() missing 1 required positional argument: 'name2'",
     "output_type": "error",
     "traceback": [
      "\u001b[1;31m---------------------------------------------------------------------------\u001b[0m",
      "\u001b[1;31mTypeError\u001b[0m                                 Traceback (most recent call last)",
      "Cell \u001b[1;32mIn[55], line 1\u001b[0m\n\u001b[1;32m----> 1\u001b[0m print_names(\u001b[38;5;124m'\u001b[39m\u001b[38;5;124mЗоя\u001b[39m\u001b[38;5;124m'\u001b[39m)\n",
      "\u001b[1;31mTypeError\u001b[0m: print_names() missing 1 required positional argument: 'name2'"
     ]
    }
   ],
   "source": [
    "print_names('Зоя')"
   ]
  },
  {
   "cell_type": "markdown",
   "id": "4fd2f36b",
   "metadata": {},
   "source": [
    "<div class=\"alert alert-danger\"> \n",
    " \n",
    "**Порядок важен, так как нарушается логика работы программного кода внутри функции**  \n",
    "    \n",
    "</dev>"
   ]
  },
  {
   "cell_type": "code",
   "execution_count": 75,
   "id": "c0b35f46",
   "metadata": {},
   "outputs": [],
   "source": [
    "def calculate_fraction(x, y):\n",
    "    return x/(1-y)"
   ]
  },
  {
   "cell_type": "code",
   "execution_count": 76,
   "id": "c7ac29db",
   "metadata": {},
   "outputs": [
    {
     "data": {
      "text/plain": [
       "-1.0"
      ]
     },
     "execution_count": 76,
     "metadata": {},
     "output_type": "execute_result"
    }
   ],
   "source": [
    "calculate_fraction(1,2)"
   ]
  },
  {
   "cell_type": "code",
   "execution_count": 77,
   "id": "1233a1a3",
   "metadata": {},
   "outputs": [
    {
     "ename": "ZeroDivisionError",
     "evalue": "division by zero",
     "output_type": "error",
     "traceback": [
      "\u001b[1;31m---------------------------------------------------------------------------\u001b[0m",
      "\u001b[1;31mZeroDivisionError\u001b[0m                         Traceback (most recent call last)",
      "Cell \u001b[1;32mIn[77], line 1\u001b[0m\n\u001b[1;32m----> 1\u001b[0m calculate_fraction(\u001b[38;5;241m2\u001b[39m,\u001b[38;5;241m1\u001b[39m)\n",
      "Cell \u001b[1;32mIn[75], line 2\u001b[0m, in \u001b[0;36mcalculate_fraction\u001b[1;34m(x, y)\u001b[0m\n\u001b[0;32m      1\u001b[0m \u001b[38;5;28;01mdef\u001b[39;00m \u001b[38;5;21mcalculate_fraction\u001b[39m(x, y):\n\u001b[1;32m----> 2\u001b[0m     \u001b[38;5;28;01mreturn\u001b[39;00m x\u001b[38;5;241m/\u001b[39m(\u001b[38;5;241m1\u001b[39m\u001b[38;5;241m-\u001b[39my)\n",
      "\u001b[1;31mZeroDivisionError\u001b[0m: division by zero"
     ]
    }
   ],
   "source": [
    "calculate_fraction(2,1)"
   ]
  },
  {
   "cell_type": "markdown",
   "id": "67799252",
   "metadata": {},
   "source": [
    "Во втором случае значение **1** записалось в переменную **y** и при подстановке в дробь олучился 0, а на 0 делить нельзя -> ошибка."
   ]
  },
  {
   "cell_type": "code",
   "execution_count": null,
   "id": "0893e226",
   "metadata": {},
   "outputs": [],
   "source": []
  },
  {
   "cell_type": "code",
   "execution_count": null,
   "id": "348cbadd",
   "metadata": {},
   "outputs": [],
   "source": []
  },
  {
   "cell_type": "code",
   "execution_count": null,
   "id": "e0bfac4f",
   "metadata": {},
   "outputs": [],
   "source": []
  },
  {
   "cell_type": "markdown",
   "id": "379d2fd4",
   "metadata": {},
   "source": [
    "Простейшая функция: Hello, World!\n",
    "Функции в языке Python создаются при помощи ключевого слова def. Ниже приводится пример простейшей функции, которая выводит в консоль фразу «Hello, World!»:\n",
    "\n",
    "def say_hello():\n",
    "    print(\"Hello, World!\")\n",
    "Сразу после def идет имя функции, а после него в круглых скобках должны находиться аргументы для этой функции — в примере выше они не указаны. Аргументы, они же параметры, нужны для передачи функции каких-либо значений. Давайте перепишем функцию say_hello так, чтобы ей на вход можно было передать параметр в виде строки с приветствием:\n",
    "\n",
    "def say_hello(str):\n",
    "    print(str)\n",
    "Теперь, чтобы функция начала работать, надо просто написать:\n",
    "\n",
    "say_hello(\"Hello, World!\")\n",
    "Весь код этой программы выглядит так:\n",
    "\n",
    "def main(argv):\n",
    "    say_hello(\"Hello, World!\")\n",
    "def say_hello(str):\n",
    "    print(str)\n",
    "Функция main — это точка входа. Это самая главная функция, и с нее начинается выполнение всей программы. Далее рассмотрим пример посложнее.\n",
    "\n",
    "Високосный год \n",
    "Функции могут не только принимать на вход какие-то значения, но и возвращать результат обработки этих значений. В примере, который мы рассмотрим дальше, функция будет определять високосность года и возвращать True (Истина) или False (Ложь) в зависимости от результата. Код функции:\n",
    "\n",
    "def is_leap_year(year):\n",
    "    if (year % 4 == 0 and year % 100 != 0) or year % 400 == 0:\n",
    "      return True\n",
    "    else:\n",
    "      return False\n",
    "Но его можно упростить до такого вида:\n",
    "\n",
    "def is_leap_year(year):\n",
    "    return (year % 4 == 0 and year % 100 != 0) or year % 400 == 0\n",
    "Код проверяет, делится ли год нацело на 4, или 400, а также кратен ли он числу 100. Это довольно известный способ проверки года на високосность. Весь код примера:\n",
    "\n",
    "def main(argv):\n",
    "    year = int(input('Введите год: '))\n",
    "    if is_leap_year(year):\n",
    "      print('Год високосный.')\n",
    "    else:\n",
    "      print('Год не високосный.')\n",
    "def is_leap_year(year):\n",
    "    return (year % 4 == 0 and year % 100 != 0) or year % 400 == 0\n",
    "После того как введен номер года, он будет записан в переменную year. Переменная в качестве параметра передается функции is_leap_year, которая вызывается в условии оператора выбора if. В зависимости от истинности этого условия в консоли будет выведен тот или иной результат."
   ]
  },
  {
   "cell_type": "markdown",
   "id": "0c4fa2aa",
   "metadata": {},
   "source": []
  },
  {
   "cell_type": "code",
   "execution_count": null,
   "id": "4c8d9ba3",
   "metadata": {},
   "outputs": [],
   "source": []
  },
  {
   "cell_type": "code",
   "execution_count": null,
   "id": "d3329ddd",
   "metadata": {},
   "outputs": [],
   "source": []
  }
 ],
 "metadata": {
  "kernelspec": {
   "display_name": "Python 3 (ipykernel)",
   "language": "python",
   "name": "python3"
  },
  "language_info": {
   "codemirror_mode": {
    "name": "ipython",
    "version": 3
   },
   "file_extension": ".py",
   "mimetype": "text/x-python",
   "name": "python",
   "nbconvert_exporter": "python",
   "pygments_lexer": "ipython3",
   "version": "3.11.5"
  }
 },
 "nbformat": 4,
 "nbformat_minor": 5
}
